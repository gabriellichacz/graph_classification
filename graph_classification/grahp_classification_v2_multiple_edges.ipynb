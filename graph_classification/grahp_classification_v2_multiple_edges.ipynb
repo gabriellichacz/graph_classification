{
 "cells": [
  {
   "cell_type": "markdown",
   "metadata": {},
   "source": [
    "Biblioteki"
   ]
  },
  {
   "cell_type": "code",
   "execution_count": 1,
   "metadata": {},
   "outputs": [],
   "source": [
    "import os\n",
    "import numpy as np\n",
    "import matplotlib.pyplot as plt\n",
    "import tensorflow as tf\n",
    "from PIL import Image\n",
    "from tensorflow.keras.preprocessing.image import ImageDataGenerator\n",
    "from tensorflow.keras.preprocessing import image\n",
    "from keras.models import Sequential\n",
    "from keras.layers import Conv2D, MaxPooling2D, Flatten, Dense\n",
    "from keras.callbacks import ReduceLROnPlateau\n",
    "import shutil\n",
    "from sklearn.model_selection import train_test_split"
   ]
  },
  {
   "cell_type": "markdown",
   "metadata": {},
   "source": [
    "Ścieżki i wstępne ustawienia"
   ]
  },
  {
   "cell_type": "code",
   "execution_count": 2,
   "metadata": {},
   "outputs": [],
   "source": [
    "edge_count_list = ['4', '5', '6', '7']\n",
    "data_dir_model = 'graphs_all'\n",
    "train_dir = os.path.join(data_dir_model, 'train')\n",
    "validation_dir = os.path.join(data_dir_model, 'validation')\n",
    "\n",
    "# Sprawdź, czy katalogi istnieją, jeśli nie, stwórz je\n",
    "for directory in [data_dir_model, train_dir, validation_dir]:\n",
    "    if not os.path.exists(directory):\n",
    "        os.makedirs(directory)\n",
    "    else:\n",
    "        # Jeśli katalog nie jest pusty, wyczyść go\n",
    "        for file in os.listdir(directory):\n",
    "            file_path = os.path.join(directory, file)\n",
    "            try:\n",
    "                if os.path.isfile(file_path):\n",
    "                    os.unlink(file_path)\n",
    "                elif os.path.isdir(file_path): \n",
    "                    shutil.rmtree(file_path)\n",
    "            except Exception as e:\n",
    "                print(f'Nie udało się usunąć {file_path}. Powód: {e}')"
   ]
  },
  {
   "cell_type": "code",
   "execution_count": 3,
   "metadata": {},
   "outputs": [],
   "source": [
    "# Wielkość obrazów i wielkość partii\n",
    "img_height, img_width = 180, 180\n",
    "batch_size = 32"
   ]
  },
  {
   "cell_type": "code",
   "execution_count": 4,
   "metadata": {},
   "outputs": [],
   "source": [
    "for edge_count in edge_count_list:\n",
    "    data_dir_generated = '../graph_generator/' + edge_count\n",
    "\n",
    "    # Pobierz listę wszystkich katalogów z grafami\n",
    "    all_images_catalogs = os.listdir(data_dir_generated)\n",
    "\n",
    "    for catalog in all_images_catalogs:\n",
    "        catalog_path = os.path.join(data_dir_generated, catalog)\n",
    "        all_images = os.listdir(catalog_path)\n",
    "\n",
    "        # Podziel listę obrazów na zestawy treningowe i walidacyjne\n",
    "        train_images, validation_images = train_test_split(all_images, test_size=0.2, random_state=42)\n",
    "\n",
    "        # Stwórz katalogi dla każdej klasy\n",
    "        train_class_dir = os.path.join(train_dir, catalog)\n",
    "        validation_class_dir = os.path.join(validation_dir, catalog)\n",
    "        for directory in [train_class_dir, validation_class_dir]:\n",
    "            if not os.path.exists(directory):\n",
    "                os.makedirs(directory)\n",
    "\n",
    "        # Kopiuj obrazy do odpowiednich katalogów\n",
    "        for train_image in train_images:\n",
    "            shutil.copy(os.path.join(catalog_path, train_image), os.path.join(train_class_dir, train_image))\n",
    "\n",
    "        for validation_image in validation_images:\n",
    "            shutil.copy(os.path.join(catalog_path, validation_image), os.path.join(validation_class_dir, validation_image))"
   ]
  },
  {
   "cell_type": "markdown",
   "metadata": {},
   "source": [
    "Przenoszenie do katalogów"
   ]
  },
  {
   "cell_type": "code",
   "execution_count": 5,
   "metadata": {},
   "outputs": [],
   "source": [
    "# Pobierz listę wszystkich katalogów z grafami\n",
    "all_images_catalogs = os.listdir(data_dir_generated)\n",
    "\n",
    "for catalog in all_images_catalogs:\n",
    "    catalog_path = os.path.join(data_dir_generated, catalog)\n",
    "    all_images = os.listdir(catalog_path)\n",
    "\n",
    "    # Podziel listę obrazów na zestawy treningowe i walidacyjne\n",
    "    train_images, validation_images = train_test_split(all_images, test_size=0.2, random_state=42)\n",
    "\n",
    "    # Stwórz katalogi dla każdej klasy\n",
    "    train_class_dir = os.path.join(train_dir, catalog)\n",
    "    validation_class_dir = os.path.join(validation_dir, catalog)\n",
    "    for directory in [train_class_dir, validation_class_dir]:\n",
    "        if not os.path.exists(directory):\n",
    "            os.makedirs(directory)\n",
    "        else:\n",
    "            # Jeśli katalog nie jest pusty, wyczyść go\n",
    "            for file in os.listdir(directory):\n",
    "                os.remove(os.path.join(directory, file))\n",
    "\n",
    "    # Kopiuj obrazy do odpowiednich katalogów\n",
    "    for train_image in train_images:\n",
    "        shutil.copy(os.path.join(catalog_path, train_image), os.path.join(train_class_dir, train_image))\n",
    "\n",
    "    for validation_image in validation_images:\n",
    "        shutil.copy(os.path.join(catalog_path, validation_image), os.path.join(validation_class_dir, validation_image))"
   ]
  },
  {
   "cell_type": "code",
   "execution_count": 6,
   "metadata": {},
   "outputs": [],
   "source": [
    "def rgb_to_grayscale(images):\n",
    "    return tf.image.rgb_to_grayscale(images)"
   ]
  },
  {
   "cell_type": "markdown",
   "metadata": {},
   "source": [
    "Model"
   ]
  },
  {
   "cell_type": "code",
   "execution_count": 7,
   "metadata": {},
   "outputs": [
    {
     "name": "stdout",
     "output_type": "stream",
     "text": [
      "Found 640 files belonging to 4 classes.\n",
      "Found 160 files belonging to 4 classes.\n"
     ]
    }
   ],
   "source": [
    "# Generowanie danych treningowych\n",
    "train_ds = tf.keras.preprocessing.image_dataset_from_directory(\n",
    "  train_dir,\n",
    "  image_size=(img_height, img_width),\n",
    "  batch_size=batch_size)\n",
    "\n",
    "class_names = train_ds.class_names\n",
    "\n",
    "train_ds = train_ds.map(lambda x, y: (rgb_to_grayscale(x), y))\n",
    "\n",
    "# Generowanie danych walidacyjnych\n",
    "val_ds = tf.keras.preprocessing.image_dataset_from_directory(\n",
    "  validation_dir,\n",
    "  image_size=(img_height, img_width),\n",
    "  batch_size=batch_size)\n",
    "\n",
    "val_ds = val_ds.map(lambda x, y: (rgb_to_grayscale(x), y))\n",
    "\n",
    "# Tworzenie modelu\n",
    "model = tf.keras.models.Sequential([\n",
    "  tf.keras.layers.Rescaling(1./255),\n",
    "  tf.keras.layers.Conv2D(32, 3, activation='relu'),\n",
    "  tf.keras.layers.MaxPooling2D(),\n",
    "  tf.keras.layers.Conv2D(32, 3, activation='relu'),\n",
    "  tf.keras.layers.MaxPooling2D(),\n",
    "  tf.keras.layers.Conv2D(32, 3, activation='relu'),\n",
    "  tf.keras.layers.MaxPooling2D(),\n",
    "  tf.keras.layers.Flatten(),\n",
    "  tf.keras.layers.Dense(128, activation='relu'),\n",
    "  tf.keras.layers.Dense(len(class_names))\n",
    "])"
   ]
  },
  {
   "cell_type": "code",
   "execution_count": 8,
   "metadata": {},
   "outputs": [
    {
     "name": "stdout",
     "output_type": "stream",
     "text": [
      "Epoch 1/10\n",
      "\u001b[1m20/20\u001b[0m \u001b[32m━━━━━━━━━━━━━━━━━━━━\u001b[0m\u001b[37m\u001b[0m \u001b[1m8s\u001b[0m 145ms/step - accuracy: 0.2349 - loss: 1.5149 - val_accuracy: 0.5000 - val_loss: 1.3633\n",
      "Epoch 2/10\n",
      "\u001b[1m20/20\u001b[0m \u001b[32m━━━━━━━━━━━━━━━━━━━━\u001b[0m\u001b[37m\u001b[0m \u001b[1m3s\u001b[0m 131ms/step - accuracy: 0.4028 - loss: 1.2942 - val_accuracy: 0.7500 - val_loss: 0.6564\n",
      "Epoch 3/10\n",
      "\u001b[1m20/20\u001b[0m \u001b[32m━━━━━━━━━━━━━━━━━━━━\u001b[0m\u001b[37m\u001b[0m \u001b[1m3s\u001b[0m 128ms/step - accuracy: 0.8504 - loss: 0.4321 - val_accuracy: 0.9812 - val_loss: 0.1550\n",
      "Epoch 4/10\n",
      "\u001b[1m20/20\u001b[0m \u001b[32m━━━━━━━━━━━━━━━━━━━━\u001b[0m\u001b[37m\u001b[0m \u001b[1m3s\u001b[0m 129ms/step - accuracy: 0.9733 - loss: 0.1116 - val_accuracy: 0.9750 - val_loss: 0.0836\n",
      "Epoch 5/10\n",
      "\u001b[1m20/20\u001b[0m \u001b[32m━━━━━━━━━━━━━━━━━━━━\u001b[0m\u001b[37m\u001b[0m \u001b[1m3s\u001b[0m 128ms/step - accuracy: 0.9871 - loss: 0.0613 - val_accuracy: 0.9937 - val_loss: 0.0399\n",
      "Epoch 6/10\n",
      "\u001b[1m20/20\u001b[0m \u001b[32m━━━━━━━━━━━━━━━━━━━━\u001b[0m\u001b[37m\u001b[0m \u001b[1m3s\u001b[0m 132ms/step - accuracy: 0.9975 - loss: 0.0200 - val_accuracy: 1.0000 - val_loss: 0.0117\n",
      "Epoch 7/10\n",
      "\u001b[1m20/20\u001b[0m \u001b[32m━━━━━━━━━━━━━━━━━━━━\u001b[0m\u001b[37m\u001b[0m \u001b[1m3s\u001b[0m 131ms/step - accuracy: 0.9913 - loss: 0.0317 - val_accuracy: 1.0000 - val_loss: 0.0079\n",
      "Epoch 8/10\n",
      "\u001b[1m20/20\u001b[0m \u001b[32m━━━━━━━━━━━━━━━━━━━━\u001b[0m\u001b[37m\u001b[0m \u001b[1m3s\u001b[0m 128ms/step - accuracy: 0.9848 - loss: 0.0566 - val_accuracy: 0.9312 - val_loss: 0.1771\n",
      "Epoch 9/10\n",
      "\u001b[1m20/20\u001b[0m \u001b[32m━━━━━━━━━━━━━━━━━━━━\u001b[0m\u001b[37m\u001b[0m \u001b[1m3s\u001b[0m 128ms/step - accuracy: 0.9833 - loss: 0.0643 - val_accuracy: 0.9875 - val_loss: 0.0305\n",
      "Epoch 10/10\n",
      "\u001b[1m20/20\u001b[0m \u001b[32m━━━━━━━━━━━━━━━━━━━━\u001b[0m\u001b[37m\u001b[0m \u001b[1m3s\u001b[0m 128ms/step - accuracy: 0.9926 - loss: 0.0207 - val_accuracy: 0.9937 - val_loss: 0.0263\n"
     ]
    }
   ],
   "source": [
    "# Kompilacja modelu\n",
    "model.compile(\n",
    "  optimizer='adam',\n",
    "  loss=tf.losses.SparseCategoricalCrossentropy(from_logits=True),\n",
    "  metrics=['accuracy'])\n",
    "\n",
    "# Trenowanie modelu\n",
    "history = model.fit(\n",
    "  train_ds,\n",
    "  validation_data=val_ds,\n",
    "  epochs=10\n",
    ")"
   ]
  },
  {
   "cell_type": "code",
   "execution_count": 9,
   "metadata": {},
   "outputs": [
    {
     "name": "stdout",
     "output_type": "stream",
     "text": [
      "Dokładność na zbiorze treningowym:  [0.24531249701976776, 0.5234375, 0.8984375, 0.971875011920929, 0.9937499761581421, 0.9921875, 0.984375, 0.956250011920929, 0.989062488079071, 0.995312511920929]\n",
      "Dokładność na zbiorze walidacyjnym:  [0.5, 0.75, 0.981249988079071, 0.9750000238418579, 0.9937499761581421, 1.0, 1.0, 0.9312499761581421, 0.987500011920929, 0.9937499761581421]\n"
     ]
    }
   ],
   "source": [
    "# Wyświetlanie dokładności na zbiorze treningowym i walidacyjnym\n",
    "acc = history.history['accuracy']\n",
    "val_acc = history.history['val_accuracy']\n",
    "print(\"Dokładność na zbiorze treningowym: \", acc)\n",
    "print(\"Dokładność na zbiorze walidacyjnym: \", val_acc)"
   ]
  },
  {
   "cell_type": "code",
   "execution_count": 10,
   "metadata": {},
   "outputs": [
    {
     "data": {
      "image/png": "[encoded data removed]",
      "text/plain": [
       "<Figure size 1200x400 with 2 Axes>"
      ]
     },
     "metadata": {},
     "output_type": "display_data"
    }
   ],
   "source": [
    "# Wykres dokładności\n",
    "plt.figure(figsize=(12, 4))\n",
    "plt.subplot(1, 2, 1)\n",
    "plt.plot(history.history['accuracy'], label='Dokładność (trening)')\n",
    "plt.plot(history.history['val_accuracy'], label='Dokładność (walidacja)')\n",
    "plt.legend(loc='lower right')\n",
    "plt.title('Dokładność modelu')\n",
    "\n",
    "# Wykres straty\n",
    "plt.subplot(1, 2, 2)\n",
    "plt.plot(history.history['loss'], label='Strata (trening)')\n",
    "plt.plot(history.history['val_loss'], label='Strata (walidacja)')\n",
    "plt.legend(loc='upper right')\n",
    "plt.title('Strata modelu')\n",
    "\n",
    "plt.show()"
   ]
  },
  {
   "cell_type": "code",
   "execution_count": 11,
   "metadata": {},
   "outputs": [],
   "source": [
    "def get_image_filenames(folder):\n",
    "    filenames = []\n",
    "    for filename in os.listdir(folder):\n",
    "        if filename.endswith(\".jpg\") or filename.endswith(\".png\"): # Add or modify to suit your image file types\n",
    "            filenames.append(filename)\n",
    "    return filenames"
   ]
  },
  {
   "cell_type": "code",
   "execution_count": 19,
   "metadata": {},
   "outputs": [
    {
     "data": {
      "text/plain": [
       "['test_graphs\\\\drawn\\\\connected-drawn-1.png',\n",
       " 'test_graphs\\\\drawn\\\\cycle-drawn-1.png',\n",
       " 'test_graphs\\\\drawn\\\\full-drawn-1.jpg',\n",
       " 'test_graphs\\\\drawn\\\\full-drawn-2.jpg',\n",
       " 'test_graphs\\\\drawn\\\\full-drawn-3.png',\n",
       " 'test_graphs\\\\drawn\\\\path-drawn-1.png',\n",
       " 'test_graphs\\\\drawn\\\\path-drawn-2.png',\n",
       " 'test_graphs\\\\drawn\\\\path-drawn-3.png',\n",
       " 'test_graphs\\\\generated\\\\cycle-45.png',\n",
       " 'test_graphs\\\\generated\\\\full-113.png',\n",
       " 'test_graphs\\\\generated\\\\path-78.png',\n",
       " 'test_graphs\\\\generated\\\\rest-directed-9.png',\n",
       " 'test_graphs\\\\generated\\\\unlabeled_undirected-24.png',\n",
       " 'test_graphs\\\\internet\\\\internet-cycle-1.png',\n",
       " 'test_graphs\\\\internet\\\\internet-full-1.jpg',\n",
       " 'test_graphs\\\\internet\\\\internet-full-2.jpg']"
      ]
     },
     "execution_count": 19,
     "metadata": {},
     "output_type": "execute_result"
    }
   ],
   "source": [
    "# Zmieniamy funkcję, aby przeszukiwała również podkatalogi\n",
    "def get_image_filenames(directory):\n",
    "    return [os.path.join(root, name)\n",
    "            for root, dirs, files in os.walk(directory)\n",
    "            for name in files\n",
    "            if name.endswith((\".png\", \".jpg\", \".jpeg\"))]\n",
    "\n",
    "# Ścieżka do obrazu, który chcesz przetestować\n",
    "test_photo_path = 'test_graphs'\n",
    "\n",
    "test_photos = get_image_filenames(test_photo_path)\n",
    "test_photos"
   ]
  },
  {
   "cell_type": "code",
   "execution_count": 22,
   "metadata": {},
   "outputs": [
    {
     "name": "stdout",
     "output_type": "stream",
     "text": [
      "\u001b[1m1/1\u001b[0m \u001b[32m━━━━━━━━━━━━━━━━━━━━\u001b[0m\u001b[37m\u001b[0m \u001b[1m0s\u001b[0m 58ms/step\n",
      "|- test_graphs\\drawn\\connected-drawn-1.png -| najprawdopodobniej należy do klasy |- full -| z prawdopodobieństwem 48.74 procent.\n",
      "\u001b[1m1/1\u001b[0m \u001b[32m━━━━━━━━━━━━━━━━━━━━\u001b[0m\u001b[37m\u001b[0m \u001b[1m0s\u001b[0m 29ms/step\n",
      "|- test_graphs\\drawn\\cycle-drawn-1.png -| najprawdopodobniej należy do klasy |- full -| z prawdopodobieństwem 37.04 procent.\n",
      "\u001b[1m1/1\u001b[0m \u001b[32m━━━━━━━━━━━━━━━━━━━━\u001b[0m\u001b[37m\u001b[0m \u001b[1m0s\u001b[0m 20ms/step\n",
      "|- test_graphs\\drawn\\full-drawn-1.jpg -| najprawdopodobniej należy do klasy |- full -| z prawdopodobieństwem 94.13 procent.\n",
      "\u001b[1m1/1\u001b[0m \u001b[32m━━━━━━━━━━━━━━━━━━━━\u001b[0m\u001b[37m\u001b[0m \u001b[1m0s\u001b[0m 18ms/step\n",
      "|- test_graphs\\drawn\\full-drawn-2.jpg -| najprawdopodobniej należy do klasy |- full -| z prawdopodobieństwem 99.14 procent.\n",
      "\u001b[1m1/1\u001b[0m \u001b[32m━━━━━━━━━━━━━━━━━━━━\u001b[0m\u001b[37m\u001b[0m \u001b[1m0s\u001b[0m 19ms/step\n",
      "|- test_graphs\\drawn\\full-drawn-3.png -| najprawdopodobniej należy do klasy |- full -| z prawdopodobieństwem 100.00 procent.\n",
      "\u001b[1m1/1\u001b[0m \u001b[32m━━━━━━━━━━━━━━━━━━━━\u001b[0m\u001b[37m\u001b[0m \u001b[1m0s\u001b[0m 18ms/step\n",
      "|- test_graphs\\drawn\\path-drawn-1.png -| najprawdopodobniej należy do klasy |- connected -| z prawdopodobieństwem 98.94 procent.\n",
      "\u001b[1m1/1\u001b[0m \u001b[32m━━━━━━━━━━━━━━━━━━━━\u001b[0m\u001b[37m\u001b[0m \u001b[1m0s\u001b[0m 18ms/step\n",
      "|- test_graphs\\drawn\\path-drawn-2.png -| najprawdopodobniej należy do klasy |- connected -| z prawdopodobieństwem 99.69 procent.\n",
      "\u001b[1m1/1\u001b[0m \u001b[32m━━━━━━━━━━━━━━━━━━━━\u001b[0m\u001b[37m\u001b[0m \u001b[1m0s\u001b[0m 19ms/step\n",
      "|- test_graphs\\drawn\\path-drawn-3.png -| najprawdopodobniej należy do klasy |- connected -| z prawdopodobieństwem 99.96 procent.\n",
      "\u001b[1m1/1\u001b[0m \u001b[32m━━━━━━━━━━━━━━━━━━━━\u001b[0m\u001b[37m\u001b[0m \u001b[1m0s\u001b[0m 19ms/step\n",
      "|- test_graphs\\generated\\cycle-45.png -| najprawdopodobniej należy do klasy |- cycle -| z prawdopodobieństwem 99.20 procent.\n",
      "\u001b[1m1/1\u001b[0m \u001b[32m━━━━━━━━━━━━━━━━━━━━\u001b[0m\u001b[37m\u001b[0m \u001b[1m0s\u001b[0m 20ms/step\n",
      "|- test_graphs\\generated\\full-113.png -| najprawdopodobniej należy do klasy |- connected -| z prawdopodobieństwem 99.89 procent.\n",
      "\u001b[1m1/1\u001b[0m \u001b[32m━━━━━━━━━━━━━━━━━━━━\u001b[0m\u001b[37m\u001b[0m \u001b[1m0s\u001b[0m 19ms/step\n",
      "|- test_graphs\\generated\\path-78.png -| najprawdopodobniej należy do klasy |- path -| z prawdopodobieństwem 99.97 procent.\n",
      "\u001b[1m1/1\u001b[0m \u001b[32m━━━━━━━━━━━━━━━━━━━━\u001b[0m\u001b[37m\u001b[0m \u001b[1m0s\u001b[0m 19ms/step\n",
      "|- test_graphs\\generated\\rest-directed-9.png -| najprawdopodobniej należy do klasy |- full -| z prawdopodobieństwem 100.00 procent.\n",
      "\u001b[1m1/1\u001b[0m \u001b[32m━━━━━━━━━━━━━━━━━━━━\u001b[0m\u001b[37m\u001b[0m \u001b[1m0s\u001b[0m 28ms/step\n",
      "|- test_graphs\\generated\\unlabeled_undirected-24.png -| najprawdopodobniej należy do klasy |- cycle -| z prawdopodobieństwem 95.56 procent.\n",
      "\u001b[1m1/1\u001b[0m \u001b[32m━━━━━━━━━━━━━━━━━━━━\u001b[0m\u001b[37m\u001b[0m \u001b[1m0s\u001b[0m 19ms/step\n",
      "|- test_graphs\\internet\\internet-cycle-1.png -| najprawdopodobniej należy do klasy |- cycle -| z prawdopodobieństwem 99.98 procent.\n",
      "\u001b[1m1/1\u001b[0m \u001b[32m━━━━━━━━━━━━━━━━━━━━\u001b[0m\u001b[37m\u001b[0m \u001b[1m0s\u001b[0m 18ms/step\n",
      "|- test_graphs\\internet\\internet-full-1.jpg -| najprawdopodobniej należy do klasy |- connected -| z prawdopodobieństwem 99.83 procent.\n",
      "\u001b[1m1/1\u001b[0m \u001b[32m━━━━━━━━━━━━━━━━━━━━\u001b[0m\u001b[37m\u001b[0m \u001b[1m0s\u001b[0m 20ms/step\n",
      "|- test_graphs\\internet\\internet-full-2.jpg -| najprawdopodobniej należy do klasy |- cycle -| z prawdopodobieństwem 80.67 procent.\n"
     ]
    }
   ],
   "source": [
    "for test_photo in test_photos:\n",
    "    # Wybór obrazka testowego\n",
    "    image_path = test_photo\n",
    "\n",
    "    # Wczytanie obrazu i dostosowanie go do odpowiedniego rozmiaru\n",
    "    img = tf.keras.preprocessing.image.load_img(image_path, target_size=(img_height, img_width))\n",
    "    img_array = tf.keras.preprocessing.image.img_to_array(img)\n",
    "    \n",
    "    # Przekształć obraz do skali szarości\n",
    "    img_array = rgb_to_grayscale(img_array)\n",
    "    # Rozszerz wymiary obrazu\n",
    "    img_array = tf.expand_dims(img_array, 0)\n",
    "\n",
    "    # Przewidywanie klasy obrazu\n",
    "    predictions = model.predict(img_array)\n",
    "    score = tf.nn.softmax(predictions[0])\n",
    "\n",
    "    print(\n",
    "        \"|- {} -| najprawdopodobniej należy do klasy |- {} -| z prawdopodobieństwem {:.2f} procent.\"\n",
    "        .format(test_photo, class_names[np.argmax(score)], 100 * np.max(score))\n",
    "    )"
   ]
  }
 ],
 "metadata": {
  "kernelspec": {
   "display_name": "env",
   "language": "python",
   "name": "python3"
  },
  "language_info": {
   "codemirror_mode": {
    "name": "ipython",
    "version": 3
   },
   "file_extension": ".py",
   "mimetype": "text/x-python",
   "name": "python",
   "nbconvert_exporter": "python",
   "pygments_lexer": "ipython3",
   "version": "3.10.5"
  }
 },
 "nbformat": 4,
 "nbformat_minor": 2
}
