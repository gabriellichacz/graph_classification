{
 "cells": [
  {
   "cell_type": "markdown",
   "metadata": {},
   "source": [
    "Biblioteki"
   ]
  },
  {
   "cell_type": "code",
   "execution_count": 1,
   "metadata": {},
   "outputs": [],
   "source": [
    "import os\n",
    "import numpy as np\n",
    "import matplotlib.pyplot as plt\n",
    "import tensorflow as tf\n",
    "from PIL import Image\n",
    "from tensorflow.keras.preprocessing.image import ImageDataGenerator\n",
    "from tensorflow.keras.preprocessing import image\n",
    "from keras.models import Sequential\n",
    "from keras.layers import Conv2D, MaxPooling2D, Flatten, Dense\n",
    "from keras.callbacks import ReduceLROnPlateau\n",
    "import shutil\n",
    "from sklearn.model_selection import train_test_split"
   ]
  },
  {
   "cell_type": "markdown",
   "metadata": {},
   "source": [
    "Ścieżki i wstępne ustawienia"
   ]
  },
  {
   "cell_type": "code",
   "execution_count": 2,
   "metadata": {},
   "outputs": [],
   "source": [
    "# Ścieżka do katalogu z obrazami\n",
    "edge_count = '4' # tu do zmiany liczba wierzchołków do nauki modelu\n",
    "data_dir_generated = '../graph_generator/' + edge_count\n",
    "data_dir_model = 'graphs'\n",
    "train_dir = os.path.join(data_dir_model, 'train')\n",
    "validation_dir = os.path.join(data_dir_model, 'validation')\n",
    "\n",
    "# Sprawdź, czy katalogi istnieją, jeśli nie, stwórz je\n",
    "for directory in [data_dir_model, train_dir, validation_dir]:\n",
    "    if not os.path.exists(directory):\n",
    "        os.makedirs(directory)\n",
    "\n",
    "# Wielkość obrazów i wielkość partii\n",
    "img_height, img_width = 180, 180\n",
    "batch_size = 32"
   ]
  },
  {
   "cell_type": "markdown",
   "metadata": {},
   "source": [
    "Przenoszenie do katalogów"
   ]
  },
  {
   "cell_type": "code",
   "execution_count": 3,
   "metadata": {},
   "outputs": [],
   "source": [
    "# Pobierz listę wszystkich katalogów z grafami\n",
    "all_images_catalogs = os.listdir(data_dir_generated)\n",
    "\n",
    "for catalog in all_images_catalogs:\n",
    "    catalog_path = os.path.join(data_dir_generated, catalog)\n",
    "    all_images = os.listdir(catalog_path)\n",
    "\n",
    "    # Podziel listę obrazów na zestawy treningowe i walidacyjne\n",
    "    train_images, validation_images = train_test_split(all_images, test_size=0.2, random_state=42)\n",
    "\n",
    "    # Stwórz katalogi dla każdej klasy\n",
    "    train_class_dir = os.path.join(train_dir, catalog)\n",
    "    validation_class_dir = os.path.join(validation_dir, catalog)\n",
    "    for directory in [train_class_dir, validation_class_dir]:\n",
    "        if not os.path.exists(directory):\n",
    "            os.makedirs(directory)\n",
    "        else:\n",
    "            # Jeśli katalog nie jest pusty, wyczyść go\n",
    "            for file in os.listdir(directory):\n",
    "                os.remove(os.path.join(directory, file))\n",
    "\n",
    "    # Kopiuj obrazy do odpowiednich katalogów\n",
    "    for train_image in train_images:\n",
    "        shutil.copy(os.path.join(catalog_path, train_image), os.path.join(train_class_dir, train_image))\n",
    "\n",
    "    for validation_image in validation_images:\n",
    "        shutil.copy(os.path.join(catalog_path, validation_image), os.path.join(validation_class_dir, validation_image))"
   ]
  },
  {
   "cell_type": "code",
   "execution_count": 4,
   "metadata": {},
   "outputs": [],
   "source": [
    "def rgb_to_grayscale(images):\n",
    "    return tf.image.rgb_to_grayscale(images)"
   ]
  },
  {
   "cell_type": "markdown",
   "metadata": {},
   "source": [
    "Model"
   ]
  },
  {
   "cell_type": "code",
   "execution_count": 5,
   "metadata": {},
   "outputs": [
    {
     "name": "stdout",
     "output_type": "stream",
     "text": [
      "Found 1760 files belonging to 5 classes.\n",
      "Found 440 files belonging to 5 classes.\n"
     ]
    }
   ],
   "source": [
    "# Generowanie danych treningowych\n",
    "train_ds = tf.keras.preprocessing.image_dataset_from_directory(\n",
    "  train_dir,\n",
    "  image_size=(img_height, img_width),\n",
    "  batch_size=batch_size)\n",
    "\n",
    "class_names = train_ds.class_names\n",
    "\n",
    "train_ds = train_ds.map(lambda x, y: (rgb_to_grayscale(x), y))\n",
    "\n",
    "# Generowanie danych walidacyjnych\n",
    "val_ds = tf.keras.preprocessing.image_dataset_from_directory(\n",
    "  validation_dir,\n",
    "  image_size=(img_height, img_width),\n",
    "  batch_size=batch_size)\n",
    "\n",
    "val_ds = val_ds.map(lambda x, y: (rgb_to_grayscale(x), y))\n",
    "\n",
    "# Tworzenie modelu\n",
    "model = tf.keras.models.Sequential([\n",
    "  tf.keras.layers.Rescaling(1./255),\n",
    "  tf.keras.layers.Conv2D(32, 3, activation='relu'),\n",
    "  tf.keras.layers.MaxPooling2D(),\n",
    "  tf.keras.layers.Conv2D(32, 3, activation='relu'),\n",
    "  tf.keras.layers.MaxPooling2D(),\n",
    "  tf.keras.layers.Conv2D(32, 3, activation='relu'),\n",
    "  tf.keras.layers.MaxPooling2D(),\n",
    "  tf.keras.layers.Flatten(),\n",
    "  tf.keras.layers.Dense(128, activation='relu', kernel_regularizer=tf.keras.regularizers.l2(0.01)),\n",
    "  tf.keras.layers.Dropout(0.2),\n",
    "  tf.keras.layers.Dense(len(class_names))\n",
    "])"
   ]
  },
  {
   "cell_type": "code",
   "execution_count": 6,
   "metadata": {},
   "outputs": [
    {
     "name": "stdout",
     "output_type": "stream",
     "text": [
      "Epoch 1/10\n",
      "\u001b[1m55/55\u001b[0m \u001b[32m━━━━━━━━━━━━━━━━━━━━\u001b[0m\u001b[37m\u001b[0m \u001b[1m31s\u001b[0m 499ms/step - accuracy: 0.2344 - loss: 2.5847 - val_accuracy: 0.7386 - val_loss: 1.2485\n",
      "Epoch 2/10\n",
      "\u001b[1m55/55\u001b[0m \u001b[32m━━━━━━━━━━━━━━━━━━━━\u001b[0m\u001b[37m\u001b[0m \u001b[1m23s\u001b[0m 408ms/step - accuracy: 0.7171 - loss: 1.0030 - val_accuracy: 0.8773 - val_loss: 0.6243\n",
      "Epoch 3/10\n",
      "\u001b[1m55/55\u001b[0m \u001b[32m━━━━━━━━━━━━━━━━━━━━\u001b[0m\u001b[37m\u001b[0m \u001b[1m22s\u001b[0m 395ms/step - accuracy: 0.8672 - loss: 0.6521 - val_accuracy: 0.9136 - val_loss: 0.5649\n",
      "Epoch 4/10\n",
      "\u001b[1m55/55\u001b[0m \u001b[32m━━━━━━━━━━━━━━━━━━━━\u001b[0m\u001b[37m\u001b[0m \u001b[1m22s\u001b[0m 394ms/step - accuracy: 0.8877 - loss: 0.5925 - val_accuracy: 0.9250 - val_loss: 0.4597\n",
      "Epoch 5/10\n",
      "\u001b[1m55/55\u001b[0m \u001b[32m━━━━━━━━━━━━━━━━━━━━\u001b[0m\u001b[37m\u001b[0m \u001b[1m22s\u001b[0m 394ms/step - accuracy: 0.9160 - loss: 0.4842 - val_accuracy: 0.8977 - val_loss: 0.5099\n",
      "Epoch 6/10\n",
      "\u001b[1m55/55\u001b[0m \u001b[32m━━━━━━━━━━━━━━━━━━━━\u001b[0m\u001b[37m\u001b[0m \u001b[1m23s\u001b[0m 400ms/step - accuracy: 0.9156 - loss: 0.4663 - val_accuracy: 0.9409 - val_loss: 0.4391\n",
      "Epoch 7/10\n",
      "\u001b[1m55/55\u001b[0m \u001b[32m━━━━━━━━━━━━━━━━━━━━\u001b[0m\u001b[37m\u001b[0m \u001b[1m23s\u001b[0m 401ms/step - accuracy: 0.9192 - loss: 0.4168 - val_accuracy: 0.9500 - val_loss: 0.3834\n",
      "Epoch 8/10\n",
      "\u001b[1m55/55\u001b[0m \u001b[32m━━━━━━━━━━━━━━━━━━━━\u001b[0m\u001b[37m\u001b[0m \u001b[1m23s\u001b[0m 399ms/step - accuracy: 0.9385 - loss: 0.3632 - val_accuracy: 0.9455 - val_loss: 0.3823\n",
      "Epoch 9/10\n",
      "\u001b[1m55/55\u001b[0m \u001b[32m━━━━━━━━━━━━━━━━━━━━\u001b[0m\u001b[37m\u001b[0m \u001b[1m23s\u001b[0m 404ms/step - accuracy: 0.9379 - loss: 0.3771 - val_accuracy: 0.9545 - val_loss: 0.3929\n",
      "Epoch 10/10\n",
      "\u001b[1m55/55\u001b[0m \u001b[32m━━━━━━━━━━━━━━━━━━━━\u001b[0m\u001b[37m\u001b[0m \u001b[1m23s\u001b[0m 400ms/step - accuracy: 0.9480 - loss: 0.3436 - val_accuracy: 0.9364 - val_loss: 0.3933\n"
     ]
    }
   ],
   "source": [
    "# Kompilacja modelu\n",
    "model.compile(\n",
    "  optimizer='adam',\n",
    "  loss=tf.losses.SparseCategoricalCrossentropy(from_logits=True),\n",
    "  metrics=['accuracy'])\n",
    "\n",
    "# Trenowanie modelu\n",
    "history = model.fit(\n",
    "  train_ds,\n",
    "  validation_data=val_ds,\n",
    "  epochs=75\n",
    ")"
   ]
  },
  {
   "cell_type": "code",
   "execution_count": 7,
   "metadata": {},
   "outputs": [
    {
     "name": "stdout",
     "output_type": "stream",
     "text": [
      "Dokładność na zbiorze treningowym:  [0.2920454442501068, 0.768750011920929, 0.8505681753158569, 0.8897727131843567, 0.9073863625526428, 0.9090909361839294, 0.918181836605072, 0.9215909242630005, 0.9227272868156433, 0.9403409361839294]\n",
      "Dokładność na zbiorze walidacyjnym:  [0.7386363744735718, 0.8772727251052856, 0.9136363863945007, 0.925000011920929, 0.8977272510528564, 0.9409090876579285, 0.949999988079071, 0.9454545378684998, 0.9545454382896423, 0.9363636374473572]\n"
     ]
    }
   ],
   "source": [
    "# Wyświetlanie dokładności na zbiorze treningowym i walidacyjnym\n",
    "acc = history.history['accuracy']\n",
    "val_acc = history.history['val_accuracy']\n",
    "print(\"Dokładność na zbiorze treningowym: \", acc)\n",
    "print(\"Dokładność na zbiorze walidacyjnym: \", val_acc)"
   ]
  },
  {
   "cell_type": "code",
   "execution_count": 8,
   "metadata": {},
   "outputs": [
    {
     "data": {
      "image/png": "[encoded data removed]",
      "text/plain": [
       "<Figure size 1200x400 with 2 Axes>"
      ]
     },
     "metadata": {},
     "output_type": "display_data"
    }
   ],
   "source": [
    "# Wykres dokładności\n",
    "plt.figure(figsize=(12, 4))\n",
    "plt.subplot(1, 2, 1)\n",
    "plt.plot(history.history['accuracy'], label='Dokładność (trening)')\n",
    "plt.plot(history.history['val_accuracy'], label='Dokładność (walidacja)')\n",
    "plt.legend(loc='lower right')\n",
    "plt.title('Dokładność modelu')\n",
    "\n",
    "# Wykres straty\n",
    "plt.subplot(1, 2, 2)\n",
    "plt.plot(history.history['loss'], label='Strata (trening)')\n",
    "plt.plot(history.history['val_loss'], label='Strata (walidacja)')\n",
    "plt.legend(loc='upper right')\n",
    "plt.title('Strata modelu')\n",
    "\n",
    "plt.show()"
   ]
  },
  {
   "cell_type": "code",
   "execution_count": 9,
   "metadata": {},
   "outputs": [],
   "source": [
    "def get_image_filenames(folder):\n",
    "    filenames = []\n",
    "    for filename in os.listdir(folder):\n",
    "        if filename.endswith(\".jpg\") or filename.endswith(\".png\"): # Add or modify to suit your image file types\n",
    "            filenames.append(filename)\n",
    "    return filenames"
   ]
  },
  {
   "cell_type": "code",
   "execution_count": 10,
   "metadata": {},
   "outputs": [
    {
     "data": {
      "text/plain": [
       "['test_graphs\\\\rest-directed-2.png',\n",
       " 'test_graphs\\\\unlabeled_undirected-4.png',\n",
       " 'test_graphs\\\\drawn\\\\connected-drawn-1.png',\n",
       " 'test_graphs\\\\drawn\\\\cycle-drawn-1.png',\n",
       " 'test_graphs\\\\drawn\\\\full-drawn-1.jpg',\n",
       " 'test_graphs\\\\drawn\\\\full-drawn-2.jpg',\n",
       " 'test_graphs\\\\drawn\\\\full-drawn-3.png',\n",
       " 'test_graphs\\\\drawn\\\\path-drawn-1.png',\n",
       " 'test_graphs\\\\drawn\\\\path-drawn-2.png',\n",
       " 'test_graphs\\\\drawn\\\\path-drawn-3.png',\n",
       " 'test_graphs\\\\generated\\\\cycle-45.png',\n",
       " 'test_graphs\\\\generated\\\\full-113.png',\n",
       " 'test_graphs\\\\generated\\\\path-78.png',\n",
       " 'test_graphs\\\\internet\\\\internet-cycle-1.png',\n",
       " 'test_graphs\\\\internet\\\\internet-full-1.jpg',\n",
       " 'test_graphs\\\\internet\\\\internet-full-2.jpg']"
      ]
     },
     "execution_count": 10,
     "metadata": {},
     "output_type": "execute_result"
    }
   ],
   "source": [
    "# Zmieniamy funkcję, aby przeszukiwała również podkatalogi\n",
    "def get_image_filenames(directory):\n",
    "    return [os.path.join(root, name)\n",
    "            for root, dirs, files in os.walk(directory)\n",
    "            for name in files\n",
    "            if name.endswith((\".png\", \".jpg\", \".jpeg\"))]\n",
    "\n",
    "# Ścieżka do obrazu, który chcesz przetestować\n",
    "test_photo_path = 'test_graphs'\n",
    "\n",
    "test_photos = get_image_filenames(test_photo_path)\n",
    "test_photos"
   ]
  },
  {
   "cell_type": "code",
   "execution_count": 11,
   "metadata": {},
   "outputs": [
    {
     "name": "stdout",
     "output_type": "stream",
     "text": [
      "\u001b[1m1/1\u001b[0m \u001b[32m━━━━━━━━━━━━━━━━━━━━\u001b[0m\u001b[37m\u001b[0m \u001b[1m0s\u001b[0m 120ms/step\n",
      "|- test_graphs\\rest-directed-2.png -| najprawdopodobniej należy do klasy |- connected -| z prawdopodobieństwem 100.00 procent.\n",
      "\u001b[1m1/1\u001b[0m \u001b[32m━━━━━━━━━━━━━━━━━━━━\u001b[0m\u001b[37m\u001b[0m \u001b[1m0s\u001b[0m 41ms/step\n",
      "|- test_graphs\\unlabeled_undirected-4.png -| najprawdopodobniej należy do klasy |- connected -| z prawdopodobieństwem 99.39 procent.\n",
      "\u001b[1m1/1\u001b[0m \u001b[32m━━━━━━━━━━━━━━━━━━━━\u001b[0m\u001b[37m\u001b[0m \u001b[1m0s\u001b[0m 40ms/step\n",
      "|- test_graphs\\drawn\\connected-drawn-1.png -| najprawdopodobniej należy do klasy |- connected -| z prawdopodobieństwem 68.26 procent.\n",
      "\u001b[1m1/1\u001b[0m \u001b[32m━━━━━━━━━━━━━━━━━━━━\u001b[0m\u001b[37m\u001b[0m \u001b[1m0s\u001b[0m 40ms/step\n",
      "|- test_graphs\\drawn\\cycle-drawn-1.png -| najprawdopodobniej należy do klasy |- connected -| z prawdopodobieństwem 92.57 procent.\n",
      "\u001b[1m1/1\u001b[0m \u001b[32m━━━━━━━━━━━━━━━━━━━━\u001b[0m\u001b[37m\u001b[0m \u001b[1m0s\u001b[0m 37ms/step\n",
      "|- test_graphs\\drawn\\full-drawn-1.jpg -| najprawdopodobniej należy do klasy |- connected -| z prawdopodobieństwem 99.96 procent.\n",
      "\u001b[1m1/1\u001b[0m \u001b[32m━━━━━━━━━━━━━━━━━━━━\u001b[0m\u001b[37m\u001b[0m \u001b[1m0s\u001b[0m 30ms/step\n",
      "|- test_graphs\\drawn\\full-drawn-2.jpg -| najprawdopodobniej należy do klasy |- connected -| z prawdopodobieństwem 98.99 procent.\n",
      "\u001b[1m1/1\u001b[0m \u001b[32m━━━━━━━━━━━━━━━━━━━━\u001b[0m\u001b[37m\u001b[0m \u001b[1m0s\u001b[0m 60ms/step\n",
      "|- test_graphs\\drawn\\full-drawn-3.png -| najprawdopodobniej należy do klasy |- connected -| z prawdopodobieństwem 100.00 procent.\n",
      "\u001b[1m1/1\u001b[0m \u001b[32m━━━━━━━━━━━━━━━━━━━━\u001b[0m\u001b[37m\u001b[0m \u001b[1m0s\u001b[0m 40ms/step\n",
      "|- test_graphs\\drawn\\path-drawn-1.png -| najprawdopodobniej należy do klasy |- connected -| z prawdopodobieństwem 99.99 procent.\n",
      "\u001b[1m1/1\u001b[0m \u001b[32m━━━━━━━━━━━━━━━━━━━━\u001b[0m\u001b[37m\u001b[0m \u001b[1m0s\u001b[0m 30ms/step\n",
      "|- test_graphs\\drawn\\path-drawn-2.png -| najprawdopodobniej należy do klasy |- connected -| z prawdopodobieństwem 99.99 procent.\n",
      "\u001b[1m1/1\u001b[0m \u001b[32m━━━━━━━━━━━━━━━━━━━━\u001b[0m\u001b[37m\u001b[0m \u001b[1m0s\u001b[0m 40ms/step\n",
      "|- test_graphs\\drawn\\path-drawn-3.png -| najprawdopodobniej należy do klasy |- connected -| z prawdopodobieństwem 99.25 procent.\n",
      "\u001b[1m1/1\u001b[0m \u001b[32m━━━━━━━━━━━━━━━━━━━━\u001b[0m\u001b[37m\u001b[0m \u001b[1m0s\u001b[0m 30ms/step\n",
      "|- test_graphs\\generated\\cycle-45.png -| najprawdopodobniej należy do klasy |- cycle -| z prawdopodobieństwem 50.05 procent.\n",
      "\u001b[1m1/1\u001b[0m \u001b[32m━━━━━━━━━━━━━━━━━━━━\u001b[0m\u001b[37m\u001b[0m \u001b[1m0s\u001b[0m 40ms/step\n",
      "|- test_graphs\\generated\\full-113.png -| najprawdopodobniej należy do klasy |- full -| z prawdopodobieństwem 96.32 procent.\n",
      "\u001b[1m1/1\u001b[0m \u001b[32m━━━━━━━━━━━━━━━━━━━━\u001b[0m\u001b[37m\u001b[0m \u001b[1m0s\u001b[0m 33ms/step\n",
      "|- test_graphs\\generated\\path-78.png -| najprawdopodobniej należy do klasy |- path -| z prawdopodobieństwem 99.99 procent.\n",
      "\u001b[1m1/1\u001b[0m \u001b[32m━━━━━━━━━━━━━━━━━━━━\u001b[0m\u001b[37m\u001b[0m \u001b[1m0s\u001b[0m 30ms/step\n",
      "|- test_graphs\\internet\\internet-cycle-1.png -| najprawdopodobniej należy do klasy |- bipartite -| z prawdopodobieństwem 80.00 procent.\n",
      "\u001b[1m1/1\u001b[0m \u001b[32m━━━━━━━━━━━━━━━━━━━━\u001b[0m\u001b[37m\u001b[0m \u001b[1m0s\u001b[0m 30ms/step\n",
      "|- test_graphs\\internet\\internet-full-1.jpg -| najprawdopodobniej należy do klasy |- connected -| z prawdopodobieństwem 98.98 procent.\n",
      "\u001b[1m1/1\u001b[0m \u001b[32m━━━━━━━━━━━━━━━━━━━━\u001b[0m\u001b[37m\u001b[0m \u001b[1m0s\u001b[0m 37ms/step\n",
      "|- test_graphs\\internet\\internet-full-2.jpg -| najprawdopodobniej należy do klasy |- connected -| z prawdopodobieństwem 82.68 procent.\n"
     ]
    }
   ],
   "source": [
    "for test_photo in test_photos:\n",
    "    # Wybór obrazka testowego\n",
    "    image_path = test_photo\n",
    "\n",
    "    # Wczytanie obrazu i dostosowanie go do odpowiedniego rozmiaru\n",
    "    img = tf.keras.preprocessing.image.load_img(image_path, target_size=(img_height, img_width))\n",
    "    img_array = tf.keras.preprocessing.image.img_to_array(img)\n",
    "    \n",
    "    # Przekształć obraz do skali szarości\n",
    "    img_array = rgb_to_grayscale(img_array)\n",
    "    # Rozszerz wymiary obrazu\n",
    "    img_array = tf.expand_dims(img_array, 0)\n",
    "\n",
    "    # Przewidywanie klasy obrazu\n",
    "    predictions = model.predict(img_array)\n",
    "    score = tf.nn.softmax(predictions[0])\n",
    "\n",
    "    print(\n",
    "        \"|- {} -| najprawdopodobniej należy do klasy |- {} -| z prawdopodobieństwem {:.2f} procent.\"\n",
    "        .format(test_photo, class_names[np.argmax(score)], 100 * np.max(score))\n",
    "    )"
   ]
  }
 ],
 "metadata": {
  "kernelspec": {
   "display_name": "env",
   "language": "python",
   "name": "python3"
  },
  "language_info": {
   "codemirror_mode": {
    "name": "ipython",
    "version": 3
   },
   "file_extension": ".py",
   "mimetype": "text/x-python",
   "name": "python",
   "nbconvert_exporter": "python",
   "pygments_lexer": "ipython3",
   "version": "3.10.4"
  }
 },
 "nbformat": 4,
 "nbformat_minor": 2
}
