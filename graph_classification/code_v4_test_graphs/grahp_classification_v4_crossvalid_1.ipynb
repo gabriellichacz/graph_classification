{
 "cells": [
  {
   "cell_type": "markdown",
   "metadata": {},
   "source": [
    "Biblioteki"
   ]
  },
  {
   "cell_type": "code",
   "execution_count": 1,
   "metadata": {},
   "outputs": [
    {
     "name": "stdout",
     "output_type": "stream",
     "text": [
      "Model załadowany pomyślnie\n"
     ]
    }
   ],
   "source": [
    "import os\n",
    "import numpy as np\n",
    "import matplotlib.pyplot as plt\n",
    "import tensorflow as tf\n",
    "from PIL import Image\n",
    "from tensorflow.keras.preprocessing.image import ImageDataGenerator\n",
    "from tensorflow.keras.preprocessing import image\n",
    "import shutil\n",
    "from tensorflow.keras.models import load_model\n",
    "import matplotlib.patches as mpatches\n",
    "\n",
    "model_name = \"model-grahp_classification_v4_crossvalid_1.keras\"\n",
    "img_height, img_width = 180, 180\n",
    "batch_size = 32\n",
    "try:\n",
    "    model = load_model(model_name)\n",
    "    print(\"Model załadowany pomyślnie\")\n",
    "except Exception as e:\n",
    "    print(f\"Model nie jest załadowany: {e}\")"
   ]
  },
  {
   "cell_type": "markdown",
   "metadata": {},
   "source": [
    "Ścieżki i wstępne ustawienia"
   ]
  },
  {
   "cell_type": "code",
   "execution_count": 2,
   "metadata": {},
   "outputs": [
    {
     "name": "stdout",
     "output_type": "stream",
     "text": [
      "Found 2200 files belonging to 5 classes.\n",
      "Using 1760 files for training.\n"
     ]
    }
   ],
   "source": [
    "data_dir = '../graphs_crossvalid'\n",
    "\n",
    "train_ds = tf.keras.preprocessing.image_dataset_from_directory(\n",
    "    data_dir,\n",
    "    labels='inferred',\n",
    "    validation_split=0.2,\n",
    "    subset=\"training\",\n",
    "    seed=123,\n",
    "    image_size=(img_height, img_width),\n",
    "    batch_size=batch_size)\n",
    "class_names = train_ds.class_names"
   ]
  },
  {
   "cell_type": "code",
   "execution_count": 3,
   "metadata": {},
   "outputs": [
    {
     "name": "stdout",
     "output_type": "stream",
     "text": [
      "55\n",
      "\u001b[1m1/1\u001b[0m \u001b[32m━━━━━━━━━━━━━━━━━━━━\u001b[0m\u001b[37m\u001b[0m \u001b[1m0s\u001b[0m 84ms/step\n",
      "|- ../test_graphs\\drawn\\cycle-1.png -| najprawdopodobniej należy do klasy |- full -| z prawdopodobieństwem 97.11 procent.\n",
      "\u001b[1m1/1\u001b[0m \u001b[32m━━━━━━━━━━━━━━━━━━━━\u001b[0m\u001b[37m\u001b[0m \u001b[1m0s\u001b[0m 19ms/step\n",
      "|- ../test_graphs\\drawn\\cycle-2.png -| najprawdopodobniej należy do klasy |- cycle -| z prawdopodobieństwem 96.29 procent.\n",
      "\u001b[1m1/1\u001b[0m \u001b[32m━━━━━━━━━━━━━━━━━━━━\u001b[0m\u001b[37m\u001b[0m \u001b[1m0s\u001b[0m 19ms/step\n",
      "|- ../test_graphs\\drawn\\cycle-3.png -| najprawdopodobniej należy do klasy |- full -| z prawdopodobieństwem 57.44 procent.\n",
      "\u001b[1m1/1\u001b[0m \u001b[32m━━━━━━━━━━━━━━━━━━━━\u001b[0m\u001b[37m\u001b[0m \u001b[1m0s\u001b[0m 19ms/step\n",
      "|- ../test_graphs\\drawn\\cycle-4.png -| najprawdopodobniej należy do klasy |- cycle -| z prawdopodobieństwem 99.85 procent.\n",
      "\u001b[1m1/1\u001b[0m \u001b[32m━━━━━━━━━━━━━━━━━━━━\u001b[0m\u001b[37m\u001b[0m \u001b[1m0s\u001b[0m 20ms/step\n",
      "|- ../test_graphs\\drawn\\cycle-5.png -| najprawdopodobniej należy do klasy |- full -| z prawdopodobieństwem 96.03 procent.\n",
      "\u001b[1m1/1\u001b[0m \u001b[32m━━━━━━━━━━━━━━━━━━━━\u001b[0m\u001b[37m\u001b[0m \u001b[1m0s\u001b[0m 7ms/step\n",
      "|- ../test_graphs\\drawn\\cycle-6.png -| najprawdopodobniej należy do klasy |- cycle -| z prawdopodobieństwem 96.57 procent.\n",
      "\u001b[1m1/1\u001b[0m \u001b[32m━━━━━━━━━━━━━━━━━━━━\u001b[0m\u001b[37m\u001b[0m \u001b[1m0s\u001b[0m 7ms/step\n",
      "|- ../test_graphs\\drawn\\cycle-7.png -| najprawdopodobniej należy do klasy |- cycle -| z prawdopodobieństwem 99.99 procent.\n",
      "\u001b[1m1/1\u001b[0m \u001b[32m━━━━━━━━━━━━━━━━━━━━\u001b[0m\u001b[37m\u001b[0m \u001b[1m0s\u001b[0m 16ms/step\n",
      "|- ../test_graphs\\drawn\\cycle-8.png -| najprawdopodobniej należy do klasy |- full -| z prawdopodobieństwem 93.53 procent.\n",
      "\u001b[1m1/1\u001b[0m \u001b[32m━━━━━━━━━━━━━━━━━━━━\u001b[0m\u001b[37m\u001b[0m \u001b[1m0s\u001b[0m 18ms/step\n",
      "|- ../test_graphs\\drawn\\cycle-9.png -| najprawdopodobniej należy do klasy |- cycle -| z prawdopodobieństwem 87.26 procent.\n",
      "\u001b[1m1/1\u001b[0m \u001b[32m━━━━━━━━━━━━━━━━━━━━\u001b[0m\u001b[37m\u001b[0m \u001b[1m0s\u001b[0m 21ms/step\n",
      "|- ../test_graphs\\drawn\\empty-1.png -| najprawdopodobniej należy do klasy |- cycle -| z prawdopodobieństwem 88.87 procent.\n",
      "\u001b[1m1/1\u001b[0m \u001b[32m━━━━━━━━━━━━━━━━━━━━\u001b[0m\u001b[37m\u001b[0m \u001b[1m0s\u001b[0m 33ms/step\n",
      "|- ../test_graphs\\drawn\\empty-10.png -| najprawdopodobniej należy do klasy |- full -| z prawdopodobieństwem 51.02 procent.\n",
      "\u001b[1m1/1\u001b[0m \u001b[32m━━━━━━━━━━━━━━━━━━━━\u001b[0m\u001b[37m\u001b[0m \u001b[1m0s\u001b[0m 7ms/step\n",
      "|- ../test_graphs\\drawn\\empty-11.png -| najprawdopodobniej należy do klasy |- cycle -| z prawdopodobieństwem 99.77 procent.\n",
      "\u001b[1m1/1\u001b[0m \u001b[32m━━━━━━━━━━━━━━━━━━━━\u001b[0m\u001b[37m\u001b[0m \u001b[1m0s\u001b[0m 17ms/step\n",
      "|- ../test_graphs\\drawn\\empty-2.png -| najprawdopodobniej należy do klasy |- cycle -| z prawdopodobieństwem 97.86 procent.\n",
      "\u001b[1m1/1\u001b[0m \u001b[32m━━━━━━━━━━━━━━━━━━━━\u001b[0m\u001b[37m\u001b[0m \u001b[1m0s\u001b[0m 19ms/step\n",
      "|- ../test_graphs\\drawn\\empty-3.png -| najprawdopodobniej należy do klasy |- full -| z prawdopodobieństwem 64.19 procent.\n",
      "\u001b[1m1/1\u001b[0m \u001b[32m━━━━━━━━━━━━━━━━━━━━\u001b[0m\u001b[37m\u001b[0m \u001b[1m0s\u001b[0m 5ms/step\n",
      "|- ../test_graphs\\drawn\\empty-4.png -| najprawdopodobniej należy do klasy |- cycle -| z prawdopodobieństwem 98.79 procent.\n",
      "\u001b[1m1/1\u001b[0m \u001b[32m━━━━━━━━━━━━━━━━━━━━\u001b[0m\u001b[37m\u001b[0m \u001b[1m0s\u001b[0m 7ms/step\n",
      "|- ../test_graphs\\drawn\\empty-5.png -| najprawdopodobniej należy do klasy |- full -| z prawdopodobieństwem 86.32 procent.\n",
      "\u001b[1m1/1\u001b[0m \u001b[32m━━━━━━━━━━━━━━━━━━━━\u001b[0m\u001b[37m\u001b[0m \u001b[1m0s\u001b[0m 18ms/step\n",
      "|- ../test_graphs\\drawn\\empty-6.png -| najprawdopodobniej należy do klasy |- tree-binary -| z prawdopodobieństwem 55.93 procent.\n",
      "\u001b[1m1/1\u001b[0m \u001b[32m━━━━━━━━━━━━━━━━━━━━\u001b[0m\u001b[37m\u001b[0m \u001b[1m0s\u001b[0m 16ms/step\n",
      "|- ../test_graphs\\drawn\\empty-7.png -| najprawdopodobniej należy do klasy |- full -| z prawdopodobieństwem 69.93 procent.\n",
      "\u001b[1m1/1\u001b[0m \u001b[32m━━━━━━━━━━━━━━━━━━━━\u001b[0m\u001b[37m\u001b[0m \u001b[1m0s\u001b[0m 16ms/step\n",
      "|- ../test_graphs\\drawn\\empty-8.png -| najprawdopodobniej należy do klasy |- cycle -| z prawdopodobieństwem 97.38 procent.\n",
      "\u001b[1m1/1\u001b[0m \u001b[32m━━━━━━━━━━━━━━━━━━━━\u001b[0m\u001b[37m\u001b[0m \u001b[1m0s\u001b[0m 11ms/step\n",
      "|- ../test_graphs\\drawn\\empty-9.png -| najprawdopodobniej należy do klasy |- full -| z prawdopodobieństwem 57.19 procent.\n",
      "\u001b[1m1/1\u001b[0m \u001b[32m━━━━━━━━━━━━━━━━━━━━\u001b[0m\u001b[37m\u001b[0m \u001b[1m0s\u001b[0m 18ms/step\n",
      "|- ../test_graphs\\drawn\\full-1.jpg -| najprawdopodobniej należy do klasy |- full -| z prawdopodobieństwem 99.94 procent.\n",
      "\u001b[1m1/1\u001b[0m \u001b[32m━━━━━━━━━━━━━━━━━━━━\u001b[0m\u001b[37m\u001b[0m \u001b[1m0s\u001b[0m 17ms/step\n",
      "|- ../test_graphs\\drawn\\full-10.png -| najprawdopodobniej należy do klasy |- full -| z prawdopodobieństwem 96.83 procent.\n",
      "\u001b[1m1/1\u001b[0m \u001b[32m━━━━━━━━━━━━━━━━━━━━\u001b[0m\u001b[37m\u001b[0m \u001b[1m0s\u001b[0m 30ms/step\n",
      "|- ../test_graphs\\drawn\\full-2.jpg -| najprawdopodobniej należy do klasy |- full -| z prawdopodobieństwem 99.17 procent.\n",
      "\u001b[1m1/1\u001b[0m \u001b[32m━━━━━━━━━━━━━━━━━━━━\u001b[0m\u001b[37m\u001b[0m \u001b[1m0s\u001b[0m 16ms/step\n",
      "|- ../test_graphs\\drawn\\full-3.png -| najprawdopodobniej należy do klasy |- full -| z prawdopodobieństwem 96.84 procent.\n",
      "\u001b[1m1/1\u001b[0m \u001b[32m━━━━━━━━━━━━━━━━━━━━\u001b[0m\u001b[37m\u001b[0m \u001b[1m0s\u001b[0m 16ms/step\n",
      "|- ../test_graphs\\drawn\\full-4.png -| najprawdopodobniej należy do klasy |- full -| z prawdopodobieństwem 99.99 procent.\n",
      "\u001b[1m1/1\u001b[0m \u001b[32m━━━━━━━━━━━━━━━━━━━━\u001b[0m\u001b[37m\u001b[0m \u001b[1m0s\u001b[0m 30ms/step\n",
      "|- ../test_graphs\\drawn\\full-5.png -| najprawdopodobniej należy do klasy |- full -| z prawdopodobieństwem 94.21 procent.\n",
      "\u001b[1m1/1\u001b[0m \u001b[32m━━━━━━━━━━━━━━━━━━━━\u001b[0m\u001b[37m\u001b[0m \u001b[1m0s\u001b[0m 23ms/step\n",
      "|- ../test_graphs\\drawn\\full-6.png -| najprawdopodobniej należy do klasy |- full -| z prawdopodobieństwem 99.54 procent.\n",
      "\u001b[1m1/1\u001b[0m \u001b[32m━━━━━━━━━━━━━━━━━━━━\u001b[0m\u001b[37m\u001b[0m \u001b[1m0s\u001b[0m 10ms/step\n",
      "|- ../test_graphs\\drawn\\full-7.png -| najprawdopodobniej należy do klasy |- full -| z prawdopodobieństwem 99.94 procent.\n",
      "\u001b[1m1/1\u001b[0m \u001b[32m━━━━━━━━━━━━━━━━━━━━\u001b[0m\u001b[37m\u001b[0m \u001b[1m0s\u001b[0m 25ms/step\n",
      "|- ../test_graphs\\drawn\\full-8.png -| najprawdopodobniej należy do klasy |- full -| z prawdopodobieństwem 99.97 procent.\n",
      "\u001b[1m1/1\u001b[0m \u001b[32m━━━━━━━━━━━━━━━━━━━━\u001b[0m\u001b[37m\u001b[0m \u001b[1m0s\u001b[0m 19ms/step\n",
      "|- ../test_graphs\\drawn\\full-9.png -| najprawdopodobniej należy do klasy |- full -| z prawdopodobieństwem 100.00 procent.\n",
      "\u001b[1m1/1\u001b[0m \u001b[32m━━━━━━━━━━━━━━━━━━━━\u001b[0m\u001b[37m\u001b[0m \u001b[1m0s\u001b[0m 4ms/step\n",
      "|- ../test_graphs\\drawn\\path-1.png -| najprawdopodobniej należy do klasy |- full -| z prawdopodobieństwem 41.71 procent.\n",
      "\u001b[1m1/1\u001b[0m \u001b[32m━━━━━━━━━━━━━━━━━━━━\u001b[0m\u001b[37m\u001b[0m \u001b[1m0s\u001b[0m 20ms/step\n",
      "|- ../test_graphs\\drawn\\path-10.png -| najprawdopodobniej należy do klasy |- full -| z prawdopodobieństwem 93.14 procent.\n",
      "\u001b[1m1/1\u001b[0m \u001b[32m━━━━━━━━━━━━━━━━━━━━\u001b[0m\u001b[37m\u001b[0m \u001b[1m0s\u001b[0m 27ms/step\n",
      "|- ../test_graphs\\drawn\\path-11.png -| najprawdopodobniej należy do klasy |- full -| z prawdopodobieństwem 98.30 procent.\n",
      "\u001b[1m1/1\u001b[0m \u001b[32m━━━━━━━━━━━━━━━━━━━━\u001b[0m\u001b[37m\u001b[0m \u001b[1m0s\u001b[0m 21ms/step\n",
      "|- ../test_graphs\\drawn\\path-12.png -| najprawdopodobniej należy do klasy |- cycle -| z prawdopodobieństwem 99.48 procent.\n",
      "\u001b[1m1/1\u001b[0m \u001b[32m━━━━━━━━━━━━━━━━━━━━\u001b[0m\u001b[37m\u001b[0m \u001b[1m0s\u001b[0m 8ms/step\n",
      "|- ../test_graphs\\drawn\\path-13.png -| najprawdopodobniej należy do klasy |- full -| z prawdopodobieństwem 90.27 procent.\n",
      "\u001b[1m1/1\u001b[0m \u001b[32m━━━━━━━━━━━━━━━━━━━━\u001b[0m\u001b[37m\u001b[0m \u001b[1m0s\u001b[0m 7ms/step\n",
      "|- ../test_graphs\\drawn\\path-14.png -| najprawdopodobniej należy do klasy |- path -| z prawdopodobieństwem 53.11 procent.\n",
      "\u001b[1m1/1\u001b[0m \u001b[32m━━━━━━━━━━━━━━━━━━━━\u001b[0m\u001b[37m\u001b[0m \u001b[1m0s\u001b[0m 19ms/step\n",
      "|- ../test_graphs\\drawn\\path-2.png -| najprawdopodobniej należy do klasy |- cycle -| z prawdopodobieństwem 52.97 procent.\n",
      "\u001b[1m1/1\u001b[0m \u001b[32m━━━━━━━━━━━━━━━━━━━━\u001b[0m\u001b[37m\u001b[0m \u001b[1m0s\u001b[0m 14ms/step\n",
      "|- ../test_graphs\\drawn\\path-3.png -| najprawdopodobniej należy do klasy |- full -| z prawdopodobieństwem 82.60 procent.\n",
      "\u001b[1m1/1\u001b[0m \u001b[32m━━━━━━━━━━━━━━━━━━━━\u001b[0m\u001b[37m\u001b[0m \u001b[1m0s\u001b[0m 6ms/step\n",
      "|- ../test_graphs\\drawn\\path-4.png -| najprawdopodobniej należy do klasy |- full -| z prawdopodobieństwem 84.96 procent.\n",
      "\u001b[1m1/1\u001b[0m \u001b[32m━━━━━━━━━━━━━━━━━━━━\u001b[0m\u001b[37m\u001b[0m \u001b[1m0s\u001b[0m 25ms/step\n",
      "|- ../test_graphs\\drawn\\path-5.png -| najprawdopodobniej należy do klasy |- path -| z prawdopodobieństwem 97.95 procent.\n",
      "\u001b[1m1/1\u001b[0m \u001b[32m━━━━━━━━━━━━━━━━━━━━\u001b[0m\u001b[37m\u001b[0m \u001b[1m0s\u001b[0m 22ms/step\n",
      "|- ../test_graphs\\drawn\\path-6.png -| najprawdopodobniej należy do klasy |- full -| z prawdopodobieństwem 82.23 procent.\n",
      "\u001b[1m1/1\u001b[0m \u001b[32m━━━━━━━━━━━━━━━━━━━━\u001b[0m\u001b[37m\u001b[0m \u001b[1m0s\u001b[0m 20ms/step\n",
      "|- ../test_graphs\\drawn\\path-7.png -| najprawdopodobniej należy do klasy |- cycle -| z prawdopodobieństwem 51.17 procent.\n",
      "\u001b[1m1/1\u001b[0m \u001b[32m━━━━━━━━━━━━━━━━━━━━\u001b[0m\u001b[37m\u001b[0m \u001b[1m0s\u001b[0m 19ms/step\n",
      "|- ../test_graphs\\drawn\\path-8.png -| najprawdopodobniej należy do klasy |- cycle -| z prawdopodobieństwem 45.67 procent.\n",
      "\u001b[1m1/1\u001b[0m \u001b[32m━━━━━━━━━━━━━━━━━━━━\u001b[0m\u001b[37m\u001b[0m \u001b[1m0s\u001b[0m 21ms/step\n",
      "|- ../test_graphs\\drawn\\path-9.png -| najprawdopodobniej należy do klasy |- full -| z prawdopodobieństwem 98.89 procent.\n",
      "\u001b[1m1/1\u001b[0m \u001b[32m━━━━━━━━━━━━━━━━━━━━\u001b[0m\u001b[37m\u001b[0m \u001b[1m0s\u001b[0m 19ms/step\n",
      "|- ../test_graphs\\drawn\\tree-binary-1.png -| najprawdopodobniej należy do klasy |- full -| z prawdopodobieństwem 48.27 procent.\n",
      "\u001b[1m1/1\u001b[0m \u001b[32m━━━━━━━━━━━━━━━━━━━━\u001b[0m\u001b[37m\u001b[0m \u001b[1m0s\u001b[0m 19ms/step\n",
      "|- ../test_graphs\\drawn\\tree-binary-2.png -| najprawdopodobniej należy do klasy |- full -| z prawdopodobieństwem 69.93 procent.\n",
      "\u001b[1m1/1\u001b[0m \u001b[32m━━━━━━━━━━━━━━━━━━━━\u001b[0m\u001b[37m\u001b[0m \u001b[1m0s\u001b[0m 21ms/step\n",
      "|- ../test_graphs\\drawn\\tree-binary-3.png -| najprawdopodobniej należy do klasy |- path -| z prawdopodobieństwem 85.87 procent.\n",
      "\u001b[1m1/1\u001b[0m \u001b[32m━━━━━━━━━━━━━━━━━━━━\u001b[0m\u001b[37m\u001b[0m \u001b[1m0s\u001b[0m 20ms/step\n",
      "|- ../test_graphs\\drawn\\tree-binary-4.png -| najprawdopodobniej należy do klasy |- full -| z prawdopodobieństwem 98.27 procent.\n",
      "\u001b[1m1/1\u001b[0m \u001b[32m━━━━━━━━━━━━━━━━━━━━\u001b[0m\u001b[37m\u001b[0m \u001b[1m0s\u001b[0m 20ms/step\n",
      "|- ../test_graphs\\drawn\\tree-binary-5.png -| najprawdopodobniej należy do klasy |- cycle -| z prawdopodobieństwem 99.79 procent.\n",
      "\u001b[1m1/1\u001b[0m \u001b[32m━━━━━━━━━━━━━━━━━━━━\u001b[0m\u001b[37m\u001b[0m \u001b[1m0s\u001b[0m 19ms/step\n",
      "|- ../test_graphs\\generated\\cycle-45.png -| najprawdopodobniej należy do klasy |- cycle -| z prawdopodobieństwem 100.00 procent.\n",
      "\u001b[1m1/1\u001b[0m \u001b[32m━━━━━━━━━━━━━━━━━━━━\u001b[0m\u001b[37m\u001b[0m \u001b[1m0s\u001b[0m 19ms/step\n",
      "|- ../test_graphs\\generated\\full-113.png -| najprawdopodobniej należy do klasy |- full -| z prawdopodobieństwem 99.89 procent.\n",
      "\u001b[1m1/1\u001b[0m \u001b[32m━━━━━━━━━━━━━━━━━━━━\u001b[0m\u001b[37m\u001b[0m \u001b[1m0s\u001b[0m 20ms/step\n",
      "|- ../test_graphs\\generated\\path-78.png -| najprawdopodobniej należy do klasy |- path -| z prawdopodobieństwem 93.79 procent.\n",
      "\u001b[1m1/1\u001b[0m \u001b[32m━━━━━━━━━━━━━━━━━━━━\u001b[0m\u001b[37m\u001b[0m \u001b[1m0s\u001b[0m 21ms/step\n",
      "|- ../test_graphs\\internet\\internet-cycle-1.png -| najprawdopodobniej należy do klasy |- cycle -| z prawdopodobieństwem 100.00 procent.\n",
      "\u001b[1m1/1\u001b[0m \u001b[32m━━━━━━━━━━━━━━━━━━━━\u001b[0m\u001b[37m\u001b[0m \u001b[1m0s\u001b[0m 20ms/step\n",
      "|- ../test_graphs\\internet\\internet-full-1.jpg -| najprawdopodobniej należy do klasy |- cycle -| z prawdopodobieństwem 53.22 procent.\n",
      "\u001b[1m1/1\u001b[0m \u001b[32m━━━━━━━━━━━━━━━━━━━━\u001b[0m\u001b[37m\u001b[0m \u001b[1m0s\u001b[0m 21ms/step\n",
      "|- ../test_graphs\\internet\\internet-full-2.jpg -| najprawdopodobniej należy do klasy |- full -| z prawdopodobieństwem 99.83 procent.\n"
     ]
    }
   ],
   "source": [
    "def get_image_filenames(folder):\n",
    "    filenames = []\n",
    "    for filename in os.listdir(folder):\n",
    "        if filename.endswith(\".jpg\") or filename.endswith(\".png\"):\n",
    "            filenames.append(filename)\n",
    "    return filenames\n",
    "\n",
    "def get_image_filenames(directory):\n",
    "    return [os.path.join(root, name)\n",
    "            for root, dirs, files in os.walk(directory)\n",
    "            for name in files\n",
    "            if name.endswith((\".png\", \".jpg\", \".jpeg\"))]\n",
    "\n",
    "def rgb_to_grayscale(images):\n",
    "    return tf.image.rgb_to_grayscale(images)\n",
    "\n",
    "test_photo_path = '../test_graphs'\n",
    "test_photos = get_image_filenames(test_photo_path)\n",
    "print(len(test_photos))\n",
    "\n",
    "counter = 0\n",
    "for test_photo in test_photos:\n",
    "    # Wybór obrazka testowego\n",
    "    image_path = test_photo\n",
    "\n",
    "    # Wczytanie obrazu i dostosowanie go do odpowiedniego rozmiaru\n",
    "    img = tf.keras.preprocessing.image.load_img(image_path, target_size=(img_height, img_width))\n",
    "    img_array = tf.keras.preprocessing.image.img_to_array(img)\n",
    "    \n",
    "    # Przekształć obraz do skali szarości\n",
    "    img_array = rgb_to_grayscale(img_array)\n",
    "    # Rozszerz wymiary obrazu\n",
    "    img_array = tf.expand_dims(img_array, 0)\n",
    "\n",
    "    # Przewidywanie klasy obrazu\n",
    "    predictions = model.predict(img_array)\n",
    "    score = tf.nn.softmax(predictions[0])\n",
    "    \n",
    "    if class_names[np.argmax(score)] in test_photo:\n",
    "        counter += 1\n",
    "\n",
    "    print(\n",
    "        \"|- {} -| najprawdopodobniej należy do klasy |- {} -| z prawdopodobieństwem {:.2f} procent.\"\n",
    "        .format(test_photo, class_names[np.argmax(score)], 100 * np.max(score))\n",
    "    )"
   ]
  },
  {
   "cell_type": "code",
   "execution_count": 4,
   "metadata": {},
   "outputs": [
    {
     "data": {
      "image/png": "[encoded data removed]",
      "text/plain": [
       "<Figure size 2040x1200 with 1 Axes>"
      ]
     },
     "metadata": {},
     "output_type": "display_data"
    }
   ],
   "source": [
    "fig, ax = plt.subplots(dpi=120)\n",
    "fig.set_size_inches(17, 10)\n",
    "for i in range(len(test_photos)):\n",
    "    color = 'green' if i < counter else 'red'\n",
    "    rect = plt.Rectangle((i, 0), 1, 1, color=color)\n",
    "    ax.add_patch(rect)\n",
    "\n",
    "ax.set_xlim(0, len(test_photos))\n",
    "ax.set_ylim(0, 1)\n",
    "ax.set_aspect('equal')\n",
    "\n",
    "ax.set_xlabel('Liczba obrazów testowych')\n",
    "ax.set_title('Wynik klasyfikacji obrazów testowych')\n",
    "\n",
    "perc_correct = round((counter / len(test_photos)) * 100, 2)\n",
    "ax.set_title(\"Wynik klasyfikacji obrazów testowych - Poprawnych klasyfikacji: {} %\".format(perc_correct))\n",
    "\n",
    "green_patch = mpatches.Patch(color='green', label='Poprawnie sklasyfikowane')\n",
    "red_patch = mpatches.Patch(color='red', label='Niepoprawnie sklasyfikowane')\n",
    "plt.legend(handles=[green_patch, red_patch], loc='upper center', bbox_to_anchor=(0.8, 3.8), ncol=2)\n",
    "\n",
    "plt.show()"
   ]
  }
 ],
 "metadata": {
  "kernelspec": {
   "display_name": "env",
   "language": "python",
   "name": "python3"
  },
  "language_info": {
   "codemirror_mode": {
    "name": "ipython",
    "version": 3
   },
   "file_extension": ".py",
   "mimetype": "text/x-python",
   "name": "python",
   "nbconvert_exporter": "python",
   "pygments_lexer": "ipython3",
   "version": "3.10.5"
  }
 },
 "nbformat": 4,
 "nbformat_minor": 2
}
