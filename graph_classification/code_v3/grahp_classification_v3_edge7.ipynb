{
 "cells": [
  {
   "cell_type": "markdown",
   "metadata": {},
   "source": [
    "Biblioteki"
   ]
  },
  {
   "cell_type": "code",
   "execution_count": 1,
   "metadata": {},
   "outputs": [],
   "source": [
    "import os\n",
    "import numpy as np\n",
    "import matplotlib.pyplot as plt\n",
    "import tensorflow as tf\n",
    "from PIL import Image\n",
    "from tensorflow.keras.preprocessing.image import ImageDataGenerator\n",
    "from tensorflow.keras.preprocessing import image\n",
    "from keras.models import Sequential\n",
    "from keras.layers import Conv2D, MaxPooling2D, Flatten, Dense\n",
    "from keras.callbacks import ReduceLROnPlateau\n",
    "import shutil\n",
    "from sklearn.model_selection import train_test_split"
   ]
  },
  {
   "cell_type": "markdown",
   "metadata": {},
   "source": [
    "Ścieżki i wstępne ustawienia"
   ]
  },
  {
   "cell_type": "code",
   "execution_count": 2,
   "metadata": {},
   "outputs": [],
   "source": [
    "model_name = \"model-grahp_classification_v3_edge7.keras\"\n",
    "# Ścieżka do katalogu z obrazami\n",
    "edge_count = '7' # tu do zmiany liczba wierzchołków do nauki modelu\n",
    "data_dir_generated = '../graph_generator/' + edge_count\n",
    "data_dir_model = 'graphs'\n",
    "train_dir = os.path.join(data_dir_model, 'train')\n",
    "validation_dir = os.path.join(data_dir_model, 'validation')\n",
    "\n",
    "# Sprawdź, czy katalogi istnieją, jeśli nie, stwórz je\n",
    "for directory in [data_dir_model, train_dir, validation_dir]:\n",
    "    if not os.path.exists(directory):\n",
    "        os.makedirs(directory)\n",
    "\n",
    "# Wielkość obrazów i wielkość partii\n",
    "img_height, img_width = 180, 180\n",
    "batch_size = 32"
   ]
  },
  {
   "cell_type": "markdown",
   "metadata": {},
   "source": [
    "Przenoszenie do katalogów"
   ]
  },
  {
   "cell_type": "code",
   "execution_count": 3,
   "metadata": {},
   "outputs": [],
   "source": [
    "# Pobierz listę wszystkich katalogów z grafami\n",
    "all_images_catalogs = os.listdir(data_dir_generated)\n",
    "\n",
    "for catalog in all_images_catalogs:\n",
    "    catalog_path = os.path.join(data_dir_generated, catalog)\n",
    "    all_images = os.listdir(catalog_path)\n",
    "\n",
    "    # Podziel listę obrazów na zestawy treningowe i walidacyjne\n",
    "    train_images, validation_images = train_test_split(all_images, test_size=0.2, random_state=42)\n",
    "\n",
    "    # Stwórz katalogi dla każdej klasy\n",
    "    train_class_dir = os.path.join(train_dir, catalog)\n",
    "    validation_class_dir = os.path.join(validation_dir, catalog)\n",
    "    for directory in [train_class_dir, validation_class_dir]:\n",
    "        if not os.path.exists(directory):\n",
    "            os.makedirs(directory)\n",
    "        else:\n",
    "            # Jeśli katalog nie jest pusty, wyczyść go\n",
    "            for file in os.listdir(directory):\n",
    "                os.remove(os.path.join(directory, file))\n",
    "\n",
    "    # Kopiuj obrazy do odpowiednich katalogów\n",
    "    for train_image in train_images:\n",
    "        shutil.copy(os.path.join(catalog_path, train_image), os.path.join(train_class_dir, train_image))\n",
    "\n",
    "    for validation_image in validation_images:\n",
    "        shutil.copy(os.path.join(catalog_path, validation_image), os.path.join(validation_class_dir, validation_image))"
   ]
  },
  {
   "cell_type": "code",
   "execution_count": 4,
   "metadata": {},
   "outputs": [],
   "source": [
    "def rgb_to_grayscale(images):\n",
    "    return tf.image.rgb_to_grayscale(images)"
   ]
  },
  {
   "cell_type": "code",
   "execution_count": 5,
   "metadata": {},
   "outputs": [],
   "source": [
    "try:\n",
    "    model = load_model(model_name)\n",
    "    model_loaded = True\n",
    "except:\n",
    "    model_loaded = False"
   ]
  },
  {
   "cell_type": "markdown",
   "metadata": {},
   "source": [
    "Model"
   ]
  },
  {
   "cell_type": "code",
   "execution_count": 6,
   "metadata": {},
   "outputs": [
    {
     "name": "stdout",
     "output_type": "stream",
     "text": [
      "Found 2000 files belonging to 5 classes.\n",
      "Found 500 files belonging to 5 classes.\n"
     ]
    }
   ],
   "source": [
    "if (model_loaded == False):\n",
    "  # Generowanie danych treningowych\n",
    "  train_ds = tf.keras.preprocessing.image_dataset_from_directory(\n",
    "    train_dir,\n",
    "    image_size=(img_height, img_width),\n",
    "    batch_size=batch_size)\n",
    "\n",
    "  class_names = train_ds.class_names\n",
    "\n",
    "  train_ds = train_ds.map(lambda x, y: (rgb_to_grayscale(x), y))\n",
    "\n",
    "  # Generowanie danych walidacyjnych\n",
    "  val_ds = tf.keras.preprocessing.image_dataset_from_directory(\n",
    "    validation_dir,\n",
    "    image_size=(img_height, img_width),\n",
    "    batch_size=batch_size)\n",
    "\n",
    "  val_ds = val_ds.map(lambda x, y: (rgb_to_grayscale(x), y))\n",
    "\n",
    "  # Tworzenie modelu\n",
    "  model = tf.keras.models.Sequential([\n",
    "    tf.keras.layers.Rescaling(1./255),\n",
    "    tf.keras.layers.Conv2D(32, 3, activation='relu'),\n",
    "    tf.keras.layers.MaxPooling2D(),\n",
    "    tf.keras.layers.Conv2D(32, 3, activation='relu'),\n",
    "    tf.keras.layers.MaxPooling2D(),\n",
    "    tf.keras.layers.Conv2D(32, 3, activation='relu'),\n",
    "    tf.keras.layers.MaxPooling2D(),\n",
    "    tf.keras.layers.Flatten(),\n",
    "    tf.keras.layers.Dense(128, activation='relu', kernel_regularizer=tf.keras.regularizers.l2(0.01)),\n",
    "    tf.keras.layers.Dropout(0.2),\n",
    "    tf.keras.layers.Dense(len(class_names))\n",
    "  ])"
   ]
  },
  {
   "cell_type": "code",
   "execution_count": 7,
   "metadata": {},
   "outputs": [
    {
     "name": "stdout",
     "output_type": "stream",
     "text": [
      "Epoch 1/75\n",
      "\u001b[1m63/63\u001b[0m \u001b[32m━━━━━━━━━━━━━━━━━━━━\u001b[0m\u001b[37m\u001b[0m \u001b[1m13s\u001b[0m 149ms/step - accuracy: 0.2493 - loss: 2.7697 - val_accuracy: 0.9760 - val_loss: 0.5396\n",
      "Epoch 2/75\n",
      "\u001b[1m63/63\u001b[0m \u001b[32m━━━━━━━━━━━━━━━━━━━━\u001b[0m\u001b[37m\u001b[0m \u001b[1m9s\u001b[0m 134ms/step - accuracy: 0.9511 - loss: 0.4710 - val_accuracy: 0.9120 - val_loss: 0.4150\n",
      "Epoch 3/75\n",
      "\u001b[1m63/63\u001b[0m \u001b[32m━━━━━━━━━━━━━━━━━━━━\u001b[0m\u001b[37m\u001b[0m \u001b[1m9s\u001b[0m 135ms/step - accuracy: 0.9510 - loss: 0.3351 - val_accuracy: 0.9840 - val_loss: 0.2262\n",
      "Epoch 4/75\n",
      "\u001b[1m63/63\u001b[0m \u001b[32m━━━━━━━━━━━━━━━━━━━━\u001b[0m\u001b[37m\u001b[0m \u001b[1m9s\u001b[0m 135ms/step - accuracy: 0.9835 - loss: 0.1936 - val_accuracy: 0.9840 - val_loss: 0.1414\n",
      "Epoch 5/75\n",
      "\u001b[1m63/63\u001b[0m \u001b[32m━━━━━━━━━━━━━━━━━━━━\u001b[0m\u001b[37m\u001b[0m \u001b[1m8s\u001b[0m 132ms/step - accuracy: 0.9813 - loss: 0.1590 - val_accuracy: 0.9960 - val_loss: 0.1481\n",
      "Epoch 6/75\n",
      "\u001b[1m63/63\u001b[0m \u001b[32m━━━━━━━━━━━━━━━━━━━━\u001b[0m\u001b[37m\u001b[0m \u001b[1m9s\u001b[0m 133ms/step - accuracy: 0.9923 - loss: 0.1474 - val_accuracy: 0.9900 - val_loss: 0.1076\n",
      "Epoch 7/75\n",
      "\u001b[1m63/63\u001b[0m \u001b[32m━━━━━━━━━━━━━━━━━━━━\u001b[0m\u001b[37m\u001b[0m \u001b[1m9s\u001b[0m 142ms/step - accuracy: 0.9869 - loss: 0.1280 - val_accuracy: 0.9900 - val_loss: 0.1360\n",
      "Epoch 8/75\n",
      "\u001b[1m63/63\u001b[0m \u001b[32m━━━━━━━━━━━━━━━━━━━━\u001b[0m\u001b[37m\u001b[0m \u001b[1m9s\u001b[0m 145ms/step - accuracy: 0.9901 - loss: 0.1358 - val_accuracy: 0.9900 - val_loss: 0.0854\n",
      "Epoch 9/75\n",
      "\u001b[1m63/63\u001b[0m \u001b[32m━━━━━━━━━━━━━━━━━━━━\u001b[0m\u001b[37m\u001b[0m \u001b[1m9s\u001b[0m 134ms/step - accuracy: 0.9962 - loss: 0.0775 - val_accuracy: 0.9900 - val_loss: 0.1039\n",
      "Epoch 10/75\n",
      "\u001b[1m63/63\u001b[0m \u001b[32m━━━━━━━━━━━━━━━━━━━━\u001b[0m\u001b[37m\u001b[0m \u001b[1m9s\u001b[0m 136ms/step - accuracy: 0.9901 - loss: 0.1071 - val_accuracy: 0.9900 - val_loss: 0.1198\n",
      "Epoch 11/75\n",
      "\u001b[1m63/63\u001b[0m \u001b[32m━━━━━━━━━━━━━━━━━━━━\u001b[0m\u001b[37m\u001b[0m \u001b[1m9s\u001b[0m 133ms/step - accuracy: 0.9701 - loss: 0.1703 - val_accuracy: 0.9920 - val_loss: 0.1404\n",
      "Epoch 12/75\n",
      "\u001b[1m63/63\u001b[0m \u001b[32m━━━━━━━━━━━━━━━━━━━━\u001b[0m\u001b[37m\u001b[0m \u001b[1m9s\u001b[0m 134ms/step - accuracy: 0.9962 - loss: 0.1204 - val_accuracy: 0.9960 - val_loss: 0.0844\n",
      "Epoch 13/75\n",
      "\u001b[1m63/63\u001b[0m \u001b[32m━━━━━━━━━━━━━━━━━━━━\u001b[0m\u001b[37m\u001b[0m \u001b[1m9s\u001b[0m 133ms/step - accuracy: 0.9974 - loss: 0.0734 - val_accuracy: 0.9760 - val_loss: 0.1486\n",
      "Epoch 14/75\n",
      "\u001b[1m63/63\u001b[0m \u001b[32m━━━━━━━━━━━━━━━━━━━━\u001b[0m\u001b[37m\u001b[0m \u001b[1m9s\u001b[0m 134ms/step - accuracy: 0.9775 - loss: 0.1390 - val_accuracy: 0.9880 - val_loss: 0.1282\n",
      "Epoch 15/75\n",
      "\u001b[1m63/63\u001b[0m \u001b[32m━━━━━━━━━━━━━━━━━━━━\u001b[0m\u001b[37m\u001b[0m \u001b[1m9s\u001b[0m 134ms/step - accuracy: 0.9853 - loss: 0.1313 - val_accuracy: 0.9940 - val_loss: 0.1098\n",
      "Epoch 16/75\n",
      "\u001b[1m63/63\u001b[0m \u001b[32m━━━━━━━━━━━━━━━━━━━━\u001b[0m\u001b[37m\u001b[0m \u001b[1m9s\u001b[0m 135ms/step - accuracy: 0.9930 - loss: 0.1133 - val_accuracy: 0.9920 - val_loss: 0.1138\n",
      "Epoch 17/75\n",
      "\u001b[1m63/63\u001b[0m \u001b[32m━━━━━━━━━━━━━━━━━━━━\u001b[0m\u001b[37m\u001b[0m \u001b[1m9s\u001b[0m 134ms/step - accuracy: 0.9939 - loss: 0.0893 - val_accuracy: 0.9360 - val_loss: 0.2471\n",
      "Epoch 18/75\n",
      "\u001b[1m63/63\u001b[0m \u001b[32m━━━━━━━━━━━━━━━━━━━━\u001b[0m\u001b[37m\u001b[0m \u001b[1m9s\u001b[0m 134ms/step - accuracy: 0.9690 - loss: 0.1604 - val_accuracy: 0.9920 - val_loss: 0.1061\n",
      "Epoch 19/75\n",
      "\u001b[1m63/63\u001b[0m \u001b[32m━━━━━━━━━━━━━━━━━━━━\u001b[0m\u001b[37m\u001b[0m \u001b[1m9s\u001b[0m 135ms/step - accuracy: 0.9943 - loss: 0.1024 - val_accuracy: 0.9960 - val_loss: 0.0814\n",
      "Epoch 20/75\n",
      "\u001b[1m63/63\u001b[0m \u001b[32m━━━━━━━━━━━━━━━━━━━━\u001b[0m\u001b[37m\u001b[0m \u001b[1m9s\u001b[0m 134ms/step - accuracy: 0.9945 - loss: 0.0698 - val_accuracy: 1.0000 - val_loss: 0.0560\n",
      "Epoch 21/75\n",
      "\u001b[1m63/63\u001b[0m \u001b[32m━━━━━━━━━━━━━━━━━━━━\u001b[0m\u001b[37m\u001b[0m \u001b[1m9s\u001b[0m 133ms/step - accuracy: 0.9983 - loss: 0.0566 - val_accuracy: 0.9900 - val_loss: 0.0690\n",
      "Epoch 22/75\n",
      "\u001b[1m63/63\u001b[0m \u001b[32m━━━━━━━━━━━━━━━━━━━━\u001b[0m\u001b[37m\u001b[0m \u001b[1m9s\u001b[0m 133ms/step - accuracy: 0.9871 - loss: 0.0972 - val_accuracy: 0.9920 - val_loss: 0.1005\n",
      "Epoch 23/75\n",
      "\u001b[1m63/63\u001b[0m \u001b[32m━━━━━━━━━━━━━━━━━━━━\u001b[0m\u001b[37m\u001b[0m \u001b[1m9s\u001b[0m 133ms/step - accuracy: 0.9944 - loss: 0.0881 - val_accuracy: 0.9960 - val_loss: 0.1001\n",
      "Epoch 24/75\n",
      "\u001b[1m63/63\u001b[0m \u001b[32m━━━━━━━━━━━━━━━━━━━━\u001b[0m\u001b[37m\u001b[0m \u001b[1m9s\u001b[0m 134ms/step - accuracy: 0.9884 - loss: 0.1094 - val_accuracy: 0.9980 - val_loss: 0.0862\n",
      "Epoch 25/75\n",
      "\u001b[1m63/63\u001b[0m \u001b[32m━━━━━━━━━━━━━━━━━━━━\u001b[0m\u001b[37m\u001b[0m \u001b[1m9s\u001b[0m 136ms/step - accuracy: 0.9863 - loss: 0.1275 - val_accuracy: 0.9960 - val_loss: 0.0864\n",
      "Epoch 26/75\n",
      "\u001b[1m63/63\u001b[0m \u001b[32m━━━━━━━━━━━━━━━━━━━━\u001b[0m\u001b[37m\u001b[0m \u001b[1m9s\u001b[0m 135ms/step - accuracy: 0.9962 - loss: 0.0840 - val_accuracy: 0.9840 - val_loss: 0.1111\n",
      "Epoch 27/75\n",
      "\u001b[1m63/63\u001b[0m \u001b[32m━━━━━━━━━━━━━━━━━━━━\u001b[0m\u001b[37m\u001b[0m \u001b[1m9s\u001b[0m 140ms/step - accuracy: 0.9900 - loss: 0.0795 - val_accuracy: 0.9940 - val_loss: 0.0846\n",
      "Epoch 28/75\n",
      "\u001b[1m63/63\u001b[0m \u001b[32m━━━━━━━━━━━━━━━━━━━━\u001b[0m\u001b[37m\u001b[0m \u001b[1m9s\u001b[0m 137ms/step - accuracy: 0.9948 - loss: 0.0796 - val_accuracy: 0.9920 - val_loss: 0.1041\n",
      "Epoch 29/75\n",
      "\u001b[1m63/63\u001b[0m \u001b[32m━━━━━━━━━━━━━━━━━━━━\u001b[0m\u001b[37m\u001b[0m \u001b[1m9s\u001b[0m 138ms/step - accuracy: 0.9852 - loss: 0.1050 - val_accuracy: 0.9960 - val_loss: 0.1261\n",
      "Epoch 30/75\n",
      "\u001b[1m63/63\u001b[0m \u001b[32m━━━━━━━━━━━━━━━━━━━━\u001b[0m\u001b[37m\u001b[0m \u001b[1m9s\u001b[0m 143ms/step - accuracy: 0.9972 - loss: 0.1053 - val_accuracy: 0.9940 - val_loss: 0.0866\n",
      "Epoch 31/75\n",
      "\u001b[1m63/63\u001b[0m \u001b[32m━━━━━━━━━━━━━━━━━━━━\u001b[0m\u001b[37m\u001b[0m \u001b[1m9s\u001b[0m 146ms/step - accuracy: 0.9935 - loss: 0.0835 - val_accuracy: 0.9860 - val_loss: 0.1406\n",
      "Epoch 32/75\n",
      "\u001b[1m63/63\u001b[0m \u001b[32m━━━━━━━━━━━━━━━━━━━━\u001b[0m\u001b[37m\u001b[0m \u001b[1m9s\u001b[0m 138ms/step - accuracy: 0.9960 - loss: 0.1009 - val_accuracy: 0.9920 - val_loss: 0.0771\n",
      "Epoch 33/75\n",
      "\u001b[1m63/63\u001b[0m \u001b[32m━━━━━━━━━━━━━━━━━━━━\u001b[0m\u001b[37m\u001b[0m \u001b[1m9s\u001b[0m 140ms/step - accuracy: 0.9890 - loss: 0.0815 - val_accuracy: 0.9960 - val_loss: 0.0871\n",
      "Epoch 34/75\n",
      "\u001b[1m63/63\u001b[0m \u001b[32m━━━━━━━━━━━━━━━━━━━━\u001b[0m\u001b[37m\u001b[0m \u001b[1m9s\u001b[0m 148ms/step - accuracy: 0.9938 - loss: 0.0857 - val_accuracy: 0.9960 - val_loss: 0.0629\n",
      "Epoch 35/75\n",
      "\u001b[1m63/63\u001b[0m \u001b[32m━━━━━━━━━━━━━━━━━━━━\u001b[0m\u001b[37m\u001b[0m \u001b[1m10s\u001b[0m 152ms/step - accuracy: 0.9892 - loss: 0.0804 - val_accuracy: 0.9920 - val_loss: 0.1116\n",
      "Epoch 36/75\n",
      "\u001b[1m63/63\u001b[0m \u001b[32m━━━━━━━━━━━━━━━━━━━━\u001b[0m\u001b[37m\u001b[0m \u001b[1m9s\u001b[0m 133ms/step - accuracy: 0.9902 - loss: 0.1060 - val_accuracy: 0.9880 - val_loss: 0.1026\n",
      "Epoch 37/75\n",
      "\u001b[1m63/63\u001b[0m \u001b[32m━━━━━━━━━━━━━━━━━━━━\u001b[0m\u001b[37m\u001b[0m \u001b[1m8s\u001b[0m 131ms/step - accuracy: 0.9912 - loss: 0.0953 - val_accuracy: 0.9680 - val_loss: 0.1512\n",
      "Epoch 38/75\n",
      "\u001b[1m63/63\u001b[0m \u001b[32m━━━━━━━━━━━━━━━━━━━━\u001b[0m\u001b[37m\u001b[0m \u001b[1m8s\u001b[0m 128ms/step - accuracy: 0.9944 - loss: 0.0838 - val_accuracy: 0.9880 - val_loss: 0.0921\n",
      "Epoch 39/75\n",
      "\u001b[1m63/63\u001b[0m \u001b[32m━━━━━━━━━━━━━━━━━━━━\u001b[0m\u001b[37m\u001b[0m \u001b[1m8s\u001b[0m 130ms/step - accuracy: 0.9984 - loss: 0.0615 - val_accuracy: 0.9980 - val_loss: 0.0672\n",
      "Epoch 40/75\n",
      "\u001b[1m63/63\u001b[0m \u001b[32m━━━━━━━━━━━━━━━━━━━━\u001b[0m\u001b[37m\u001b[0m \u001b[1m8s\u001b[0m 129ms/step - accuracy: 0.9989 - loss: 0.0461 - val_accuracy: 0.9960 - val_loss: 0.0565\n",
      "Epoch 41/75\n",
      "\u001b[1m63/63\u001b[0m \u001b[32m━━━━━━━━━━━━━━━━━━━━\u001b[0m\u001b[37m\u001b[0m \u001b[1m8s\u001b[0m 130ms/step - accuracy: 0.9934 - loss: 0.0572 - val_accuracy: 0.9960 - val_loss: 0.0706\n",
      "Epoch 42/75\n",
      "\u001b[1m63/63\u001b[0m \u001b[32m━━━━━━━━━━━━━━━━━━━━\u001b[0m\u001b[37m\u001b[0m \u001b[1m8s\u001b[0m 126ms/step - accuracy: 0.9910 - loss: 0.0822 - val_accuracy: 0.9980 - val_loss: 0.0701\n",
      "Epoch 43/75\n",
      "\u001b[1m63/63\u001b[0m \u001b[32m━━━━━━━━━━━━━━━━━━━━\u001b[0m\u001b[37m\u001b[0m \u001b[1m8s\u001b[0m 129ms/step - accuracy: 0.9956 - loss: 0.0679 - val_accuracy: 0.9980 - val_loss: 0.0697\n",
      "Epoch 44/75\n",
      "\u001b[1m63/63\u001b[0m \u001b[32m━━━━━━━━━━━━━━━━━━━━\u001b[0m\u001b[37m\u001b[0m \u001b[1m8s\u001b[0m 131ms/step - accuracy: 0.9986 - loss: 0.0534 - val_accuracy: 0.9980 - val_loss: 0.0562\n",
      "Epoch 45/75\n",
      "\u001b[1m63/63\u001b[0m \u001b[32m━━━━━━━━━━━━━━━━━━━━\u001b[0m\u001b[37m\u001b[0m \u001b[1m8s\u001b[0m 126ms/step - accuracy: 0.9989 - loss: 0.0414 - val_accuracy: 0.9980 - val_loss: 0.0454\n",
      "Epoch 46/75\n",
      "\u001b[1m63/63\u001b[0m \u001b[32m━━━━━━━━━━━━━━━━━━━━\u001b[0m\u001b[37m\u001b[0m \u001b[1m8s\u001b[0m 126ms/step - accuracy: 0.9959 - loss: 0.0448 - val_accuracy: 0.9940 - val_loss: 0.0525\n",
      "Epoch 47/75\n",
      "\u001b[1m63/63\u001b[0m \u001b[32m━━━━━━━━━━━━━━━━━━━━\u001b[0m\u001b[37m\u001b[0m \u001b[1m8s\u001b[0m 126ms/step - accuracy: 0.9913 - loss: 0.0579 - val_accuracy: 0.9800 - val_loss: 0.1183\n",
      "Epoch 48/75\n",
      "\u001b[1m63/63\u001b[0m \u001b[32m━━━━━━━━━━━━━━━━━━━━\u001b[0m\u001b[37m\u001b[0m \u001b[1m8s\u001b[0m 130ms/step - accuracy: 0.9905 - loss: 0.0993 - val_accuracy: 0.9940 - val_loss: 0.0955\n",
      "Epoch 49/75\n",
      "\u001b[1m63/63\u001b[0m \u001b[32m━━━━━━━━━━━━━━━━━━━━\u001b[0m\u001b[37m\u001b[0m \u001b[1m8s\u001b[0m 131ms/step - accuracy: 0.9944 - loss: 0.0803 - val_accuracy: 0.9920 - val_loss: 0.0869\n",
      "Epoch 50/75\n",
      "\u001b[1m63/63\u001b[0m \u001b[32m━━━━━━━━━━━━━━━━━━━━\u001b[0m\u001b[37m\u001b[0m \u001b[1m8s\u001b[0m 125ms/step - accuracy: 0.9989 - loss: 0.0551 - val_accuracy: 0.9960 - val_loss: 0.0524\n",
      "Epoch 51/75\n",
      "\u001b[1m63/63\u001b[0m \u001b[32m━━━━━━━━━━━━━━━━━━━━\u001b[0m\u001b[37m\u001b[0m \u001b[1m9s\u001b[0m 148ms/step - accuracy: 1.0000 - loss: 0.0383 - val_accuracy: 0.9940 - val_loss: 0.0516\n",
      "Epoch 52/75\n",
      "\u001b[1m63/63\u001b[0m \u001b[32m━━━━━━━━━━━━━━━━━━━━\u001b[0m\u001b[37m\u001b[0m \u001b[1m9s\u001b[0m 133ms/step - accuracy: 0.9989 - loss: 0.0343 - val_accuracy: 0.9980 - val_loss: 0.0377\n",
      "Epoch 53/75\n",
      "\u001b[1m63/63\u001b[0m \u001b[32m━━━━━━━━━━━━━━━━━━━━\u001b[0m\u001b[37m\u001b[0m \u001b[1m10s\u001b[0m 149ms/step - accuracy: 0.9941 - loss: 0.0470 - val_accuracy: 0.9960 - val_loss: 0.0810\n",
      "Epoch 54/75\n",
      "\u001b[1m63/63\u001b[0m \u001b[32m━━━━━━━━━━━━━━━━━━━━\u001b[0m\u001b[37m\u001b[0m \u001b[1m10s\u001b[0m 151ms/step - accuracy: 0.9856 - loss: 0.1016 - val_accuracy: 0.9940 - val_loss: 0.0941\n",
      "Epoch 55/75\n",
      "\u001b[1m63/63\u001b[0m \u001b[32m━━━━━━━━━━━━━━━━━━━━\u001b[0m\u001b[37m\u001b[0m \u001b[1m9s\u001b[0m 138ms/step - accuracy: 0.9912 - loss: 0.0937 - val_accuracy: 0.9920 - val_loss: 0.0714\n",
      "Epoch 56/75\n",
      "\u001b[1m63/63\u001b[0m \u001b[32m━━━━━━━━━━━━━━━━━━━━\u001b[0m\u001b[37m\u001b[0m \u001b[1m9s\u001b[0m 145ms/step - accuracy: 0.9981 - loss: 0.0527 - val_accuracy: 0.9980 - val_loss: 0.0506\n",
      "Epoch 57/75\n",
      "\u001b[1m63/63\u001b[0m \u001b[32m━━━━━━━━━━━━━━━━━━━━\u001b[0m\u001b[37m\u001b[0m \u001b[1m8s\u001b[0m 129ms/step - accuracy: 0.9983 - loss: 0.0445 - val_accuracy: 0.9980 - val_loss: 0.0492\n",
      "Epoch 58/75\n",
      "\u001b[1m63/63\u001b[0m \u001b[32m━━━━━━━━━━━━━━━━━━━━\u001b[0m\u001b[37m\u001b[0m \u001b[1m8s\u001b[0m 124ms/step - accuracy: 0.9984 - loss: 0.0416 - val_accuracy: 0.9980 - val_loss: 0.0471\n",
      "Epoch 59/75\n",
      "\u001b[1m63/63\u001b[0m \u001b[32m━━━━━━━━━━━━━━━━━━━━\u001b[0m\u001b[37m\u001b[0m \u001b[1m8s\u001b[0m 129ms/step - accuracy: 0.9947 - loss: 0.0474 - val_accuracy: 0.9960 - val_loss: 0.0633\n",
      "Epoch 60/75\n",
      "\u001b[1m63/63\u001b[0m \u001b[32m━━━━━━━━━━━━━━━━━━━━\u001b[0m\u001b[37m\u001b[0m \u001b[1m9s\u001b[0m 138ms/step - accuracy: 0.9961 - loss: 0.0436 - val_accuracy: 0.9840 - val_loss: 0.0962\n",
      "Epoch 61/75\n",
      "\u001b[1m63/63\u001b[0m \u001b[32m━━━━━━━━━━━━━━━━━━━━\u001b[0m\u001b[37m\u001b[0m \u001b[1m10s\u001b[0m 159ms/step - accuracy: 0.9856 - loss: 0.0834 - val_accuracy: 0.9920 - val_loss: 0.1173\n",
      "Epoch 62/75\n",
      "\u001b[1m63/63\u001b[0m \u001b[32m━━━━━━━━━━━━━━━━━━━━\u001b[0m\u001b[37m\u001b[0m \u001b[1m9s\u001b[0m 138ms/step - accuracy: 0.9942 - loss: 0.0732 - val_accuracy: 0.9960 - val_loss: 0.0820\n",
      "Epoch 63/75\n",
      "\u001b[1m63/63\u001b[0m \u001b[32m━━━━━━━━━━━━━━━━━━━━\u001b[0m\u001b[37m\u001b[0m \u001b[1m9s\u001b[0m 136ms/step - accuracy: 0.9944 - loss: 0.0635 - val_accuracy: 0.9980 - val_loss: 0.0628\n",
      "Epoch 64/75\n",
      "\u001b[1m63/63\u001b[0m \u001b[32m━━━━━━━━━━━━━━━━━━━━\u001b[0m\u001b[37m\u001b[0m \u001b[1m9s\u001b[0m 137ms/step - accuracy: 1.0000 - loss: 0.0462 - val_accuracy: 0.9980 - val_loss: 0.0517\n",
      "Epoch 65/75\n",
      "\u001b[1m63/63\u001b[0m \u001b[32m━━━━━━━━━━━━━━━━━━━━\u001b[0m\u001b[37m\u001b[0m \u001b[1m9s\u001b[0m 149ms/step - accuracy: 0.9998 - loss: 0.0332 - val_accuracy: 0.9940 - val_loss: 0.0486\n",
      "Epoch 66/75\n",
      "\u001b[1m63/63\u001b[0m \u001b[32m━━━━━━━━━━━━━━━━━━━━\u001b[0m\u001b[37m\u001b[0m \u001b[1m9s\u001b[0m 141ms/step - accuracy: 0.9976 - loss: 0.0337 - val_accuracy: 0.9980 - val_loss: 0.0387\n",
      "Epoch 67/75\n",
      "\u001b[1m63/63\u001b[0m \u001b[32m━━━━━━━━━━━━━━━━━━━━\u001b[0m\u001b[37m\u001b[0m \u001b[1m9s\u001b[0m 148ms/step - accuracy: 0.9981 - loss: 0.0326 - val_accuracy: 0.9800 - val_loss: 0.1094\n",
      "Epoch 68/75\n",
      "\u001b[1m63/63\u001b[0m \u001b[32m━━━━━━━━━━━━━━━━━━━━\u001b[0m\u001b[37m\u001b[0m \u001b[1m9s\u001b[0m 146ms/step - accuracy: 0.9951 - loss: 0.0549 - val_accuracy: 0.9900 - val_loss: 0.0727\n",
      "Epoch 69/75\n",
      "\u001b[1m63/63\u001b[0m \u001b[32m━━━━━━━━━━━━━━━━━━━━\u001b[0m\u001b[37m\u001b[0m \u001b[1m8s\u001b[0m 131ms/step - accuracy: 0.9901 - loss: 0.0728 - val_accuracy: 0.9980 - val_loss: 0.0695\n",
      "Epoch 70/75\n",
      "\u001b[1m63/63\u001b[0m \u001b[32m━━━━━━━━━━━━━━━━━━━━\u001b[0m\u001b[37m\u001b[0m \u001b[1m9s\u001b[0m 135ms/step - accuracy: 0.9966 - loss: 0.0560 - val_accuracy: 0.9900 - val_loss: 0.0892\n",
      "Epoch 71/75\n",
      "\u001b[1m63/63\u001b[0m \u001b[32m━━━━━━━━━━━━━━━━━━━━\u001b[0m\u001b[37m\u001b[0m \u001b[1m8s\u001b[0m 131ms/step - accuracy: 0.9987 - loss: 0.0478 - val_accuracy: 0.9920 - val_loss: 0.0560\n",
      "Epoch 72/75\n",
      "\u001b[1m63/63\u001b[0m \u001b[32m━━━━━━━━━━━━━━━━━━━━\u001b[0m\u001b[37m\u001b[0m \u001b[1m8s\u001b[0m 131ms/step - accuracy: 0.9967 - loss: 0.0423 - val_accuracy: 0.9900 - val_loss: 0.1160\n",
      "Epoch 73/75\n",
      "\u001b[1m63/63\u001b[0m \u001b[32m━━━━━━━━━━━━━━━━━━━━\u001b[0m\u001b[37m\u001b[0m \u001b[1m8s\u001b[0m 130ms/step - accuracy: 0.9979 - loss: 0.0667 - val_accuracy: 0.9960 - val_loss: 0.0683\n",
      "Epoch 74/75\n",
      "\u001b[1m63/63\u001b[0m \u001b[32m━━━━━━━━━━━━━━━━━━━━\u001b[0m\u001b[37m\u001b[0m \u001b[1m8s\u001b[0m 131ms/step - accuracy: 0.9959 - loss: 0.0505 - val_accuracy: 0.9960 - val_loss: 0.0532\n",
      "Epoch 75/75\n",
      "\u001b[1m63/63\u001b[0m \u001b[32m━━━━━━━━━━━━━━━━━━━━\u001b[0m\u001b[37m\u001b[0m \u001b[1m8s\u001b[0m 131ms/step - accuracy: 1.0000 - loss: 0.0374 - val_accuracy: 0.9960 - val_loss: 0.0433\n"
     ]
    }
   ],
   "source": [
    "if (model_loaded == False):\n",
    "  # Kompilacja modelu\n",
    "  model.compile(\n",
    "    optimizer='adam',\n",
    "    loss=tf.losses.SparseCategoricalCrossentropy(from_logits=True),\n",
    "    metrics=['accuracy'])\n",
    "\n",
    "  # Trenowanie modelu\n",
    "  history = model.fit(\n",
    "    train_ds,\n",
    "    validation_data=val_ds,\n",
    "    epochs=75\n",
    "  )"
   ]
  },
  {
   "cell_type": "code",
   "execution_count": 8,
   "metadata": {},
   "outputs": [],
   "source": [
    "model.save(model_name)"
   ]
  },
  {
   "cell_type": "code",
   "execution_count": 9,
   "metadata": {},
   "outputs": [
    {
     "name": "stdout",
     "output_type": "stream",
     "text": [
      "Dokładność na zbiorze treningowym:  [0.37950000166893005, 0.968999981880188, 0.9660000205039978, 0.9879999756813049, 0.9760000109672546, 0.9904999732971191, 0.984499990940094, 0.9950000047683716, 0.9919999837875366, 0.9915000200271606, 0.9760000109672546, 0.9975000023841858, 0.9944999814033508, 0.9825000166893005, 0.9869999885559082, 0.9915000200271606, 0.9934999942779541, 0.9815000295639038, 0.9955000281333923, 0.9955000281333923, 0.9965000152587891, 0.9894999861717224, 0.9944999814033508, 0.9919999837875366, 0.9890000224113464, 0.9959999918937683, 0.9904999732971191, 0.996999979019165, 0.9815000295639038, 0.9965000152587891, 0.9860000014305115, 0.9980000257492065, 0.9890000224113464, 0.9959999918937683, 0.9865000247955322, 0.9919999837875366, 0.9909999966621399, 0.9944999814033508, 0.9980000257492065, 0.9984999895095825, 0.9904999732971191, 0.9944999814033508, 0.9944999814033508, 0.9984999895095825, 0.9975000023841858, 0.9965000152587891, 0.9890000224113464, 0.9909999966621399, 0.9955000281333923, 0.9994999766349792, 1.0, 0.9980000257492065, 0.9915000200271606, 0.9900000095367432, 0.9940000176429749, 0.9975000023841858, 0.9990000128746033, 0.9980000257492065, 0.9959999918937683, 0.9975000023841858, 0.9879999756813049, 0.9944999814033508, 0.9959999918937683, 1.0, 0.9994999766349792, 0.9984999895095825, 0.9959999918937683, 0.9944999814033508, 0.9929999709129333, 0.9965000152587891, 0.9994999766349792, 0.9900000095367432, 0.9980000257492065, 0.9965000152587891, 1.0]\n",
      "Dokładność na zbiorze walidacyjnym:  [0.9760000109672546, 0.9120000004768372, 0.984000027179718, 0.984000027179718, 0.9959999918937683, 0.9900000095367432, 0.9900000095367432, 0.9900000095367432, 0.9900000095367432, 0.9900000095367432, 0.9919999837875366, 0.9959999918937683, 0.9760000109672546, 0.9879999756813049, 0.9940000176429749, 0.9919999837875366, 0.9359999895095825, 0.9919999837875366, 0.9959999918937683, 1.0, 0.9900000095367432, 0.9919999837875366, 0.9959999918937683, 0.9980000257492065, 0.9959999918937683, 0.984000027179718, 0.9940000176429749, 0.9919999837875366, 0.9959999918937683, 0.9940000176429749, 0.9860000014305115, 0.9919999837875366, 0.9959999918937683, 0.9959999918937683, 0.9919999837875366, 0.9879999756813049, 0.9679999947547913, 0.9879999756813049, 0.9980000257492065, 0.9959999918937683, 0.9959999918937683, 0.9980000257492065, 0.9980000257492065, 0.9980000257492065, 0.9980000257492065, 0.9940000176429749, 0.9800000190734863, 0.9940000176429749, 0.9919999837875366, 0.9959999918937683, 0.9940000176429749, 0.9980000257492065, 0.9959999918937683, 0.9940000176429749, 0.9919999837875366, 0.9980000257492065, 0.9980000257492065, 0.9980000257492065, 0.9959999918937683, 0.984000027179718, 0.9919999837875366, 0.9959999918937683, 0.9980000257492065, 0.9980000257492065, 0.9940000176429749, 0.9980000257492065, 0.9800000190734863, 0.9900000095367432, 0.9980000257492065, 0.9900000095367432, 0.9919999837875366, 0.9900000095367432, 0.9959999918937683, 0.9959999918937683, 0.9959999918937683]\n"
     ]
    }
   ],
   "source": [
    "# Wyświetlanie dokładności na zbiorze treningowym i walidacyjnym\n",
    "acc = history.history['accuracy']\n",
    "val_acc = history.history['val_accuracy']\n",
    "print(\"Dokładność na zbiorze treningowym: \", acc)\n",
    "print(\"Dokładność na zbiorze walidacyjnym: \", val_acc)"
   ]
  },
  {
   "cell_type": "code",
   "execution_count": 10,
   "metadata": {},
   "outputs": [
    {
     "data": {
      "image/png": "[encoded data removed]",
      "text/plain": [
       "<Figure size 1200x400 with 2 Axes>"
      ]
     },
     "metadata": {},
     "output_type": "display_data"
    }
   ],
   "source": [
    "# Wykres dokładności\n",
    "plt.figure(figsize=(12, 4))\n",
    "plt.subplot(1, 2, 1)\n",
    "plt.plot(history.history['accuracy'], label='Dokładność (trening)')\n",
    "plt.plot(history.history['val_accuracy'], label='Dokładność (walidacja)')\n",
    "plt.legend(loc='lower right')\n",
    "plt.title('Dokładność modelu')\n",
    "plt.ylabel('Dokładność')\n",
    "plt.xlabel('Epoka')\n",
    "\n",
    "# Wykres straty\n",
    "plt.subplot(1, 2, 2)\n",
    "plt.plot(history.history['loss'], label='Strata (trening)')\n",
    "plt.plot(history.history['val_loss'], label='Strata (walidacja)')\n",
    "plt.legend(loc='upper right')\n",
    "plt.title('Strata modelu')\n",
    "plt.ylabel('Strata')\n",
    "plt.xlabel('Epoka')\n",
    "\n",
    "plt.show()"
   ]
  },
  {
   "cell_type": "code",
   "execution_count": 11,
   "metadata": {},
   "outputs": [],
   "source": [
    "def get_image_filenames(folder):\n",
    "    filenames = []\n",
    "    for filename in os.listdir(folder):\n",
    "        if filename.endswith(\".jpg\") or filename.endswith(\".png\"): # Add or modify to suit your image file types\n",
    "            filenames.append(filename)\n",
    "    return filenames"
   ]
  },
  {
   "cell_type": "code",
   "execution_count": 12,
   "metadata": {},
   "outputs": [
    {
     "data": {
      "text/plain": [
       "['test_graphs\\\\drawn\\\\connected-drawn-1.png',\n",
       " 'test_graphs\\\\drawn\\\\cycle-drawn-1.png',\n",
       " 'test_graphs\\\\drawn\\\\full-drawn-1.jpg',\n",
       " 'test_graphs\\\\drawn\\\\full-drawn-2.jpg',\n",
       " 'test_graphs\\\\drawn\\\\full-drawn-3.png',\n",
       " 'test_graphs\\\\drawn\\\\path-drawn-1.png',\n",
       " 'test_graphs\\\\drawn\\\\path-drawn-2.png',\n",
       " 'test_graphs\\\\drawn\\\\path-drawn-3.png',\n",
       " 'test_graphs\\\\generated\\\\cycle-45.png',\n",
       " 'test_graphs\\\\generated\\\\full-113.png',\n",
       " 'test_graphs\\\\generated\\\\path-78.png',\n",
       " 'test_graphs\\\\internet\\\\internet-cycle-1.png',\n",
       " 'test_graphs\\\\internet\\\\internet-full-1.jpg',\n",
       " 'test_graphs\\\\internet\\\\internet-full-2.jpg']"
      ]
     },
     "execution_count": 12,
     "metadata": {},
     "output_type": "execute_result"
    }
   ],
   "source": [
    "# Zmieniamy funkcję, aby przeszukiwała również podkatalogi\n",
    "def get_image_filenames(directory):\n",
    "    return [os.path.join(root, name)\n",
    "            for root, dirs, files in os.walk(directory)\n",
    "            for name in files\n",
    "            if name.endswith((\".png\", \".jpg\", \".jpeg\"))]\n",
    "\n",
    "# Ścieżka do obrazu, który chcesz przetestować\n",
    "test_photo_path = 'test_graphs'\n",
    "\n",
    "test_photos = get_image_filenames(test_photo_path)\n",
    "test_photos"
   ]
  },
  {
   "cell_type": "code",
   "execution_count": 13,
   "metadata": {},
   "outputs": [
    {
     "name": "stdout",
     "output_type": "stream",
     "text": [
      "\u001b[1m1/1\u001b[0m \u001b[32m━━━━━━━━━━━━━━━━━━━━\u001b[0m\u001b[37m\u001b[0m \u001b[1m0s\u001b[0m 106ms/step\n",
      "|- test_graphs\\drawn\\connected-drawn-1.png -| najprawdopodobniej należy do klasy |- full -| z prawdopodobieństwem 99.92 procent.\n",
      "\u001b[1m1/1\u001b[0m \u001b[32m━━━━━━━━━━━━━━━━━━━━\u001b[0m\u001b[37m\u001b[0m \u001b[1m0s\u001b[0m 18ms/step\n",
      "|- test_graphs\\drawn\\cycle-drawn-1.png -| najprawdopodobniej należy do klasy |- full -| z prawdopodobieństwem 96.60 procent.\n",
      "\u001b[1m1/1\u001b[0m \u001b[32m━━━━━━━━━━━━━━━━━━━━\u001b[0m\u001b[37m\u001b[0m \u001b[1m0s\u001b[0m 17ms/step\n",
      "|- test_graphs\\drawn\\full-drawn-1.jpg -| najprawdopodobniej należy do klasy |- full -| z prawdopodobieństwem 99.99 procent.\n",
      "\u001b[1m1/1\u001b[0m \u001b[32m━━━━━━━━━━━━━━━━━━━━\u001b[0m\u001b[37m\u001b[0m \u001b[1m0s\u001b[0m 18ms/step\n",
      "|- test_graphs\\drawn\\full-drawn-2.jpg -| najprawdopodobniej należy do klasy |- full -| z prawdopodobieństwem 100.00 procent.\n",
      "\u001b[1m1/1\u001b[0m \u001b[32m━━━━━━━━━━━━━━━━━━━━\u001b[0m\u001b[37m\u001b[0m \u001b[1m0s\u001b[0m 17ms/step\n",
      "|- test_graphs\\drawn\\full-drawn-3.png -| najprawdopodobniej należy do klasy |- full -| z prawdopodobieństwem 100.00 procent.\n",
      "\u001b[1m1/1\u001b[0m \u001b[32m━━━━━━━━━━━━━━━━━━━━\u001b[0m\u001b[37m\u001b[0m \u001b[1m0s\u001b[0m 17ms/step\n",
      "|- test_graphs\\drawn\\path-drawn-1.png -| najprawdopodobniej należy do klasy |- full -| z prawdopodobieństwem 54.20 procent.\n",
      "\u001b[1m1/1\u001b[0m \u001b[32m━━━━━━━━━━━━━━━━━━━━\u001b[0m\u001b[37m\u001b[0m \u001b[1m0s\u001b[0m 19ms/step\n",
      "|- test_graphs\\drawn\\path-drawn-2.png -| najprawdopodobniej należy do klasy |- tree-binary -| z prawdopodobieństwem 96.28 procent.\n",
      "\u001b[1m1/1\u001b[0m \u001b[32m━━━━━━━━━━━━━━━━━━━━\u001b[0m\u001b[37m\u001b[0m \u001b[1m0s\u001b[0m 17ms/step\n",
      "|- test_graphs\\drawn\\path-drawn-3.png -| najprawdopodobniej należy do klasy |- full -| z prawdopodobieństwem 85.59 procent.\n",
      "\u001b[1m1/1\u001b[0m \u001b[32m━━━━━━━━━━━━━━━━━━━━\u001b[0m\u001b[37m\u001b[0m \u001b[1m0s\u001b[0m 19ms/step\n",
      "|- test_graphs\\generated\\cycle-45.png -| najprawdopodobniej należy do klasy |- cycle -| z prawdopodobieństwem 100.00 procent.\n",
      "\u001b[1m1/1\u001b[0m \u001b[32m━━━━━━━━━━━━━━━━━━━━\u001b[0m\u001b[37m\u001b[0m \u001b[1m0s\u001b[0m 17ms/step\n",
      "|- test_graphs\\generated\\full-113.png -| najprawdopodobniej należy do klasy |- full -| z prawdopodobieństwem 98.91 procent.\n",
      "\u001b[1m1/1\u001b[0m \u001b[32m━━━━━━━━━━━━━━━━━━━━\u001b[0m\u001b[37m\u001b[0m \u001b[1m0s\u001b[0m 18ms/step\n",
      "|- test_graphs\\generated\\path-78.png -| najprawdopodobniej należy do klasy |- path -| z prawdopodobieństwem 99.88 procent.\n",
      "\u001b[1m1/1\u001b[0m \u001b[32m━━━━━━━━━━━━━━━━━━━━\u001b[0m\u001b[37m\u001b[0m \u001b[1m0s\u001b[0m 17ms/step\n",
      "|- test_graphs\\internet\\internet-cycle-1.png -| najprawdopodobniej należy do klasy |- cycle -| z prawdopodobieństwem 100.00 procent.\n",
      "\u001b[1m1/1\u001b[0m \u001b[32m━━━━━━━━━━━━━━━━━━━━\u001b[0m\u001b[37m\u001b[0m \u001b[1m0s\u001b[0m 18ms/step\n",
      "|- test_graphs\\internet\\internet-full-1.jpg -| najprawdopodobniej należy do klasy |- full -| z prawdopodobieństwem 99.90 procent.\n",
      "\u001b[1m1/1\u001b[0m \u001b[32m━━━━━━━━━━━━━━━━━━━━\u001b[0m\u001b[37m\u001b[0m \u001b[1m0s\u001b[0m 17ms/step\n",
      "|- test_graphs\\internet\\internet-full-2.jpg -| najprawdopodobniej należy do klasy |- empty -| z prawdopodobieństwem 98.40 procent.\n"
     ]
    }
   ],
   "source": [
    "for test_photo in test_photos:\n",
    "    # Wybór obrazka testowego\n",
    "    image_path = test_photo\n",
    "\n",
    "    # Wczytanie obrazu i dostosowanie go do odpowiedniego rozmiaru\n",
    "    img = tf.keras.preprocessing.image.load_img(image_path, target_size=(img_height, img_width))\n",
    "    img_array = tf.keras.preprocessing.image.img_to_array(img)\n",
    "    \n",
    "    # Przekształć obraz do skali szarości\n",
    "    img_array = rgb_to_grayscale(img_array)\n",
    "    # Rozszerz wymiary obrazu\n",
    "    img_array = tf.expand_dims(img_array, 0)\n",
    "\n",
    "    # Przewidywanie klasy obrazu\n",
    "    predictions = model.predict(img_array)\n",
    "    score = tf.nn.softmax(predictions[0])\n",
    "\n",
    "    print(\n",
    "        \"|- {} -| najprawdopodobniej należy do klasy |- {} -| z prawdopodobieństwem {:.2f} procent.\"\n",
    "        .format(test_photo, class_names[np.argmax(score)], 100 * np.max(score))\n",
    "    )"
   ]
  }
 ],
 "metadata": {
  "kernelspec": {
   "display_name": "env",
   "language": "python",
   "name": "python3"
  },
  "language_info": {
   "codemirror_mode": {
    "name": "ipython",
    "version": 3
   },
   "file_extension": ".py",
   "mimetype": "text/x-python",
   "name": "python",
   "nbconvert_exporter": "python",
   "pygments_lexer": "ipython3",
   "version": "3.10.5"
  }
 },
 "nbformat": 4,
 "nbformat_minor": 2
}
