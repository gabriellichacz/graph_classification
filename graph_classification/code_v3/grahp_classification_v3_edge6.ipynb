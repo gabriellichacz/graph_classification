{
 "cells": [
  {
   "cell_type": "markdown",
   "metadata": {},
   "source": [
    "Biblioteki"
   ]
  },
  {
   "cell_type": "code",
   "execution_count": 1,
   "metadata": {},
   "outputs": [],
   "source": [
    "import os\n",
    "import numpy as np\n",
    "import matplotlib.pyplot as plt\n",
    "import tensorflow as tf\n",
    "from PIL import Image\n",
    "from tensorflow.keras.preprocessing.image import ImageDataGenerator\n",
    "from tensorflow.keras.preprocessing import image\n",
    "from keras.models import Sequential\n",
    "from keras.layers import Conv2D, MaxPooling2D, Flatten, Dense\n",
    "from keras.callbacks import ReduceLROnPlateau\n",
    "import shutil\n",
    "from sklearn.model_selection import train_test_split"
   ]
  },
  {
   "cell_type": "markdown",
   "metadata": {},
   "source": [
    "Ścieżki i wstępne ustawienia"
   ]
  },
  {
   "cell_type": "code",
   "execution_count": 2,
   "metadata": {},
   "outputs": [],
   "source": [
    "model_name = \"model-grahp_classification_v3_edge6.keras\"\n",
    "# Ścieżka do katalogu z obrazami\n",
    "edge_count = '6' # tu do zmiany liczba wierzchołków do nauki modelu\n",
    "data_dir_generated = '../graph_generator/' + edge_count\n",
    "data_dir_model = 'graphs'\n",
    "train_dir = os.path.join(data_dir_model, 'train')\n",
    "validation_dir = os.path.join(data_dir_model, 'validation')\n",
    "\n",
    "# Sprawdź, czy katalogi istnieją, jeśli nie, stwórz je\n",
    "for directory in [data_dir_model, train_dir, validation_dir]:\n",
    "    if not os.path.exists(directory):\n",
    "        os.makedirs(directory)\n",
    "\n",
    "# Wielkość obrazów i wielkość partii\n",
    "img_height, img_width = 180, 180\n",
    "batch_size = 32"
   ]
  },
  {
   "cell_type": "markdown",
   "metadata": {},
   "source": [
    "Przenoszenie do katalogów"
   ]
  },
  {
   "cell_type": "code",
   "execution_count": 3,
   "metadata": {},
   "outputs": [],
   "source": [
    "# Pobierz listę wszystkich katalogów z grafami\n",
    "all_images_catalogs = os.listdir(data_dir_generated)\n",
    "\n",
    "for catalog in all_images_catalogs:\n",
    "    catalog_path = os.path.join(data_dir_generated, catalog)\n",
    "    all_images = os.listdir(catalog_path)\n",
    "\n",
    "    # Podziel listę obrazów na zestawy treningowe i walidacyjne\n",
    "    train_images, validation_images = train_test_split(all_images, test_size=0.2, random_state=42)\n",
    "\n",
    "    # Stwórz katalogi dla każdej klasy\n",
    "    train_class_dir = os.path.join(train_dir, catalog)\n",
    "    validation_class_dir = os.path.join(validation_dir, catalog)\n",
    "    for directory in [train_class_dir, validation_class_dir]:\n",
    "        if not os.path.exists(directory):\n",
    "            os.makedirs(directory)\n",
    "        else:\n",
    "            # Jeśli katalog nie jest pusty, wyczyść go\n",
    "            for file in os.listdir(directory):\n",
    "                os.remove(os.path.join(directory, file))\n",
    "\n",
    "    # Kopiuj obrazy do odpowiednich katalogów\n",
    "    for train_image in train_images:\n",
    "        shutil.copy(os.path.join(catalog_path, train_image), os.path.join(train_class_dir, train_image))\n",
    "\n",
    "    for validation_image in validation_images:\n",
    "        shutil.copy(os.path.join(catalog_path, validation_image), os.path.join(validation_class_dir, validation_image))"
   ]
  },
  {
   "cell_type": "code",
   "execution_count": 4,
   "metadata": {},
   "outputs": [],
   "source": [
    "def rgb_to_grayscale(images):\n",
    "    return tf.image.rgb_to_grayscale(images)"
   ]
  },
  {
   "cell_type": "code",
   "execution_count": 5,
   "metadata": {},
   "outputs": [],
   "source": [
    "try:\n",
    "    model = load_model(model_name)\n",
    "    model_loaded = True\n",
    "except:\n",
    "    model_loaded = False"
   ]
  },
  {
   "cell_type": "markdown",
   "metadata": {},
   "source": [
    "Model"
   ]
  },
  {
   "cell_type": "code",
   "execution_count": 6,
   "metadata": {},
   "outputs": [
    {
     "name": "stdout",
     "output_type": "stream",
     "text": [
      "Found 2000 files belonging to 5 classes.\n",
      "Found 500 files belonging to 5 classes.\n"
     ]
    }
   ],
   "source": [
    "if (model_loaded == False):\n",
    "  # Generowanie danych treningowych\n",
    "  train_ds = tf.keras.preprocessing.image_dataset_from_directory(\n",
    "    train_dir,\n",
    "    image_size=(img_height, img_width),\n",
    "    batch_size=batch_size)\n",
    "\n",
    "  class_names = train_ds.class_names\n",
    "\n",
    "  train_ds = train_ds.map(lambda x, y: (rgb_to_grayscale(x), y))\n",
    "\n",
    "  # Generowanie danych walidacyjnych\n",
    "  val_ds = tf.keras.preprocessing.image_dataset_from_directory(\n",
    "    validation_dir,\n",
    "    image_size=(img_height, img_width),\n",
    "    batch_size=batch_size)\n",
    "\n",
    "  val_ds = val_ds.map(lambda x, y: (rgb_to_grayscale(x), y))\n",
    "\n",
    "  # Tworzenie modelu\n",
    "  model = tf.keras.models.Sequential([\n",
    "    tf.keras.layers.Rescaling(1./255),\n",
    "    tf.keras.layers.Conv2D(32, 3, activation='relu'),\n",
    "    tf.keras.layers.MaxPooling2D(),\n",
    "    tf.keras.layers.Conv2D(32, 3, activation='relu'),\n",
    "    tf.keras.layers.MaxPooling2D(),\n",
    "    tf.keras.layers.Conv2D(32, 3, activation='relu'),\n",
    "    tf.keras.layers.MaxPooling2D(),\n",
    "    tf.keras.layers.Flatten(),\n",
    "    tf.keras.layers.Dense(128, activation='relu', kernel_regularizer=tf.keras.regularizers.l2(0.01)),\n",
    "    tf.keras.layers.Dropout(0.2),\n",
    "    tf.keras.layers.Dense(len(class_names))\n",
    "  ])"
   ]
  },
  {
   "cell_type": "code",
   "execution_count": 7,
   "metadata": {},
   "outputs": [
    {
     "name": "stdout",
     "output_type": "stream",
     "text": [
      "Epoch 1/75\n"
     ]
    },
    {
     "name": "stdout",
     "output_type": "stream",
     "text": [
      "\u001b[1m63/63\u001b[0m \u001b[32m━━━━━━━━━━━━━━━━━━━━\u001b[0m\u001b[37m\u001b[0m \u001b[1m11s\u001b[0m 148ms/step - accuracy: 0.2663 - loss: 2.5803 - val_accuracy: 0.9240 - val_loss: 0.6270\n",
      "Epoch 2/75\n",
      "\u001b[1m63/63\u001b[0m \u001b[32m━━━━━━━━━━━━━━━━━━━━\u001b[0m\u001b[37m\u001b[0m \u001b[1m11s\u001b[0m 165ms/step - accuracy: 0.8805 - loss: 0.5777 - val_accuracy: 0.9880 - val_loss: 0.2669\n",
      "Epoch 3/75\n",
      "\u001b[1m63/63\u001b[0m \u001b[32m━━━━━━━━━━━━━━━━━━━━\u001b[0m\u001b[37m\u001b[0m \u001b[1m10s\u001b[0m 157ms/step - accuracy: 0.9647 - loss: 0.2866 - val_accuracy: 0.9280 - val_loss: 0.3447\n",
      "Epoch 4/75\n",
      "\u001b[1m63/63\u001b[0m \u001b[32m━━━━━━━━━━━━━━━━━━━━\u001b[0m\u001b[37m\u001b[0m \u001b[1m9s\u001b[0m 139ms/step - accuracy: 0.9642 - loss: 0.2652 - val_accuracy: 0.9860 - val_loss: 0.2212\n",
      "Epoch 5/75\n",
      "\u001b[1m63/63\u001b[0m \u001b[32m━━━━━━━━━━━━━━━━━━━━\u001b[0m\u001b[37m\u001b[0m \u001b[1m9s\u001b[0m 135ms/step - accuracy: 0.9814 - loss: 0.1840 - val_accuracy: 0.9920 - val_loss: 0.1478\n",
      "Epoch 6/75\n",
      "\u001b[1m63/63\u001b[0m \u001b[32m━━━━━━━━━━━━━━━━━━━━\u001b[0m\u001b[37m\u001b[0m \u001b[1m9s\u001b[0m 137ms/step - accuracy: 0.9805 - loss: 0.1926 - val_accuracy: 0.9920 - val_loss: 0.1948\n",
      "Epoch 7/75\n",
      "\u001b[1m63/63\u001b[0m \u001b[32m━━━━━━━━━━━━━━━━━━━━\u001b[0m\u001b[37m\u001b[0m \u001b[1m8s\u001b[0m 130ms/step - accuracy: 0.9808 - loss: 0.1738 - val_accuracy: 0.9740 - val_loss: 0.1873\n",
      "Epoch 8/75\n",
      "\u001b[1m63/63\u001b[0m \u001b[32m━━━━━━━━━━━━━━━━━━━━\u001b[0m\u001b[37m\u001b[0m \u001b[1m9s\u001b[0m 136ms/step - accuracy: 0.9671 - loss: 0.2005 - val_accuracy: 0.9800 - val_loss: 0.1907\n",
      "Epoch 9/75\n",
      "\u001b[1m63/63\u001b[0m \u001b[32m━━━━━━━━━━━━━━━━━━━━\u001b[0m\u001b[37m\u001b[0m \u001b[1m8s\u001b[0m 131ms/step - accuracy: 0.9810 - loss: 0.1769 - val_accuracy: 0.9780 - val_loss: 0.1748\n",
      "Epoch 10/75\n",
      "\u001b[1m63/63\u001b[0m \u001b[32m━━━━━━━━━━━━━━━━━━━━\u001b[0m\u001b[37m\u001b[0m \u001b[1m9s\u001b[0m 142ms/step - accuracy: 0.9824 - loss: 0.1481 - val_accuracy: 0.9800 - val_loss: 0.1862\n",
      "Epoch 11/75\n",
      "\u001b[1m63/63\u001b[0m \u001b[32m━━━━━━━━━━━━━━━━━━━━\u001b[0m\u001b[37m\u001b[0m \u001b[1m9s\u001b[0m 135ms/step - accuracy: 0.9206 - loss: 0.3820 - val_accuracy: 0.9800 - val_loss: 0.2412\n",
      "Epoch 12/75\n",
      "\u001b[1m63/63\u001b[0m \u001b[32m━━━━━━━━━━━━━━━━━━━━\u001b[0m\u001b[37m\u001b[0m \u001b[1m9s\u001b[0m 135ms/step - accuracy: 0.9061 - loss: 0.4840 - val_accuracy: 0.9500 - val_loss: 0.3688\n",
      "Epoch 13/75\n",
      "\u001b[1m63/63\u001b[0m \u001b[32m━━━━━━━━━━━━━━━━━━━━\u001b[0m\u001b[37m\u001b[0m \u001b[1m8s\u001b[0m 128ms/step - accuracy: 0.9684 - loss: 0.2785 - val_accuracy: 0.9740 - val_loss: 0.2218\n",
      "Epoch 14/75\n",
      "\u001b[1m63/63\u001b[0m \u001b[32m━━━━━━━━━━━━━━━━━━━━\u001b[0m\u001b[37m\u001b[0m \u001b[1m9s\u001b[0m 137ms/step - accuracy: 0.9277 - loss: 0.3387 - val_accuracy: 0.9860 - val_loss: 0.2073\n",
      "Epoch 15/75\n",
      "\u001b[1m63/63\u001b[0m \u001b[32m━━━━━━━━━━━━━━━━━━━━\u001b[0m\u001b[37m\u001b[0m \u001b[1m9s\u001b[0m 135ms/step - accuracy: 0.9820 - loss: 0.1755 - val_accuracy: 0.9860 - val_loss: 0.1513\n",
      "Epoch 16/75\n",
      "\u001b[1m63/63\u001b[0m \u001b[32m━━━━━━━━━━━━━━━━━━━━\u001b[0m\u001b[37m\u001b[0m \u001b[1m9s\u001b[0m 136ms/step - accuracy: 0.9869 - loss: 0.1270 - val_accuracy: 0.9840 - val_loss: 0.1374\n",
      "Epoch 17/75\n",
      "\u001b[1m63/63\u001b[0m \u001b[32m━━━━━━━━━━━━━━━━━━━━\u001b[0m\u001b[37m\u001b[0m \u001b[1m9s\u001b[0m 136ms/step - accuracy: 0.9839 - loss: 0.1193 - val_accuracy: 0.9860 - val_loss: 0.1279\n",
      "Epoch 18/75\n",
      "\u001b[1m63/63\u001b[0m \u001b[32m━━━━━━━━━━━━━━━━━━━━\u001b[0m\u001b[37m\u001b[0m \u001b[1m9s\u001b[0m 138ms/step - accuracy: 0.9952 - loss: 0.0907 - val_accuracy: 0.9820 - val_loss: 0.1196\n",
      "Epoch 19/75\n",
      "\u001b[1m63/63\u001b[0m \u001b[32m━━━━━━━━━━━━━━━━━━━━\u001b[0m\u001b[37m\u001b[0m \u001b[1m9s\u001b[0m 136ms/step - accuracy: 0.9921 - loss: 0.0872 - val_accuracy: 0.9860 - val_loss: 0.1159\n",
      "Epoch 20/75\n",
      "\u001b[1m63/63\u001b[0m \u001b[32m━━━━━━━━━━━━━━━━━━━━\u001b[0m\u001b[37m\u001b[0m \u001b[1m8s\u001b[0m 132ms/step - accuracy: 0.9864 - loss: 0.1085 - val_accuracy: 0.9860 - val_loss: 0.1791\n",
      "Epoch 21/75\n",
      "\u001b[1m63/63\u001b[0m \u001b[32m━━━━━━━━━━━━━━━━━━━━\u001b[0m\u001b[37m\u001b[0m \u001b[1m9s\u001b[0m 145ms/step - accuracy: 0.9832 - loss: 0.1404 - val_accuracy: 0.9780 - val_loss: 0.1684\n",
      "Epoch 22/75\n",
      "\u001b[1m63/63\u001b[0m \u001b[32m━━━━━━━━━━━━━━━━━━━━\u001b[0m\u001b[37m\u001b[0m \u001b[1m9s\u001b[0m 134ms/step - accuracy: 0.9739 - loss: 0.1575 - val_accuracy: 0.9860 - val_loss: 0.1579\n",
      "Epoch 23/75\n",
      "\u001b[1m63/63\u001b[0m \u001b[32m━━━━━━━━━━━━━━━━━━━━\u001b[0m\u001b[37m\u001b[0m \u001b[1m9s\u001b[0m 137ms/step - accuracy: 0.9895 - loss: 0.1269 - val_accuracy: 0.9880 - val_loss: 0.1123\n",
      "Epoch 24/75\n",
      "\u001b[1m63/63\u001b[0m \u001b[32m━━━━━━━━━━━━━━━━━━━━\u001b[0m\u001b[37m\u001b[0m \u001b[1m9s\u001b[0m 141ms/step - accuracy: 0.9858 - loss: 0.1161 - val_accuracy: 0.9860 - val_loss: 0.1337\n",
      "Epoch 25/75\n",
      "\u001b[1m63/63\u001b[0m \u001b[32m━━━━━━━━━━━━━━━━━━━━\u001b[0m\u001b[37m\u001b[0m \u001b[1m9s\u001b[0m 143ms/step - accuracy: 0.9925 - loss: 0.1024 - val_accuracy: 0.9800 - val_loss: 0.1245\n",
      "Epoch 26/75\n",
      "\u001b[1m63/63\u001b[0m \u001b[32m━━━━━━━━━━━━━━━━━━━━\u001b[0m\u001b[37m\u001b[0m \u001b[1m9s\u001b[0m 140ms/step - accuracy: 0.9814 - loss: 0.1242 - val_accuracy: 0.9920 - val_loss: 0.1446\n",
      "Epoch 27/75\n",
      "\u001b[1m63/63\u001b[0m \u001b[32m━━━━━━━━━━━━━━━━━━━━\u001b[0m\u001b[37m\u001b[0m \u001b[1m9s\u001b[0m 141ms/step - accuracy: 0.9881 - loss: 0.1207 - val_accuracy: 0.9800 - val_loss: 0.1173\n",
      "Epoch 28/75\n",
      "\u001b[1m63/63\u001b[0m \u001b[32m━━━━━━━━━━━━━━━━━━━━\u001b[0m\u001b[37m\u001b[0m \u001b[1m9s\u001b[0m 134ms/step - accuracy: 0.9884 - loss: 0.0994 - val_accuracy: 0.9820 - val_loss: 0.1221\n",
      "Epoch 29/75\n",
      "\u001b[1m63/63\u001b[0m \u001b[32m━━━━━━━━━━━━━━━━━━━━\u001b[0m\u001b[37m\u001b[0m \u001b[1m9s\u001b[0m 141ms/step - accuracy: 0.9914 - loss: 0.0968 - val_accuracy: 0.9800 - val_loss: 0.0916\n",
      "Epoch 30/75\n",
      "\u001b[1m63/63\u001b[0m \u001b[32m━━━━━━━━━━━━━━━━━━━━\u001b[0m\u001b[37m\u001b[0m \u001b[1m9s\u001b[0m 141ms/step - accuracy: 0.9913 - loss: 0.0827 - val_accuracy: 0.9880 - val_loss: 0.1091\n",
      "Epoch 31/75\n",
      "\u001b[1m63/63\u001b[0m \u001b[32m━━━━━━━━━━━━━━━━━━━━\u001b[0m\u001b[37m\u001b[0m \u001b[1m9s\u001b[0m 138ms/step - accuracy: 0.9896 - loss: 0.0906 - val_accuracy: 0.9880 - val_loss: 0.1077\n",
      "Epoch 32/75\n",
      "\u001b[1m63/63\u001b[0m \u001b[32m━━━━━━━━━━━━━━━━━━━━\u001b[0m\u001b[37m\u001b[0m \u001b[1m9s\u001b[0m 135ms/step - accuracy: 0.9929 - loss: 0.0851 - val_accuracy: 0.9860 - val_loss: 0.1034\n",
      "Epoch 33/75\n",
      "\u001b[1m63/63\u001b[0m \u001b[32m━━━━━━━━━━━━━━━━━━━━\u001b[0m\u001b[37m\u001b[0m \u001b[1m9s\u001b[0m 140ms/step - accuracy: 0.9947 - loss: 0.0621 - val_accuracy: 0.9840 - val_loss: 0.1068\n",
      "Epoch 34/75\n",
      "\u001b[1m63/63\u001b[0m \u001b[32m━━━━━━━━━━━━━━━━━━━━\u001b[0m\u001b[37m\u001b[0m \u001b[1m9s\u001b[0m 145ms/step - accuracy: 0.9892 - loss: 0.0820 - val_accuracy: 0.9900 - val_loss: 0.0898\n",
      "Epoch 35/75\n",
      "\u001b[1m63/63\u001b[0m \u001b[32m━━━━━━━━━━━━━━━━━━━━\u001b[0m\u001b[37m\u001b[0m \u001b[1m8s\u001b[0m 133ms/step - accuracy: 0.9865 - loss: 0.0907 - val_accuracy: 0.8540 - val_loss: 0.4560\n",
      "Epoch 36/75\n",
      "\u001b[1m63/63\u001b[0m \u001b[32m━━━━━━━━━━━━━━━━━━━━\u001b[0m\u001b[37m\u001b[0m \u001b[1m9s\u001b[0m 133ms/step - accuracy: 0.9143 - loss: 0.3524 - val_accuracy: 0.9860 - val_loss: 0.1780\n",
      "Epoch 37/75\n",
      "\u001b[1m63/63\u001b[0m \u001b[32m━━━━━━━━━━━━━━━━━━━━\u001b[0m\u001b[37m\u001b[0m \u001b[1m9s\u001b[0m 142ms/step - accuracy: 0.9835 - loss: 0.1627 - val_accuracy: 0.9880 - val_loss: 0.1206\n",
      "Epoch 38/75\n",
      "\u001b[1m63/63\u001b[0m \u001b[32m━━━━━━━━━━━━━━━━━━━━\u001b[0m\u001b[37m\u001b[0m \u001b[1m9s\u001b[0m 135ms/step - accuracy: 0.9899 - loss: 0.0950 - val_accuracy: 0.9860 - val_loss: 0.1001\n",
      "Epoch 39/75\n",
      "\u001b[1m63/63\u001b[0m \u001b[32m━━━━━━━━━━━━━━━━━━━━\u001b[0m\u001b[37m\u001b[0m \u001b[1m8s\u001b[0m 133ms/step - accuracy: 0.9938 - loss: 0.0722 - val_accuracy: 0.9900 - val_loss: 0.0912\n",
      "Epoch 40/75\n",
      "\u001b[1m63/63\u001b[0m \u001b[32m━━━━━━━━━━━━━━━━━━━━\u001b[0m\u001b[37m\u001b[0m \u001b[1m9s\u001b[0m 140ms/step - accuracy: 0.9946 - loss: 0.0672 - val_accuracy: 0.9900 - val_loss: 0.1011\n",
      "Epoch 41/75\n",
      "\u001b[1m63/63\u001b[0m \u001b[32m━━━━━━━━━━━━━━━━━━━━\u001b[0m\u001b[37m\u001b[0m \u001b[1m8s\u001b[0m 132ms/step - accuracy: 0.9945 - loss: 0.0644 - val_accuracy: 0.9840 - val_loss: 0.1263\n",
      "Epoch 42/75\n",
      "\u001b[1m63/63\u001b[0m \u001b[32m━━━━━━━━━━━━━━━━━━━━\u001b[0m\u001b[37m\u001b[0m \u001b[1m8s\u001b[0m 129ms/step - accuracy: 0.9812 - loss: 0.1155 - val_accuracy: 0.9800 - val_loss: 0.1205\n",
      "Epoch 43/75\n",
      "\u001b[1m63/63\u001b[0m \u001b[32m━━━━━━━━━━━━━━━━━━━━\u001b[0m\u001b[37m\u001b[0m \u001b[1m8s\u001b[0m 132ms/step - accuracy: 0.9950 - loss: 0.0674 - val_accuracy: 0.9880 - val_loss: 0.1091\n",
      "Epoch 44/75\n",
      "\u001b[1m63/63\u001b[0m \u001b[32m━━━━━━━━━━━━━━━━━━━━\u001b[0m\u001b[37m\u001b[0m \u001b[1m9s\u001b[0m 137ms/step - accuracy: 0.9893 - loss: 0.0778 - val_accuracy: 0.9900 - val_loss: 0.0945\n",
      "Epoch 45/75\n",
      "\u001b[1m63/63\u001b[0m \u001b[32m━━━━━━━━━━━━━━━━━━━━\u001b[0m\u001b[37m\u001b[0m \u001b[1m9s\u001b[0m 143ms/step - accuracy: 0.9910 - loss: 0.0780 - val_accuracy: 0.9820 - val_loss: 0.1299\n",
      "Epoch 46/75\n",
      "\u001b[1m63/63\u001b[0m \u001b[32m━━━━━━━━━━━━━━━━━━━━\u001b[0m\u001b[37m\u001b[0m \u001b[1m8s\u001b[0m 131ms/step - accuracy: 0.9922 - loss: 0.0956 - val_accuracy: 0.9880 - val_loss: 0.1199\n",
      "Epoch 47/75\n",
      "\u001b[1m63/63\u001b[0m \u001b[32m━━━━━━━━━━━━━━━━━━━━\u001b[0m\u001b[37m\u001b[0m \u001b[1m9s\u001b[0m 135ms/step - accuracy: 0.9930 - loss: 0.0807 - val_accuracy: 0.9900 - val_loss: 0.0916\n",
      "Epoch 48/75\n",
      "\u001b[1m63/63\u001b[0m \u001b[32m━━━━━━━━━━━━━━━━━━━━\u001b[0m\u001b[37m\u001b[0m \u001b[1m9s\u001b[0m 147ms/step - accuracy: 0.9959 - loss: 0.0578 - val_accuracy: 0.9860 - val_loss: 0.0910\n",
      "Epoch 49/75\n",
      "\u001b[1m63/63\u001b[0m \u001b[32m━━━━━━━━━━━━━━━━━━━━\u001b[0m\u001b[37m\u001b[0m \u001b[1m9s\u001b[0m 137ms/step - accuracy: 0.9919 - loss: 0.0567 - val_accuracy: 0.9880 - val_loss: 0.0920\n",
      "Epoch 50/75\n",
      "\u001b[1m63/63\u001b[0m \u001b[32m━━━━━━━━━━━━━━━━━━━━\u001b[0m\u001b[37m\u001b[0m \u001b[1m10s\u001b[0m 151ms/step - accuracy: 0.9888 - loss: 0.0721 - val_accuracy: 0.9860 - val_loss: 0.1085\n",
      "Epoch 51/75\n",
      "\u001b[1m63/63\u001b[0m \u001b[32m━━━━━━━━━━━━━━━━━━━━\u001b[0m\u001b[37m\u001b[0m \u001b[1m9s\u001b[0m 145ms/step - accuracy: 0.9913 - loss: 0.0838 - val_accuracy: 0.9720 - val_loss: 0.1658\n",
      "Epoch 52/75\n",
      "\u001b[1m63/63\u001b[0m \u001b[32m━━━━━━━━━━━━━━━━━━━━\u001b[0m\u001b[37m\u001b[0m \u001b[1m9s\u001b[0m 142ms/step - accuracy: 0.9823 - loss: 0.1550 - val_accuracy: 0.9780 - val_loss: 0.1722\n",
      "Epoch 53/75\n",
      "\u001b[1m63/63\u001b[0m \u001b[32m━━━━━━━━━━━━━━━━━━━━\u001b[0m\u001b[37m\u001b[0m \u001b[1m9s\u001b[0m 141ms/step - accuracy: 0.9873 - loss: 0.1110 - val_accuracy: 0.9880 - val_loss: 0.1002\n",
      "Epoch 54/75\n",
      "\u001b[1m63/63\u001b[0m \u001b[32m━━━━━━━━━━━━━━━━━━━━\u001b[0m\u001b[37m\u001b[0m \u001b[1m9s\u001b[0m 133ms/step - accuracy: 0.9910 - loss: 0.0815 - val_accuracy: 0.9900 - val_loss: 0.0996\n",
      "Epoch 55/75\n",
      "\u001b[1m63/63\u001b[0m \u001b[32m━━━━━━━━━━━━━━━━━━━━\u001b[0m\u001b[37m\u001b[0m \u001b[1m9s\u001b[0m 135ms/step - accuracy: 0.9898 - loss: 0.0804 - val_accuracy: 0.7860 - val_loss: 0.5594\n",
      "Epoch 56/75\n",
      "\u001b[1m63/63\u001b[0m \u001b[32m━━━━━━━━━━━━━━━━━━━━\u001b[0m\u001b[37m\u001b[0m \u001b[1m9s\u001b[0m 139ms/step - accuracy: 0.9303 - loss: 0.2841 - val_accuracy: 0.9840 - val_loss: 0.1452\n",
      "Epoch 57/75\n",
      "\u001b[1m63/63\u001b[0m \u001b[32m━━━━━━━━━━━━━━━━━━━━\u001b[0m\u001b[37m\u001b[0m \u001b[1m9s\u001b[0m 134ms/step - accuracy: 0.9470 - loss: 0.2739 - val_accuracy: 0.9760 - val_loss: 0.1946\n",
      "Epoch 58/75\n",
      "\u001b[1m63/63\u001b[0m \u001b[32m━━━━━━━━━━━━━━━━━━━━\u001b[0m\u001b[37m\u001b[0m \u001b[1m9s\u001b[0m 138ms/step - accuracy: 0.9833 - loss: 0.1440 - val_accuracy: 0.9860 - val_loss: 0.1379\n",
      "Epoch 59/75\n",
      "\u001b[1m63/63\u001b[0m \u001b[32m━━━━━━━━━━━━━━━━━━━━\u001b[0m\u001b[37m\u001b[0m \u001b[1m9s\u001b[0m 145ms/step - accuracy: 0.9890 - loss: 0.1145 - val_accuracy: 0.9900 - val_loss: 0.1088\n",
      "Epoch 60/75\n",
      "\u001b[1m63/63\u001b[0m \u001b[32m━━━━━━━━━━━━━━━━━━━━\u001b[0m\u001b[37m\u001b[0m \u001b[1m10s\u001b[0m 155ms/step - accuracy: 0.9944 - loss: 0.0703 - val_accuracy: 0.9880 - val_loss: 0.1014\n",
      "Epoch 61/75\n",
      "\u001b[1m63/63\u001b[0m \u001b[32m━━━━━━━━━━━━━━━━━━━━\u001b[0m\u001b[37m\u001b[0m \u001b[1m9s\u001b[0m 146ms/step - accuracy: 0.9934 - loss: 0.0618 - val_accuracy: 0.9900 - val_loss: 0.1011\n",
      "Epoch 62/75\n",
      "\u001b[1m63/63\u001b[0m \u001b[32m━━━━━━━━━━━━━━━━━━━━\u001b[0m\u001b[37m\u001b[0m \u001b[1m10s\u001b[0m 153ms/step - accuracy: 0.9940 - loss: 0.0598 - val_accuracy: 0.9920 - val_loss: 0.0774\n",
      "Epoch 63/75\n",
      "\u001b[1m63/63\u001b[0m \u001b[32m━━━━━━━━━━━━━━━━━━━━\u001b[0m\u001b[37m\u001b[0m \u001b[1m9s\u001b[0m 143ms/step - accuracy: 0.9958 - loss: 0.0461 - val_accuracy: 0.9920 - val_loss: 0.0686\n",
      "Epoch 64/75\n",
      "\u001b[1m63/63\u001b[0m \u001b[32m━━━━━━━━━━━━━━━━━━━━\u001b[0m\u001b[37m\u001b[0m \u001b[1m9s\u001b[0m 142ms/step - accuracy: 0.9939 - loss: 0.0497 - val_accuracy: 0.9920 - val_loss: 0.0736\n",
      "Epoch 65/75\n",
      "\u001b[1m63/63\u001b[0m \u001b[32m━━━━━━━━━━━━━━━━━━━━\u001b[0m\u001b[37m\u001b[0m \u001b[1m9s\u001b[0m 148ms/step - accuracy: 0.9925 - loss: 0.0507 - val_accuracy: 0.9840 - val_loss: 0.0986\n",
      "Epoch 66/75\n",
      "\u001b[1m63/63\u001b[0m \u001b[32m━━━━━━━━━━━━━━━━━━━━\u001b[0m\u001b[37m\u001b[0m \u001b[1m11s\u001b[0m 165ms/step - accuracy: 0.9952 - loss: 0.0461 - val_accuracy: 0.9780 - val_loss: 0.0840\n",
      "Epoch 67/75\n",
      "\u001b[1m63/63\u001b[0m \u001b[32m━━━━━━━━━━━━━━━━━━━━\u001b[0m\u001b[37m\u001b[0m \u001b[1m10s\u001b[0m 158ms/step - accuracy: 0.9902 - loss: 0.0629 - val_accuracy: 0.9880 - val_loss: 0.1096\n",
      "Epoch 68/75\n",
      "\u001b[1m63/63\u001b[0m \u001b[32m━━━━━━━━━━━━━━━━━━━━\u001b[0m\u001b[37m\u001b[0m \u001b[1m10s\u001b[0m 158ms/step - accuracy: 0.9861 - loss: 0.0741 - val_accuracy: 0.9840 - val_loss: 0.1010\n",
      "Epoch 69/75\n",
      "\u001b[1m63/63\u001b[0m \u001b[32m━━━━━━━━━━━━━━━━━━━━\u001b[0m\u001b[37m\u001b[0m \u001b[1m9s\u001b[0m 143ms/step - accuracy: 0.9926 - loss: 0.0592 - val_accuracy: 0.9900 - val_loss: 0.0713\n",
      "Epoch 70/75\n",
      "\u001b[1m63/63\u001b[0m \u001b[32m━━━━━━━━━━━━━━━━━━━━\u001b[0m\u001b[37m\u001b[0m \u001b[1m10s\u001b[0m 154ms/step - accuracy: 0.9952 - loss: 0.0483 - val_accuracy: 0.9900 - val_loss: 0.0874\n",
      "Epoch 71/75\n",
      "\u001b[1m63/63\u001b[0m \u001b[32m━━━━━━━━━━━━━━━━━━━━\u001b[0m\u001b[37m\u001b[0m \u001b[1m9s\u001b[0m 145ms/step - accuracy: 0.9910 - loss: 0.0573 - val_accuracy: 0.9840 - val_loss: 0.0801\n",
      "Epoch 72/75\n",
      "\u001b[1m63/63\u001b[0m \u001b[32m━━━━━━━━━━━━━━━━━━━━\u001b[0m\u001b[37m\u001b[0m \u001b[1m9s\u001b[0m 145ms/step - accuracy: 0.9752 - loss: 0.1214 - val_accuracy: 0.9780 - val_loss: 0.1549\n",
      "Epoch 73/75\n",
      "\u001b[1m63/63\u001b[0m \u001b[32m━━━━━━━━━━━━━━━━━━━━\u001b[0m\u001b[37m\u001b[0m \u001b[1m10s\u001b[0m 149ms/step - accuracy: 0.9821 - loss: 0.1096 - val_accuracy: 0.9860 - val_loss: 0.1403\n",
      "Epoch 74/75\n",
      "\u001b[1m63/63\u001b[0m \u001b[32m━━━━━━━━━━━━━━━━━━━━\u001b[0m\u001b[37m\u001b[0m \u001b[1m9s\u001b[0m 146ms/step - accuracy: 0.9916 - loss: 0.0994 - val_accuracy: 0.9880 - val_loss: 0.0852\n",
      "Epoch 75/75\n",
      "\u001b[1m63/63\u001b[0m \u001b[32m━━━━━━━━━━━━━━━━━━━━\u001b[0m\u001b[37m\u001b[0m \u001b[1m9s\u001b[0m 136ms/step - accuracy: 0.9959 - loss: 0.0557 - val_accuracy: 0.9900 - val_loss: 0.0823\n"
     ]
    }
   ],
   "source": [
    "if (model_loaded == False):\n",
    "  # Kompilacja modelu\n",
    "  model.compile(\n",
    "    optimizer='adam',\n",
    "    loss=tf.losses.SparseCategoricalCrossentropy(from_logits=True),\n",
    "    metrics=['accuracy'])\n",
    "\n",
    "  # Trenowanie modelu\n",
    "  history = model.fit(\n",
    "    train_ds,\n",
    "    validation_data=val_ds,\n",
    "    epochs=75\n",
    "  )"
   ]
  },
  {
   "cell_type": "code",
   "execution_count": 8,
   "metadata": {},
   "outputs": [],
   "source": [
    "model.save(model_name)"
   ]
  },
  {
   "cell_type": "code",
   "execution_count": 9,
   "metadata": {},
   "outputs": [
    {
     "name": "stdout",
     "output_type": "stream",
     "text": [
      "Dokładność na zbiorze treningowym:  [0.39800000190734863, 0.9375, 0.9704999923706055, 0.9725000262260437, 0.9835000038146973, 0.9815000295639038, 0.9794999957084656, 0.9735000133514404, 0.9850000143051147, 0.9854999780654907, 0.9480000138282776, 0.9254999756813049, 0.9775000214576721, 0.9539999961853027, 0.9860000014305115, 0.9879999756813049, 0.9894999861717224, 0.9940000176429749, 0.9915000200271606, 0.9850000143051147, 0.9860000014305115, 0.9779999852180481, 0.9904999732971191, 0.9894999861717224, 0.9934999942779541, 0.9835000038146973, 0.9925000071525574, 0.9879999756813049, 0.9940000176429749, 0.9919999837875366, 0.9909999966621399, 0.9944999814033508, 0.9940000176429749, 0.9919999837875366, 0.9825000166893005, 0.9484999775886536, 0.9915000200271606, 0.9934999942779541, 0.9944999814033508, 0.9934999942779541, 0.9904999732971191, 0.9900000095367432, 0.9950000047683716, 0.9904999732971191, 0.9884999990463257, 0.9940000176429749, 0.9955000281333923, 0.9965000152587891, 0.9940000176429749, 0.9869999885559082, 0.9869999885559082, 0.9860000014305115, 0.9900000095367432, 0.9900000095367432, 0.9695000052452087, 0.9670000076293945, 0.9549999833106995, 0.9894999861717224, 0.9934999942779541, 0.9959999918937683, 0.9965000152587891, 0.9965000152587891, 0.9965000152587891, 0.9944999814033508, 0.9955000281333923, 0.9959999918937683, 0.9919999837875366, 0.9904999732971191, 0.9940000176429749, 0.9959999918937683, 0.9940000176429749, 0.9775000214576721, 0.9865000247955322, 0.9944999814033508, 0.9955000281333923]\n",
      "Dokładność na zbiorze walidacyjnym:  [0.9240000247955322, 0.9879999756813049, 0.9279999732971191, 0.9860000014305115, 0.9919999837875366, 0.9919999837875366, 0.9739999771118164, 0.9800000190734863, 0.9779999852180481, 0.9800000190734863, 0.9800000190734863, 0.949999988079071, 0.9739999771118164, 0.9860000014305115, 0.9860000014305115, 0.984000027179718, 0.9860000014305115, 0.9819999933242798, 0.9860000014305115, 0.9860000014305115, 0.9779999852180481, 0.9860000014305115, 0.9879999756813049, 0.9860000014305115, 0.9800000190734863, 0.9919999837875366, 0.9800000190734863, 0.9819999933242798, 0.9800000190734863, 0.9879999756813049, 0.9879999756813049, 0.9860000014305115, 0.984000027179718, 0.9900000095367432, 0.8539999723434448, 0.9860000014305115, 0.9879999756813049, 0.9860000014305115, 0.9900000095367432, 0.9900000095367432, 0.984000027179718, 0.9800000190734863, 0.9879999756813049, 0.9900000095367432, 0.9819999933242798, 0.9879999756813049, 0.9900000095367432, 0.9860000014305115, 0.9879999756813049, 0.9860000014305115, 0.972000002861023, 0.9779999852180481, 0.9879999756813049, 0.9900000095367432, 0.7860000133514404, 0.984000027179718, 0.9760000109672546, 0.9860000014305115, 0.9900000095367432, 0.9879999756813049, 0.9900000095367432, 0.9919999837875366, 0.9919999837875366, 0.9919999837875366, 0.984000027179718, 0.9779999852180481, 0.9879999756813049, 0.984000027179718, 0.9900000095367432, 0.9900000095367432, 0.984000027179718, 0.9779999852180481, 0.9860000014305115, 0.9879999756813049, 0.9900000095367432]\n"
     ]
    }
   ],
   "source": [
    "# Wyświetlanie dokładności na zbiorze treningowym i walidacyjnym\n",
    "acc = history.history['accuracy']\n",
    "val_acc = history.history['val_accuracy']\n",
    "print(\"Dokładność na zbiorze treningowym: \", acc)\n",
    "print(\"Dokładność na zbiorze walidacyjnym: \", val_acc)"
   ]
  },
  {
   "cell_type": "code",
   "execution_count": 10,
   "metadata": {},
   "outputs": [
    {
     "data": {
      "image/png": "[encoded data removed]",
      "text/plain": [
       "<Figure size 1200x400 with 2 Axes>"
      ]
     },
     "metadata": {},
     "output_type": "display_data"
    }
   ],
   "source": [
    "# Wykres dokładności\n",
    "plt.figure(figsize=(12, 4))\n",
    "plt.subplot(1, 2, 1)\n",
    "plt.plot(history.history['accuracy'], label='Dokładność (trening)')\n",
    "plt.plot(history.history['val_accuracy'], label='Dokładność (walidacja)')\n",
    "plt.legend(loc='lower right')\n",
    "plt.title('Dokładność modelu')\n",
    "plt.ylabel('Dokładność')\n",
    "plt.xlabel('Epoka')\n",
    "\n",
    "# Wykres straty\n",
    "plt.subplot(1, 2, 2)\n",
    "plt.plot(history.history['loss'], label='Strata (trening)')\n",
    "plt.plot(history.history['val_loss'], label='Strata (walidacja)')\n",
    "plt.legend(loc='upper right')\n",
    "plt.title('Strata modelu')\n",
    "plt.ylabel('Strata')\n",
    "plt.xlabel('Epoka')\n",
    "\n",
    "plt.show()"
   ]
  },
  {
   "cell_type": "code",
   "execution_count": 11,
   "metadata": {},
   "outputs": [],
   "source": [
    "def get_image_filenames(folder):\n",
    "    filenames = []\n",
    "    for filename in os.listdir(folder):\n",
    "        if filename.endswith(\".jpg\") or filename.endswith(\".png\"): # Add or modify to suit your image file types\n",
    "            filenames.append(filename)\n",
    "    return filenames"
   ]
  },
  {
   "cell_type": "code",
   "execution_count": 12,
   "metadata": {},
   "outputs": [
    {
     "data": {
      "text/plain": [
       "['test_graphs\\\\drawn\\\\connected-drawn-1.png',\n",
       " 'test_graphs\\\\drawn\\\\cycle-drawn-1.png',\n",
       " 'test_graphs\\\\drawn\\\\full-drawn-1.jpg',\n",
       " 'test_graphs\\\\drawn\\\\full-drawn-2.jpg',\n",
       " 'test_graphs\\\\drawn\\\\full-drawn-3.png',\n",
       " 'test_graphs\\\\drawn\\\\path-drawn-1.png',\n",
       " 'test_graphs\\\\drawn\\\\path-drawn-2.png',\n",
       " 'test_graphs\\\\drawn\\\\path-drawn-3.png',\n",
       " 'test_graphs\\\\generated\\\\cycle-45.png',\n",
       " 'test_graphs\\\\generated\\\\full-113.png',\n",
       " 'test_graphs\\\\generated\\\\path-78.png',\n",
       " 'test_graphs\\\\internet\\\\internet-cycle-1.png',\n",
       " 'test_graphs\\\\internet\\\\internet-full-1.jpg',\n",
       " 'test_graphs\\\\internet\\\\internet-full-2.jpg']"
      ]
     },
     "execution_count": 12,
     "metadata": {},
     "output_type": "execute_result"
    }
   ],
   "source": [
    "# Zmieniamy funkcję, aby przeszukiwała również podkatalogi\n",
    "def get_image_filenames(directory):\n",
    "    return [os.path.join(root, name)\n",
    "            for root, dirs, files in os.walk(directory)\n",
    "            for name in files\n",
    "            if name.endswith((\".png\", \".jpg\", \".jpeg\"))]\n",
    "\n",
    "# Ścieżka do obrazu, który chcesz przetestować\n",
    "test_photo_path = 'test_graphs'\n",
    "\n",
    "test_photos = get_image_filenames(test_photo_path)\n",
    "test_photos"
   ]
  },
  {
   "cell_type": "code",
   "execution_count": 13,
   "metadata": {},
   "outputs": [
    {
     "name": "stdout",
     "output_type": "stream",
     "text": [
      "\u001b[1m1/1\u001b[0m \u001b[32m━━━━━━━━━━━━━━━━━━━━\u001b[0m\u001b[37m\u001b[0m \u001b[1m0s\u001b[0m 67ms/step\n",
      "|- test_graphs\\drawn\\connected-drawn-1.png -| najprawdopodobniej należy do klasy |- full -| z prawdopodobieństwem 99.98 procent.\n",
      "\u001b[1m1/1\u001b[0m \u001b[32m━━━━━━━━━━━━━━━━━━━━\u001b[0m\u001b[37m\u001b[0m \u001b[1m0s\u001b[0m 17ms/step\n",
      "|- test_graphs\\drawn\\cycle-drawn-1.png -| najprawdopodobniej należy do klasy |- cycle -| z prawdopodobieństwem 80.90 procent.\n",
      "\u001b[1m1/1\u001b[0m \u001b[32m━━━━━━━━━━━━━━━━━━━━\u001b[0m\u001b[37m\u001b[0m \u001b[1m0s\u001b[0m 19ms/step\n",
      "|- test_graphs\\drawn\\full-drawn-1.jpg -| najprawdopodobniej należy do klasy |- full -| z prawdopodobieństwem 99.97 procent.\n",
      "\u001b[1m1/1\u001b[0m \u001b[32m━━━━━━━━━━━━━━━━━━━━\u001b[0m\u001b[37m\u001b[0m \u001b[1m0s\u001b[0m 18ms/step\n",
      "|- test_graphs\\drawn\\full-drawn-2.jpg -| najprawdopodobniej należy do klasy |- full -| z prawdopodobieństwem 100.00 procent.\n",
      "\u001b[1m1/1\u001b[0m \u001b[32m━━━━━━━━━━━━━━━━━━━━\u001b[0m\u001b[37m\u001b[0m \u001b[1m0s\u001b[0m 18ms/step\n",
      "|- test_graphs\\drawn\\full-drawn-3.png -| najprawdopodobniej należy do klasy |- full -| z prawdopodobieństwem 100.00 procent.\n",
      "\u001b[1m1/1\u001b[0m \u001b[32m━━━━━━━━━━━━━━━━━━━━\u001b[0m\u001b[37m\u001b[0m \u001b[1m0s\u001b[0m 17ms/step\n",
      "|- test_graphs\\drawn\\path-drawn-1.png -| najprawdopodobniej należy do klasy |- full -| z prawdopodobieństwem 93.46 procent.\n",
      "\u001b[1m1/1\u001b[0m \u001b[32m━━━━━━━━━━━━━━━━━━━━\u001b[0m\u001b[37m\u001b[0m \u001b[1m0s\u001b[0m 17ms/step\n",
      "|- test_graphs\\drawn\\path-drawn-2.png -| najprawdopodobniej należy do klasy |- full -| z prawdopodobieństwem 84.06 procent.\n",
      "\u001b[1m1/1\u001b[0m \u001b[32m━━━━━━━━━━━━━━━━━━━━\u001b[0m\u001b[37m\u001b[0m \u001b[1m0s\u001b[0m 18ms/step\n",
      "|- test_graphs\\drawn\\path-drawn-3.png -| najprawdopodobniej należy do klasy |- full -| z prawdopodobieństwem 99.95 procent.\n",
      "\u001b[1m1/1\u001b[0m \u001b[32m━━━━━━━━━━━━━━━━━━━━\u001b[0m\u001b[37m\u001b[0m \u001b[1m0s\u001b[0m 17ms/step\n",
      "|- test_graphs\\generated\\cycle-45.png -| najprawdopodobniej należy do klasy |- cycle -| z prawdopodobieństwem 97.19 procent.\n",
      "\u001b[1m1/1\u001b[0m \u001b[32m━━━━━━━━━━━━━━━━━━━━\u001b[0m\u001b[37m\u001b[0m \u001b[1m0s\u001b[0m 18ms/step\n",
      "|- test_graphs\\generated\\full-113.png -| najprawdopodobniej należy do klasy |- full -| z prawdopodobieństwem 86.45 procent.\n",
      "\u001b[1m1/1\u001b[0m \u001b[32m━━━━━━━━━━━━━━━━━━━━\u001b[0m\u001b[37m\u001b[0m \u001b[1m0s\u001b[0m 17ms/step\n",
      "|- test_graphs\\generated\\path-78.png -| najprawdopodobniej należy do klasy |- path -| z prawdopodobieństwem 99.90 procent.\n",
      "\u001b[1m1/1\u001b[0m \u001b[32m━━━━━━━━━━━━━━━━━━━━\u001b[0m\u001b[37m\u001b[0m \u001b[1m0s\u001b[0m 17ms/step\n",
      "|- test_graphs\\internet\\internet-cycle-1.png -| najprawdopodobniej należy do klasy |- cycle -| z prawdopodobieństwem 100.00 procent.\n",
      "\u001b[1m1/1\u001b[0m \u001b[32m━━━━━━━━━━━━━━━━━━━━\u001b[0m\u001b[37m\u001b[0m \u001b[1m0s\u001b[0m 17ms/step\n",
      "|- test_graphs\\internet\\internet-full-1.jpg -| najprawdopodobniej należy do klasy |- full -| z prawdopodobieństwem 98.80 procent.\n",
      "\u001b[1m1/1\u001b[0m \u001b[32m━━━━━━━━━━━━━━━━━━━━\u001b[0m\u001b[37m\u001b[0m \u001b[1m0s\u001b[0m 17ms/step\n",
      "|- test_graphs\\internet\\internet-full-2.jpg -| najprawdopodobniej należy do klasy |- empty -| z prawdopodobieństwem 98.36 procent.\n"
     ]
    }
   ],
   "source": [
    "for test_photo in test_photos:\n",
    "    # Wybór obrazka testowego\n",
    "    image_path = test_photo\n",
    "\n",
    "    # Wczytanie obrazu i dostosowanie go do odpowiedniego rozmiaru\n",
    "    img = tf.keras.preprocessing.image.load_img(image_path, target_size=(img_height, img_width))\n",
    "    img_array = tf.keras.preprocessing.image.img_to_array(img)\n",
    "    \n",
    "    # Przekształć obraz do skali szarości\n",
    "    img_array = rgb_to_grayscale(img_array)\n",
    "    # Rozszerz wymiary obrazu\n",
    "    img_array = tf.expand_dims(img_array, 0)\n",
    "\n",
    "    # Przewidywanie klasy obrazu\n",
    "    predictions = model.predict(img_array)\n",
    "    score = tf.nn.softmax(predictions[0])\n",
    "\n",
    "    print(\n",
    "        \"|- {} -| najprawdopodobniej należy do klasy |- {} -| z prawdopodobieństwem {:.2f} procent.\"\n",
    "        .format(test_photo, class_names[np.argmax(score)], 100 * np.max(score))\n",
    "    )"
   ]
  }
 ],
 "metadata": {
  "kernelspec": {
   "display_name": "env",
   "language": "python",
   "name": "python3"
  },
  "language_info": {
   "codemirror_mode": {
    "name": "ipython",
    "version": 3
   },
   "file_extension": ".py",
   "mimetype": "text/x-python",
   "name": "python",
   "nbconvert_exporter": "python",
   "pygments_lexer": "ipython3",
   "version": "3.10.5"
  }
 },
 "nbformat": 4,
 "nbformat_minor": 2
}
