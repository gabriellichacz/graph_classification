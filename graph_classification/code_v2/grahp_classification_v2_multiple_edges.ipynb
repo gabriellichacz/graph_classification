{
 "cells": [
  {
   "cell_type": "markdown",
   "metadata": {},
   "source": [
    "Biblioteki"
   ]
  },
  {
   "cell_type": "code",
   "execution_count": 1,
   "metadata": {},
   "outputs": [],
   "source": [
    "import os\n",
    "import numpy as np\n",
    "import matplotlib.pyplot as plt\n",
    "import tensorflow as tf\n",
    "from PIL import Image\n",
    "from tensorflow.keras.preprocessing.image import ImageDataGenerator\n",
    "from tensorflow.keras.preprocessing import image\n",
    "from keras.models import Sequential\n",
    "from keras.layers import Conv2D, MaxPooling2D, Flatten, Dense\n",
    "from keras.callbacks import ReduceLROnPlateau\n",
    "import shutil\n",
    "from sklearn.model_selection import train_test_split"
   ]
  },
  {
   "cell_type": "markdown",
   "metadata": {},
   "source": [
    "Ścieżki i wstępne ustawienia"
   ]
  },
  {
   "cell_type": "code",
   "execution_count": 2,
   "metadata": {},
   "outputs": [],
   "source": [
    "edge_count_list = ['4', '5', '6', '7']\n",
    "data_dir_model = 'graphs_all'\n",
    "train_dir = os.path.join(data_dir_model, 'train')\n",
    "validation_dir = os.path.join(data_dir_model, 'validation')\n",
    "\n",
    "# Sprawdź, czy katalogi istnieją, jeśli nie, stwórz je\n",
    "for directory in [data_dir_model, train_dir, validation_dir]:\n",
    "    if not os.path.exists(directory):\n",
    "        os.makedirs(directory)\n",
    "    else:\n",
    "        # Jeśli katalog nie jest pusty, wyczyść go\n",
    "        for file in os.listdir(directory):\n",
    "            file_path = os.path.join(directory, file)\n",
    "            try:\n",
    "                if os.path.isfile(file_path):\n",
    "                    os.unlink(file_path)\n",
    "                elif os.path.isdir(file_path): \n",
    "                    shutil.rmtree(file_path)\n",
    "            except Exception as e:\n",
    "                print(f'Nie udało się usunąć {file_path}. Powód: {e}')"
   ]
  },
  {
   "cell_type": "code",
   "execution_count": 3,
   "metadata": {},
   "outputs": [],
   "source": [
    "# Wielkość obrazów i wielkość partii\n",
    "img_height, img_width = 180, 180\n",
    "batch_size = 32"
   ]
  },
  {
   "cell_type": "markdown",
   "metadata": {},
   "source": [
    "Przenoszenie do katalogów"
   ]
  },
  {
   "cell_type": "code",
   "execution_count": 4,
   "metadata": {},
   "outputs": [],
   "source": [
    "for edge_count in edge_count_list:\n",
    "    data_dir_generated = '../graph_generator/' + edge_count\n",
    "\n",
    "    # Pobierz listę wszystkich katalogów z grafami\n",
    "    all_images_catalogs = os.listdir(data_dir_generated)\n",
    "\n",
    "    for catalog in all_images_catalogs:\n",
    "        catalog_path = os.path.join(data_dir_generated, catalog)\n",
    "        all_images = os.listdir(catalog_path)\n",
    "\n",
    "        # Podziel listę obrazów na zestawy treningowe i walidacyjne\n",
    "        train_images, validation_images = train_test_split(all_images, test_size=0.2, random_state=42)\n",
    "\n",
    "        # Stwórz katalogi dla każdej klasy\n",
    "        train_class_dir = os.path.join(train_dir, catalog)\n",
    "        validation_class_dir = os.path.join(validation_dir, catalog)\n",
    "        for directory in [train_class_dir, validation_class_dir]:\n",
    "            if not os.path.exists(directory):\n",
    "                os.makedirs(directory)\n",
    "\n",
    "        # Kopiuj obrazy do odpowiednich katalogów\n",
    "        for train_image in train_images:\n",
    "            shutil.copy(os.path.join(catalog_path, train_image), os.path.join(train_class_dir, train_image))\n",
    "\n",
    "        for validation_image in validation_images:\n",
    "            shutil.copy(os.path.join(catalog_path, validation_image), os.path.join(validation_class_dir, validation_image))"
   ]
  },
  {
   "cell_type": "markdown",
   "metadata": {},
   "source": [
    "Śmietnik????????"
   ]
  },
  {
   "cell_type": "code",
   "execution_count": 5,
   "metadata": {},
   "outputs": [],
   "source": [
    "# Pobierz listę wszystkich katalogów z grafami\n",
    "all_images_catalogs = os.listdir(data_dir_generated)\n",
    "\n",
    "for catalog in all_images_catalogs:\n",
    "    catalog_path = os.path.join(data_dir_generated, catalog)\n",
    "    all_images = os.listdir(catalog_path)\n",
    "\n",
    "    # Podziel listę obrazów na zestawy treningowe i walidacyjne\n",
    "    train_images, validation_images = train_test_split(all_images, test_size=0.2, random_state=42)\n",
    "\n",
    "    # Stwórz katalogi dla każdej klasy\n",
    "    train_class_dir = os.path.join(train_dir, catalog)\n",
    "    validation_class_dir = os.path.join(validation_dir, catalog)\n",
    "    for directory in [train_class_dir, validation_class_dir]:\n",
    "        if not os.path.exists(directory):\n",
    "            os.makedirs(directory)\n",
    "        else:\n",
    "            # Jeśli katalog nie jest pusty, wyczyść go\n",
    "            for file in os.listdir(directory):\n",
    "                os.remove(os.path.join(directory, file))\n",
    "\n",
    "    # Kopiuj obrazy do odpowiednich katalogów\n",
    "    for train_image in train_images:\n",
    "        shutil.copy(os.path.join(catalog_path, train_image), os.path.join(train_class_dir, train_image))\n",
    "\n",
    "    for validation_image in validation_images:\n",
    "        shutil.copy(os.path.join(catalog_path, validation_image), os.path.join(validation_class_dir, validation_image))"
   ]
  },
  {
   "cell_type": "code",
   "execution_count": 6,
   "metadata": {},
   "outputs": [],
   "source": [
    "def rgb_to_grayscale(images):\n",
    "    return tf.image.rgb_to_grayscale(images)"
   ]
  },
  {
   "cell_type": "markdown",
   "metadata": {},
   "source": [
    "Model"
   ]
  },
  {
   "cell_type": "code",
   "execution_count": 7,
   "metadata": {},
   "outputs": [
    {
     "name": "stdout",
     "output_type": "stream",
     "text": [
      "Found 2000 files belonging to 5 classes.\n",
      "Found 500 files belonging to 5 classes.\n"
     ]
    }
   ],
   "source": [
    "# Generowanie danych treningowych\n",
    "train_ds = tf.keras.preprocessing.image_dataset_from_directory(\n",
    "  train_dir,\n",
    "  image_size=(img_height, img_width),\n",
    "  batch_size=batch_size)\n",
    "\n",
    "class_names = train_ds.class_names\n",
    "\n",
    "train_ds = train_ds.map(lambda x, y: (rgb_to_grayscale(x), y))\n",
    "\n",
    "# Generowanie danych walidacyjnych\n",
    "val_ds = tf.keras.preprocessing.image_dataset_from_directory(\n",
    "  validation_dir,\n",
    "  image_size=(img_height, img_width),\n",
    "  batch_size=batch_size)\n",
    "\n",
    "val_ds = val_ds.map(lambda x, y: (rgb_to_grayscale(x), y))\n",
    "\n",
    "# Tworzenie modelu\n",
    "model = tf.keras.models.Sequential([\n",
    "  tf.keras.layers.Rescaling(1./255),\n",
    "  tf.keras.layers.Conv2D(32, 3, activation='relu'),\n",
    "  tf.keras.layers.MaxPooling2D(),\n",
    "  tf.keras.layers.Conv2D(32, 3, activation='relu'),\n",
    "  tf.keras.layers.MaxPooling2D(),\n",
    "  tf.keras.layers.Conv2D(32, 3, activation='relu'),\n",
    "  tf.keras.layers.MaxPooling2D(),\n",
    "  tf.keras.layers.Flatten(),\n",
    "  tf.keras.layers.Dense(128, activation='relu', kernel_regularizer=tf.keras.regularizers.l2(0.01)),\n",
    "  tf.keras.layers.Dropout(0.2),\n",
    "  tf.keras.layers.Dense(len(class_names))\n",
    "])"
   ]
  },
  {
   "cell_type": "code",
   "execution_count": 8,
   "metadata": {},
   "outputs": [
    {
     "name": "stdout",
     "output_type": "stream",
     "text": [
      "Epoch 1/75\n",
      "\u001b[1m63/63\u001b[0m \u001b[32m━━━━━━━━━━━━━━━━━━━━\u001b[0m\u001b[37m\u001b[0m \u001b[1m12s\u001b[0m 166ms/step - accuracy: 0.1899 - loss: 2.5731 - val_accuracy: 0.2000 - val_loss: 1.6570\n",
      "Epoch 2/75\n",
      "\u001b[1m63/63\u001b[0m \u001b[32m━━━━━━━━━━━━━━━━━━━━\u001b[0m\u001b[37m\u001b[0m \u001b[1m9s\u001b[0m 139ms/step - accuracy: 0.2951 - loss: 1.6209 - val_accuracy: 0.9720 - val_loss: 0.7520\n",
      "Epoch 3/75\n",
      "\u001b[1m63/63\u001b[0m \u001b[32m━━━━━━━━━━━━━━━━━━━━\u001b[0m\u001b[37m\u001b[0m \u001b[1m9s\u001b[0m 139ms/step - accuracy: 0.8510 - loss: 0.5573 - val_accuracy: 0.8060 - val_loss: 0.9337\n",
      "Epoch 4/75\n",
      "\u001b[1m63/63\u001b[0m \u001b[32m━━━━━━━━━━━━━━━━━━━━\u001b[0m\u001b[37m\u001b[0m \u001b[1m9s\u001b[0m 139ms/step - accuracy: 0.9339 - loss: 0.3280 - val_accuracy: 0.9980 - val_loss: 0.1476\n",
      "Epoch 5/75\n",
      "\u001b[1m63/63\u001b[0m \u001b[32m━━━━━━━━━━━━━━━━━━━━\u001b[0m\u001b[37m\u001b[0m \u001b[1m9s\u001b[0m 139ms/step - accuracy: 0.9749 - loss: 0.2046 - val_accuracy: 0.9880 - val_loss: 0.1289\n",
      "Epoch 6/75\n",
      "\u001b[1m63/63\u001b[0m \u001b[32m━━━━━━━━━━━━━━━━━━━━\u001b[0m\u001b[37m\u001b[0m \u001b[1m9s\u001b[0m 138ms/step - accuracy: 0.9760 - loss: 0.1613 - val_accuracy: 0.9960 - val_loss: 0.1022\n",
      "Epoch 7/75\n",
      "\u001b[1m63/63\u001b[0m \u001b[32m━━━━━━━━━━━━━━━━━━━━\u001b[0m\u001b[37m\u001b[0m \u001b[1m9s\u001b[0m 139ms/step - accuracy: 0.9842 - loss: 0.1375 - val_accuracy: 0.9860 - val_loss: 0.1158\n",
      "Epoch 8/75\n",
      "\u001b[1m63/63\u001b[0m \u001b[32m━━━━━━━━━━━━━━━━━━━━\u001b[0m\u001b[37m\u001b[0m \u001b[1m9s\u001b[0m 138ms/step - accuracy: 0.9791 - loss: 0.1492 - val_accuracy: 0.9960 - val_loss: 0.0897\n",
      "Epoch 9/75\n",
      "\u001b[1m63/63\u001b[0m \u001b[32m━━━━━━━━━━━━━━━━━━━━\u001b[0m\u001b[37m\u001b[0m \u001b[1m9s\u001b[0m 138ms/step - accuracy: 0.9870 - loss: 0.1229 - val_accuracy: 1.0000 - val_loss: 0.0703\n",
      "Epoch 10/75\n",
      "\u001b[1m63/63\u001b[0m \u001b[32m━━━━━━━━━━━━━━━━━━━━\u001b[0m\u001b[37m\u001b[0m \u001b[1m9s\u001b[0m 139ms/step - accuracy: 0.9897 - loss: 0.1030 - val_accuracy: 0.9780 - val_loss: 0.1206\n",
      "Epoch 11/75\n",
      "\u001b[1m63/63\u001b[0m \u001b[32m━━━━━━━━━━━━━━━━━━━━\u001b[0m\u001b[37m\u001b[0m \u001b[1m9s\u001b[0m 139ms/step - accuracy: 0.9634 - loss: 0.1804 - val_accuracy: 0.9880 - val_loss: 0.1208\n",
      "Epoch 12/75\n",
      "\u001b[1m63/63\u001b[0m \u001b[32m━━━━━━━━━━━━━━━━━━━━\u001b[0m\u001b[37m\u001b[0m \u001b[1m9s\u001b[0m 139ms/step - accuracy: 0.9823 - loss: 0.1231 - val_accuracy: 0.9960 - val_loss: 0.0755\n",
      "Epoch 13/75\n",
      "\u001b[1m63/63\u001b[0m \u001b[32m━━━━━━━━━━━━━━━━━━━━\u001b[0m\u001b[37m\u001b[0m \u001b[1m9s\u001b[0m 140ms/step - accuracy: 0.9940 - loss: 0.0926 - val_accuracy: 0.9920 - val_loss: 0.0730\n",
      "Epoch 14/75\n",
      "\u001b[1m63/63\u001b[0m \u001b[32m━━━━━━━━━━━━━━━━━━━━\u001b[0m\u001b[37m\u001b[0m \u001b[1m9s\u001b[0m 140ms/step - accuracy: 0.9912 - loss: 0.0874 - val_accuracy: 0.9940 - val_loss: 0.0714\n",
      "Epoch 15/75\n",
      "\u001b[1m63/63\u001b[0m \u001b[32m━━━━━━━━━━━━━━━━━━━━\u001b[0m\u001b[37m\u001b[0m \u001b[1m9s\u001b[0m 139ms/step - accuracy: 0.9885 - loss: 0.0895 - val_accuracy: 0.9020 - val_loss: 0.3942\n",
      "Epoch 16/75\n",
      "\u001b[1m63/63\u001b[0m \u001b[32m━━━━━━━━━━━━━━━━━━━━\u001b[0m\u001b[37m\u001b[0m \u001b[1m9s\u001b[0m 144ms/step - accuracy: 0.8846 - loss: 0.5126 - val_accuracy: 0.9840 - val_loss: 0.1799\n",
      "Epoch 17/75\n",
      "\u001b[1m63/63\u001b[0m \u001b[32m━━━━━━━━━━━━━━━━━━━━\u001b[0m\u001b[37m\u001b[0m \u001b[1m9s\u001b[0m 139ms/step - accuracy: 0.9755 - loss: 0.1903 - val_accuracy: 0.9920 - val_loss: 0.1400\n",
      "Epoch 18/75\n",
      "\u001b[1m63/63\u001b[0m \u001b[32m━━━━━━━━━━━━━━━━━━━━\u001b[0m\u001b[37m\u001b[0m \u001b[1m9s\u001b[0m 141ms/step - accuracy: 0.9804 - loss: 0.1592 - val_accuracy: 0.9940 - val_loss: 0.1089\n",
      "Epoch 19/75\n",
      "\u001b[1m63/63\u001b[0m \u001b[32m━━━━━━━━━━━━━━━━━━━━\u001b[0m\u001b[37m\u001b[0m \u001b[1m9s\u001b[0m 139ms/step - accuracy: 0.9856 - loss: 0.1493 - val_accuracy: 0.9920 - val_loss: 0.1120\n",
      "Epoch 20/75\n",
      "\u001b[1m63/63\u001b[0m \u001b[32m━━━━━━━━━━━━━━━━━━━━\u001b[0m\u001b[37m\u001b[0m \u001b[1m9s\u001b[0m 140ms/step - accuracy: 0.9833 - loss: 0.1387 - val_accuracy: 0.9620 - val_loss: 0.2162\n",
      "Epoch 21/75\n",
      "\u001b[1m63/63\u001b[0m \u001b[32m━━━━━━━━━━━━━━━━━━━━\u001b[0m\u001b[37m\u001b[0m \u001b[1m9s\u001b[0m 139ms/step - accuracy: 0.9717 - loss: 0.1777 - val_accuracy: 0.9860 - val_loss: 0.1253\n",
      "Epoch 22/75\n",
      "\u001b[1m63/63\u001b[0m \u001b[32m━━━━━━━━━━━━━━━━━━━━\u001b[0m\u001b[37m\u001b[0m \u001b[1m9s\u001b[0m 139ms/step - accuracy: 0.9966 - loss: 0.1123 - val_accuracy: 0.9860 - val_loss: 0.1244\n",
      "Epoch 23/75\n",
      "\u001b[1m63/63\u001b[0m \u001b[32m━━━━━━━━━━━━━━━━━━━━\u001b[0m\u001b[37m\u001b[0m \u001b[1m9s\u001b[0m 140ms/step - accuracy: 0.9831 - loss: 0.1269 - val_accuracy: 0.9880 - val_loss: 0.1063\n",
      "Epoch 24/75\n",
      "\u001b[1m63/63\u001b[0m \u001b[32m━━━━━━━━━━━━━━━━━━━━\u001b[0m\u001b[37m\u001b[0m \u001b[1m9s\u001b[0m 139ms/step - accuracy: 0.9838 - loss: 0.1183 - val_accuracy: 0.9900 - val_loss: 0.0954\n",
      "Epoch 25/75\n",
      "\u001b[1m63/63\u001b[0m \u001b[32m━━━━━━━━━━━━━━━━━━━━\u001b[0m\u001b[37m\u001b[0m \u001b[1m9s\u001b[0m 139ms/step - accuracy: 0.9826 - loss: 0.1419 - val_accuracy: 0.9800 - val_loss: 0.1766\n",
      "Epoch 26/75\n",
      "\u001b[1m63/63\u001b[0m \u001b[32m━━━━━━━━━━━━━━━━━━━━\u001b[0m\u001b[37m\u001b[0m \u001b[1m9s\u001b[0m 138ms/step - accuracy: 0.9921 - loss: 0.1432 - val_accuracy: 0.9920 - val_loss: 0.1135\n",
      "Epoch 27/75\n",
      "\u001b[1m63/63\u001b[0m \u001b[32m━━━━━━━━━━━━━━━━━━━━\u001b[0m\u001b[37m\u001b[0m \u001b[1m9s\u001b[0m 139ms/step - accuracy: 0.9927 - loss: 0.1097 - val_accuracy: 0.9800 - val_loss: 0.1401\n",
      "Epoch 28/75\n",
      "\u001b[1m63/63\u001b[0m \u001b[32m━━━━━━━━━━━━━━━━━━━━\u001b[0m\u001b[37m\u001b[0m \u001b[1m9s\u001b[0m 139ms/step - accuracy: 0.9914 - loss: 0.1075 - val_accuracy: 1.0000 - val_loss: 0.0747\n",
      "Epoch 29/75\n",
      "\u001b[1m63/63\u001b[0m \u001b[32m━━━━━━━━━━━━━━━━━━━━\u001b[0m\u001b[37m\u001b[0m \u001b[1m9s\u001b[0m 139ms/step - accuracy: 0.9901 - loss: 0.1137 - val_accuracy: 0.9960 - val_loss: 0.0847\n",
      "Epoch 30/75\n",
      "\u001b[1m63/63\u001b[0m \u001b[32m━━━━━━━━━━━━━━━━━━━━\u001b[0m\u001b[37m\u001b[0m \u001b[1m9s\u001b[0m 142ms/step - accuracy: 0.9954 - loss: 0.0875 - val_accuracy: 0.9700 - val_loss: 0.1572\n",
      "Epoch 31/75\n",
      "\u001b[1m63/63\u001b[0m \u001b[32m━━━━━━━━━━━━━━━━━━━━\u001b[0m\u001b[37m\u001b[0m \u001b[1m9s\u001b[0m 139ms/step - accuracy: 0.9855 - loss: 0.1672 - val_accuracy: 0.9880 - val_loss: 0.1052\n",
      "Epoch 32/75\n",
      "\u001b[1m63/63\u001b[0m \u001b[32m━━━━━━━━━━━━━━━━━━━━\u001b[0m\u001b[37m\u001b[0m \u001b[1m9s\u001b[0m 139ms/step - accuracy: 0.9924 - loss: 0.1020 - val_accuracy: 0.9940 - val_loss: 0.0939\n",
      "Epoch 33/75\n",
      "\u001b[1m63/63\u001b[0m \u001b[32m━━━━━━━━━━━━━━━━━━━━\u001b[0m\u001b[37m\u001b[0m \u001b[1m9s\u001b[0m 139ms/step - accuracy: 0.9978 - loss: 0.0782 - val_accuracy: 0.9940 - val_loss: 0.0651\n",
      "Epoch 34/75\n",
      "\u001b[1m63/63\u001b[0m \u001b[32m━━━━━━━━━━━━━━━━━━━━\u001b[0m\u001b[37m\u001b[0m \u001b[1m9s\u001b[0m 139ms/step - accuracy: 0.9982 - loss: 0.0632 - val_accuracy: 0.9840 - val_loss: 0.0921\n",
      "Epoch 35/75\n",
      "\u001b[1m63/63\u001b[0m \u001b[32m━━━━━━━━━━━━━━━━━━━━\u001b[0m\u001b[37m\u001b[0m \u001b[1m9s\u001b[0m 140ms/step - accuracy: 0.9716 - loss: 0.1495 - val_accuracy: 0.9900 - val_loss: 0.1089\n",
      "Epoch 36/75\n",
      "\u001b[1m63/63\u001b[0m \u001b[32m━━━━━━━━━━━━━━━━━━━━\u001b[0m\u001b[37m\u001b[0m \u001b[1m9s\u001b[0m 139ms/step - accuracy: 0.9943 - loss: 0.0987 - val_accuracy: 0.9960 - val_loss: 0.0734\n",
      "Epoch 37/75\n",
      "\u001b[1m63/63\u001b[0m \u001b[32m━━━━━━━━━━━━━━━━━━━━\u001b[0m\u001b[37m\u001b[0m \u001b[1m9s\u001b[0m 140ms/step - accuracy: 0.9943 - loss: 0.0725 - val_accuracy: 0.9900 - val_loss: 0.0781\n",
      "Epoch 38/75\n",
      "\u001b[1m63/63\u001b[0m \u001b[32m━━━━━━━━━━━━━━━━━━━━\u001b[0m\u001b[37m\u001b[0m \u001b[1m9s\u001b[0m 139ms/step - accuracy: 0.9936 - loss: 0.0803 - val_accuracy: 0.9940 - val_loss: 0.0637\n",
      "Epoch 39/75\n",
      "\u001b[1m63/63\u001b[0m \u001b[32m━━━━━━━━━━━━━━━━━━━━\u001b[0m\u001b[37m\u001b[0m \u001b[1m9s\u001b[0m 139ms/step - accuracy: 0.9978 - loss: 0.0497 - val_accuracy: 0.9960 - val_loss: 0.0539\n",
      "Epoch 40/75\n",
      "\u001b[1m63/63\u001b[0m \u001b[32m━━━━━━━━━━━━━━━━━━━━\u001b[0m\u001b[37m\u001b[0m \u001b[1m9s\u001b[0m 140ms/step - accuracy: 0.9957 - loss: 0.0547 - val_accuracy: 0.9560 - val_loss: 0.1907\n",
      "Epoch 41/75\n",
      "\u001b[1m63/63\u001b[0m \u001b[32m━━━━━━━━━━━━━━━━━━━━\u001b[0m\u001b[37m\u001b[0m \u001b[1m9s\u001b[0m 139ms/step - accuracy: 0.9695 - loss: 0.1483 - val_accuracy: 0.9540 - val_loss: 0.1942\n",
      "Epoch 42/75\n",
      "\u001b[1m63/63\u001b[0m \u001b[32m━━━━━━━━━━━━━━━━━━━━\u001b[0m\u001b[37m\u001b[0m \u001b[1m9s\u001b[0m 139ms/step - accuracy: 0.9721 - loss: 0.1447 - val_accuracy: 0.9920 - val_loss: 0.1007\n",
      "Epoch 43/75\n",
      "\u001b[1m63/63\u001b[0m \u001b[32m━━━━━━━━━━━━━━━━━━━━\u001b[0m\u001b[37m\u001b[0m \u001b[1m9s\u001b[0m 141ms/step - accuracy: 0.9933 - loss: 0.0987 - val_accuracy: 0.9960 - val_loss: 0.0766\n",
      "Epoch 44/75\n",
      "\u001b[1m63/63\u001b[0m \u001b[32m━━━━━━━━━━━━━━━━━━━━\u001b[0m\u001b[37m\u001b[0m \u001b[1m9s\u001b[0m 139ms/step - accuracy: 0.9950 - loss: 0.0750 - val_accuracy: 0.9940 - val_loss: 0.0794\n",
      "Epoch 45/75\n",
      "\u001b[1m63/63\u001b[0m \u001b[32m━━━━━━━━━━━━━━━━━━━━\u001b[0m\u001b[37m\u001b[0m \u001b[1m9s\u001b[0m 139ms/step - accuracy: 0.9992 - loss: 0.0625 - val_accuracy: 0.9600 - val_loss: 0.1668\n",
      "Epoch 46/75\n",
      "\u001b[1m63/63\u001b[0m \u001b[32m━━━━━━━━━━━━━━━━━━━━\u001b[0m\u001b[37m\u001b[0m \u001b[1m9s\u001b[0m 139ms/step - accuracy: 0.9963 - loss: 0.0801 - val_accuracy: 0.9940 - val_loss: 0.0715\n",
      "Epoch 47/75\n",
      "\u001b[1m63/63\u001b[0m \u001b[32m━━━━━━━━━━━━━━━━━━━━\u001b[0m\u001b[37m\u001b[0m \u001b[1m9s\u001b[0m 140ms/step - accuracy: 0.9914 - loss: 0.0805 - val_accuracy: 0.9940 - val_loss: 0.0686\n",
      "Epoch 48/75\n",
      "\u001b[1m63/63\u001b[0m \u001b[32m━━━━━━━━━━━━━━━━━━━━\u001b[0m\u001b[37m\u001b[0m \u001b[1m9s\u001b[0m 139ms/step - accuracy: 0.9969 - loss: 0.0643 - val_accuracy: 0.9980 - val_loss: 0.0564\n",
      "Epoch 49/75\n",
      "\u001b[1m63/63\u001b[0m \u001b[32m━━━━━━━━━━━━━━━━━━━━\u001b[0m\u001b[37m\u001b[0m \u001b[1m9s\u001b[0m 139ms/step - accuracy: 0.9958 - loss: 0.0597 - val_accuracy: 0.9960 - val_loss: 0.0545\n",
      "Epoch 50/75\n",
      "\u001b[1m63/63\u001b[0m \u001b[32m━━━━━━━━━━━━━━━━━━━━\u001b[0m\u001b[37m\u001b[0m \u001b[1m9s\u001b[0m 141ms/step - accuracy: 0.9998 - loss: 0.0458 - val_accuracy: 0.9960 - val_loss: 0.0399\n",
      "Epoch 51/75\n",
      "\u001b[1m63/63\u001b[0m \u001b[32m━━━━━━━━━━━━━━━━━━━━\u001b[0m\u001b[37m\u001b[0m \u001b[1m9s\u001b[0m 139ms/step - accuracy: 0.9968 - loss: 0.0376 - val_accuracy: 0.9980 - val_loss: 0.0489\n",
      "Epoch 52/75\n",
      "\u001b[1m63/63\u001b[0m \u001b[32m━━━━━━━━━━━━━━━━━━━━\u001b[0m\u001b[37m\u001b[0m \u001b[1m10s\u001b[0m 157ms/step - accuracy: 0.9963 - loss: 0.0603 - val_accuracy: 0.9940 - val_loss: 0.0634\n",
      "Epoch 53/75\n",
      "\u001b[1m63/63\u001b[0m \u001b[32m━━━━━━━━━━━━━━━━━━━━\u001b[0m\u001b[37m\u001b[0m \u001b[1m9s\u001b[0m 141ms/step - accuracy: 0.9983 - loss: 0.0537 - val_accuracy: 0.9940 - val_loss: 0.0525\n",
      "Epoch 54/75\n",
      "\u001b[1m63/63\u001b[0m \u001b[32m━━━━━━━━━━━━━━━━━━━━\u001b[0m\u001b[37m\u001b[0m \u001b[1m9s\u001b[0m 136ms/step - accuracy: 0.9943 - loss: 0.0565 - val_accuracy: 0.9980 - val_loss: 0.0426\n",
      "Epoch 55/75\n",
      "\u001b[1m63/63\u001b[0m \u001b[32m━━━━━━━━━━━━━━━━━━━━\u001b[0m\u001b[37m\u001b[0m \u001b[1m9s\u001b[0m 137ms/step - accuracy: 0.9975 - loss: 0.0436 - val_accuracy: 0.9880 - val_loss: 0.0640\n",
      "Epoch 56/75\n",
      "\u001b[1m63/63\u001b[0m \u001b[32m━━━━━━━━━━━━━━━━━━━━\u001b[0m\u001b[37m\u001b[0m \u001b[1m9s\u001b[0m 135ms/step - accuracy: 0.9738 - loss: 0.1160 - val_accuracy: 0.9860 - val_loss: 0.1189\n",
      "Epoch 57/75\n",
      "\u001b[1m63/63\u001b[0m \u001b[32m━━━━━━━━━━━━━━━━━━━━\u001b[0m\u001b[37m\u001b[0m \u001b[1m9s\u001b[0m 134ms/step - accuracy: 0.9878 - loss: 0.1104 - val_accuracy: 0.9900 - val_loss: 0.0821\n",
      "Epoch 58/75\n",
      "\u001b[1m63/63\u001b[0m \u001b[32m━━━━━━━━━━━━━━━━━━━━\u001b[0m\u001b[37m\u001b[0m \u001b[1m9s\u001b[0m 135ms/step - accuracy: 0.9945 - loss: 0.0789 - val_accuracy: 0.9920 - val_loss: 0.0719\n",
      "Epoch 59/75\n",
      "\u001b[1m63/63\u001b[0m \u001b[32m━━━━━━━━━━━━━━━━━━━━\u001b[0m\u001b[37m\u001b[0m \u001b[1m9s\u001b[0m 135ms/step - accuracy: 0.9889 - loss: 0.0960 - val_accuracy: 0.9900 - val_loss: 0.0838\n",
      "Epoch 60/75\n",
      "\u001b[1m63/63\u001b[0m \u001b[32m━━━━━━━━━━━━━━━━━━━━\u001b[0m\u001b[37m\u001b[0m \u001b[1m9s\u001b[0m 136ms/step - accuracy: 0.9972 - loss: 0.0692 - val_accuracy: 0.9960 - val_loss: 0.0544\n",
      "Epoch 61/75\n",
      "\u001b[1m63/63\u001b[0m \u001b[32m━━━━━━━━━━━━━━━━━━━━\u001b[0m\u001b[37m\u001b[0m \u001b[1m9s\u001b[0m 137ms/step - accuracy: 0.9988 - loss: 0.0509 - val_accuracy: 0.9960 - val_loss: 0.0452\n",
      "Epoch 62/75\n",
      "\u001b[1m63/63\u001b[0m \u001b[32m━━━━━━━━━━━━━━━━━━━━\u001b[0m\u001b[37m\u001b[0m \u001b[1m9s\u001b[0m 136ms/step - accuracy: 1.0000 - loss: 0.0377 - val_accuracy: 0.9940 - val_loss: 0.0383\n",
      "Epoch 63/75\n",
      "\u001b[1m63/63\u001b[0m \u001b[32m━━━━━━━━━━━━━━━━━━━━\u001b[0m\u001b[37m\u001b[0m \u001b[1m9s\u001b[0m 136ms/step - accuracy: 0.9960 - loss: 0.0364 - val_accuracy: 0.9820 - val_loss: 0.0832\n",
      "Epoch 64/75\n",
      "\u001b[1m63/63\u001b[0m \u001b[32m━━━━━━━━━━━━━━━━━━━━\u001b[0m\u001b[37m\u001b[0m \u001b[1m9s\u001b[0m 137ms/step - accuracy: 0.9870 - loss: 0.0689 - val_accuracy: 0.9960 - val_loss: 0.0626\n",
      "Epoch 65/75\n",
      "\u001b[1m63/63\u001b[0m \u001b[32m━━━━━━━━━━━━━━━━━━━━\u001b[0m\u001b[37m\u001b[0m \u001b[1m9s\u001b[0m 138ms/step - accuracy: 0.9974 - loss: 0.0570 - val_accuracy: 0.9880 - val_loss: 0.0655\n",
      "Epoch 66/75\n",
      "\u001b[1m63/63\u001b[0m \u001b[32m━━━━━━━━━━━━━━━━━━━━\u001b[0m\u001b[37m\u001b[0m \u001b[1m8s\u001b[0m 131ms/step - accuracy: 0.9987 - loss: 0.0472 - val_accuracy: 0.9900 - val_loss: 0.0544\n",
      "Epoch 67/75\n",
      "\u001b[1m63/63\u001b[0m \u001b[32m━━━━━━━━━━━━━━━━━━━━\u001b[0m\u001b[37m\u001b[0m \u001b[1m8s\u001b[0m 128ms/step - accuracy: 0.9976 - loss: 0.0450 - val_accuracy: 0.9920 - val_loss: 0.0550\n",
      "Epoch 68/75\n",
      "\u001b[1m63/63\u001b[0m \u001b[32m━━━━━━━━━━━━━━━━━━━━\u001b[0m\u001b[37m\u001b[0m \u001b[1m8s\u001b[0m 132ms/step - accuracy: 0.9997 - loss: 0.0355 - val_accuracy: 0.9920 - val_loss: 0.0461\n",
      "Epoch 69/75\n",
      "\u001b[1m63/63\u001b[0m \u001b[32m━━━━━━━━━━━━━━━━━━━━\u001b[0m\u001b[37m\u001b[0m \u001b[1m8s\u001b[0m 129ms/step - accuracy: 0.9741 - loss: 0.1338 - val_accuracy: 0.9800 - val_loss: 0.2016\n",
      "Epoch 70/75\n",
      "\u001b[1m63/63\u001b[0m \u001b[32m━━━━━━━━━━━━━━━━━━━━\u001b[0m\u001b[37m\u001b[0m \u001b[1m8s\u001b[0m 129ms/step - accuracy: 0.9798 - loss: 0.1797 - val_accuracy: 0.9920 - val_loss: 0.1057\n",
      "Epoch 71/75\n",
      "\u001b[1m63/63\u001b[0m \u001b[32m━━━━━━━━━━━━━━━━━━━━\u001b[0m\u001b[37m\u001b[0m \u001b[1m8s\u001b[0m 130ms/step - accuracy: 0.9947 - loss: 0.0959 - val_accuracy: 0.9880 - val_loss: 0.0901\n",
      "Epoch 72/75\n",
      "\u001b[1m63/63\u001b[0m \u001b[32m━━━━━━━━━━━━━━━━━━━━\u001b[0m\u001b[37m\u001b[0m \u001b[1m8s\u001b[0m 129ms/step - accuracy: 0.9902 - loss: 0.0860 - val_accuracy: 0.9920 - val_loss: 0.0739\n",
      "Epoch 73/75\n",
      "\u001b[1m63/63\u001b[0m \u001b[32m━━━━━━━━━━━━━━━━━━━━\u001b[0m\u001b[37m\u001b[0m \u001b[1m8s\u001b[0m 128ms/step - accuracy: 0.9959 - loss: 0.0639 - val_accuracy: 0.9920 - val_loss: 0.0711\n",
      "Epoch 74/75\n",
      "\u001b[1m63/63\u001b[0m \u001b[32m━━━━━━━━━━━━━━━━━━━━\u001b[0m\u001b[37m\u001b[0m \u001b[1m8s\u001b[0m 128ms/step - accuracy: 0.9979 - loss: 0.0550 - val_accuracy: 0.9920 - val_loss: 0.0603\n",
      "Epoch 75/75\n",
      "\u001b[1m63/63\u001b[0m \u001b[32m━━━━━━━━━━━━━━━━━━━━\u001b[0m\u001b[37m\u001b[0m \u001b[1m8s\u001b[0m 129ms/step - accuracy: 0.9983 - loss: 0.0473 - val_accuracy: 0.9780 - val_loss: 0.1001\n"
     ]
    }
   ],
   "source": [
    "# Kompilacja modelu\n",
    "model.compile(\n",
    "  optimizer='adam',\n",
    "  loss=tf.losses.SparseCategoricalCrossentropy(from_logits=True),\n",
    "  metrics=['accuracy'])\n",
    "\n",
    "# Trenowanie modelu\n",
    "history = model.fit(\n",
    "  train_ds,\n",
    "  validation_data=val_ds,\n",
    "  epochs=75\n",
    ")"
   ]
  },
  {
   "cell_type": "code",
   "execution_count": 9,
   "metadata": {},
   "outputs": [
    {
     "name": "stdout",
     "output_type": "stream",
     "text": [
      "Dokładność na zbiorze treningowym:  [0.18449999392032623, 0.38350000977516174, 0.9035000205039978, 0.9495000243186951, 0.9760000109672546, 0.9789999723434448, 0.9819999933242798, 0.9819999933242798, 0.984000027179718, 0.9865000247955322, 0.9725000262260437, 0.9835000038146973, 0.9909999966621399, 0.9900000095367432, 0.9764999747276306, 0.9200000166893005, 0.9739999771118164, 0.9754999876022339, 0.9800000190734863, 0.9769999980926514, 0.9760000109672546, 0.9929999709129333, 0.9850000143051147, 0.9869999885559082, 0.9660000205039978, 0.9904999732971191, 0.9919999837875366, 0.9934999942779541, 0.9894999861717224, 0.9804999828338623, 0.9915000200271606, 0.9919999837875366, 0.996999979019165, 0.9944999814033508, 0.9700000286102295, 0.9955000281333923, 0.9940000176429749, 0.9955000281333923, 0.996999979019165, 0.9810000061988831, 0.9750000238418579, 0.9819999933242798, 0.9929999709129333, 0.9959999918937683, 0.9980000257492065, 0.9980000257492065, 0.9909999966621399, 0.9950000047683716, 0.9955000281333923, 0.9994999766349792, 0.9944999814033508, 0.9940000176429749, 0.9975000023841858, 0.9965000152587891, 0.996999979019165, 0.9514999985694885, 0.9884999990463257, 0.9944999814033508, 0.9884999990463257, 0.9984999895095825, 0.9990000128746033, 1.0, 0.9955000281333923, 0.9879999756813049, 0.9980000257492065, 0.9984999895095825, 0.996999979019165, 0.9990000128746033, 0.9549999833106995, 0.9850000143051147, 0.9944999814033508, 0.9904999732971191, 0.9975000023841858, 0.9975000023841858, 0.9975000023841858]\n",
      "Dokładność na zbiorze walidacyjnym:  [0.20000000298023224, 0.972000002861023, 0.8059999942779541, 0.9980000257492065, 0.9879999756813049, 0.9959999918937683, 0.9860000014305115, 0.9959999918937683, 1.0, 0.9779999852180481, 0.9879999756813049, 0.9959999918937683, 0.9919999837875366, 0.9940000176429749, 0.9020000100135803, 0.984000027179718, 0.9919999837875366, 0.9940000176429749, 0.9919999837875366, 0.9620000123977661, 0.9860000014305115, 0.9860000014305115, 0.9879999756813049, 0.9900000095367432, 0.9800000190734863, 0.9919999837875366, 0.9800000190734863, 1.0, 0.9959999918937683, 0.9700000286102295, 0.9879999756813049, 0.9940000176429749, 0.9940000176429749, 0.984000027179718, 0.9900000095367432, 0.9959999918937683, 0.9900000095367432, 0.9940000176429749, 0.9959999918937683, 0.9559999704360962, 0.9539999961853027, 0.9919999837875366, 0.9959999918937683, 0.9940000176429749, 0.9599999785423279, 0.9940000176429749, 0.9940000176429749, 0.9980000257492065, 0.9959999918937683, 0.9959999918937683, 0.9980000257492065, 0.9940000176429749, 0.9940000176429749, 0.9980000257492065, 0.9879999756813049, 0.9860000014305115, 0.9900000095367432, 0.9919999837875366, 0.9900000095367432, 0.9959999918937683, 0.9959999918937683, 0.9940000176429749, 0.9819999933242798, 0.9959999918937683, 0.9879999756813049, 0.9900000095367432, 0.9919999837875366, 0.9919999837875366, 0.9800000190734863, 0.9919999837875366, 0.9879999756813049, 0.9919999837875366, 0.9919999837875366, 0.9919999837875366, 0.9779999852180481]\n"
     ]
    }
   ],
   "source": [
    "# Wyświetlanie dokładności na zbiorze treningowym i walidacyjnym\n",
    "acc = history.history['accuracy']\n",
    "val_acc = history.history['val_accuracy']\n",
    "print(\"Dokładność na zbiorze treningowym: \", acc)\n",
    "print(\"Dokładność na zbiorze walidacyjnym: \", val_acc)"
   ]
  },
  {
   "cell_type": "code",
   "execution_count": 10,
   "metadata": {},
   "outputs": [
    {
     "data": {
      "image/png": "[encoded data removed]",
      "text/plain": [
       "<Figure size 1200x400 with 2 Axes>"
      ]
     },
     "metadata": {},
     "output_type": "display_data"
    }
   ],
   "source": [
    "# Wykres dokładności\n",
    "plt.figure(figsize=(12, 4))\n",
    "plt.subplot(1, 2, 1)\n",
    "plt.plot(history.history['accuracy'], label='Dokładność (trening)')\n",
    "plt.plot(history.history['val_accuracy'], label='Dokładność (walidacja)')\n",
    "plt.legend(loc='lower right')\n",
    "plt.title('Dokładność modelu')\n",
    "plt.ylabel('Dokładność')\n",
    "plt.xlabel('Epoka')\n",
    "\n",
    "# Wykres straty\n",
    "plt.subplot(1, 2, 2)\n",
    "plt.plot(history.history['loss'], label='Strata (trening)')\n",
    "plt.plot(history.history['val_loss'], label='Strata (walidacja)')\n",
    "plt.legend(loc='upper right')\n",
    "plt.title('Strata modelu')\n",
    "plt.ylabel('Strata')\n",
    "plt.xlabel('Epoka')\n",
    "\n",
    "plt.show()"
   ]
  },
  {
   "cell_type": "code",
   "execution_count": 11,
   "metadata": {},
   "outputs": [],
   "source": [
    "def get_image_filenames(folder):\n",
    "    filenames = []\n",
    "    for filename in os.listdir(folder):\n",
    "        if filename.endswith(\".jpg\") or filename.endswith(\".png\"): # Add or modify to suit your image file types\n",
    "            filenames.append(filename)\n",
    "    return filenames"
   ]
  },
  {
   "cell_type": "code",
   "execution_count": 12,
   "metadata": {},
   "outputs": [
    {
     "data": {
      "text/plain": [
       "['test_graphs\\\\drawn\\\\connected-drawn-1.png',\n",
       " 'test_graphs\\\\drawn\\\\cycle-drawn-1.png',\n",
       " 'test_graphs\\\\drawn\\\\full-drawn-1.jpg',\n",
       " 'test_graphs\\\\drawn\\\\full-drawn-2.jpg',\n",
       " 'test_graphs\\\\drawn\\\\full-drawn-3.png',\n",
       " 'test_graphs\\\\drawn\\\\path-drawn-1.png',\n",
       " 'test_graphs\\\\drawn\\\\path-drawn-2.png',\n",
       " 'test_graphs\\\\drawn\\\\path-drawn-3.png',\n",
       " 'test_graphs\\\\generated\\\\cycle-45.png',\n",
       " 'test_graphs\\\\generated\\\\full-113.png',\n",
       " 'test_graphs\\\\generated\\\\path-78.png',\n",
       " 'test_graphs\\\\internet\\\\internet-cycle-1.png',\n",
       " 'test_graphs\\\\internet\\\\internet-full-1.jpg',\n",
       " 'test_graphs\\\\internet\\\\internet-full-2.jpg']"
      ]
     },
     "execution_count": 12,
     "metadata": {},
     "output_type": "execute_result"
    }
   ],
   "source": [
    "# Zmieniamy funkcję, aby przeszukiwała również podkatalogi\n",
    "def get_image_filenames(directory):\n",
    "    return [os.path.join(root, name)\n",
    "            for root, dirs, files in os.walk(directory)\n",
    "            for name in files\n",
    "            if name.endswith((\".png\", \".jpg\", \".jpeg\"))]\n",
    "\n",
    "# Ścieżka do obrazu, który chcesz przetestować\n",
    "test_photo_path = 'test_graphs'\n",
    "\n",
    "test_photos = get_image_filenames(test_photo_path)\n",
    "test_photos"
   ]
  },
  {
   "cell_type": "code",
   "execution_count": 13,
   "metadata": {},
   "outputs": [
    {
     "name": "stdout",
     "output_type": "stream",
     "text": [
      "\u001b[1m1/1\u001b[0m \u001b[32m━━━━━━━━━━━━━━━━━━━━\u001b[0m\u001b[37m\u001b[0m \u001b[1m0s\u001b[0m 66ms/step\n",
      "|- test_graphs\\drawn\\connected-drawn-1.png -| najprawdopodobniej należy do klasy |- full -| z prawdopodobieństwem 99.96 procent.\n",
      "\u001b[1m1/1\u001b[0m \u001b[32m━━━━━━━━━━━━━━━━━━━━\u001b[0m\u001b[37m\u001b[0m \u001b[1m0s\u001b[0m 17ms/step\n",
      "|- test_graphs\\drawn\\cycle-drawn-1.png -| najprawdopodobniej należy do klasy |- full -| z prawdopodobieństwem 100.00 procent.\n",
      "\u001b[1m1/1\u001b[0m \u001b[32m━━━━━━━━━━━━━━━━━━━━\u001b[0m\u001b[37m\u001b[0m \u001b[1m0s\u001b[0m 18ms/step\n",
      "|- test_graphs\\drawn\\full-drawn-1.jpg -| najprawdopodobniej należy do klasy |- full -| z prawdopodobieństwem 99.92 procent.\n",
      "\u001b[1m1/1\u001b[0m \u001b[32m━━━━━━━━━━━━━━━━━━━━\u001b[0m\u001b[37m\u001b[0m \u001b[1m0s\u001b[0m 17ms/step\n",
      "|- test_graphs\\drawn\\full-drawn-2.jpg -| najprawdopodobniej należy do klasy |- full -| z prawdopodobieństwem 100.00 procent.\n",
      "\u001b[1m1/1\u001b[0m \u001b[32m━━━━━━━━━━━━━━━━━━━━\u001b[0m\u001b[37m\u001b[0m \u001b[1m0s\u001b[0m 18ms/step\n",
      "|- test_graphs\\drawn\\full-drawn-3.png -| najprawdopodobniej należy do klasy |- full -| z prawdopodobieństwem 100.00 procent.\n",
      "\u001b[1m1/1\u001b[0m \u001b[32m━━━━━━━━━━━━━━━━━━━━\u001b[0m\u001b[37m\u001b[0m \u001b[1m0s\u001b[0m 19ms/step\n",
      "|- test_graphs\\drawn\\path-drawn-1.png -| najprawdopodobniej należy do klasy |- full -| z prawdopodobieństwem 100.00 procent.\n",
      "\u001b[1m1/1\u001b[0m \u001b[32m━━━━━━━━━━━━━━━━━━━━\u001b[0m\u001b[37m\u001b[0m \u001b[1m0s\u001b[0m 17ms/step\n",
      "|- test_graphs\\drawn\\path-drawn-2.png -| najprawdopodobniej należy do klasy |- full -| z prawdopodobieństwem 100.00 procent.\n",
      "\u001b[1m1/1\u001b[0m \u001b[32m━━━━━━━━━━━━━━━━━━━━\u001b[0m\u001b[37m\u001b[0m \u001b[1m0s\u001b[0m 17ms/step\n",
      "|- test_graphs\\drawn\\path-drawn-3.png -| najprawdopodobniej należy do klasy |- tree-binary -| z prawdopodobieństwem 98.15 procent.\n",
      "\u001b[1m1/1\u001b[0m \u001b[32m━━━━━━━━━━━━━━━━━━━━\u001b[0m\u001b[37m\u001b[0m \u001b[1m0s\u001b[0m 18ms/step\n",
      "|- test_graphs\\generated\\cycle-45.png -| najprawdopodobniej należy do klasy |- cycle -| z prawdopodobieństwem 86.66 procent.\n",
      "\u001b[1m1/1\u001b[0m \u001b[32m━━━━━━━━━━━━━━━━━━━━\u001b[0m\u001b[37m\u001b[0m \u001b[1m0s\u001b[0m 17ms/step\n",
      "|- test_graphs\\generated\\full-113.png -| najprawdopodobniej należy do klasy |- full -| z prawdopodobieństwem 99.69 procent.\n",
      "\u001b[1m1/1\u001b[0m \u001b[32m━━━━━━━━━━━━━━━━━━━━\u001b[0m\u001b[37m\u001b[0m \u001b[1m0s\u001b[0m 19ms/step\n",
      "|- test_graphs\\generated\\path-78.png -| najprawdopodobniej należy do klasy |- path -| z prawdopodobieństwem 100.00 procent.\n",
      "\u001b[1m1/1\u001b[0m \u001b[32m━━━━━━━━━━━━━━━━━━━━\u001b[0m\u001b[37m\u001b[0m \u001b[1m0s\u001b[0m 18ms/step\n",
      "|- test_graphs\\internet\\internet-cycle-1.png -| najprawdopodobniej należy do klasy |- cycle -| z prawdopodobieństwem 100.00 procent.\n",
      "\u001b[1m1/1\u001b[0m \u001b[32m━━━━━━━━━━━━━━━━━━━━\u001b[0m\u001b[37m\u001b[0m \u001b[1m0s\u001b[0m 18ms/step\n",
      "|- test_graphs\\internet\\internet-full-1.jpg -| najprawdopodobniej należy do klasy |- tree-binary -| z prawdopodobieństwem 100.00 procent.\n",
      "\u001b[1m1/1\u001b[0m \u001b[32m━━━━━━━━━━━━━━━━━━━━\u001b[0m\u001b[37m\u001b[0m \u001b[1m0s\u001b[0m 18ms/step\n",
      "|- test_graphs\\internet\\internet-full-2.jpg -| najprawdopodobniej należy do klasy |- empty -| z prawdopodobieństwem 98.84 procent.\n"
     ]
    }
   ],
   "source": [
    "for test_photo in test_photos:\n",
    "    # Wybór obrazka testowego\n",
    "    image_path = test_photo\n",
    "\n",
    "    # Wczytanie obrazu i dostosowanie go do odpowiedniego rozmiaru\n",
    "    img = tf.keras.preprocessing.image.load_img(image_path, target_size=(img_height, img_width))\n",
    "    img_array = tf.keras.preprocessing.image.img_to_array(img)\n",
    "    \n",
    "    # Przekształć obraz do skali szarości\n",
    "    img_array = rgb_to_grayscale(img_array)\n",
    "    # Rozszerz wymiary obrazu\n",
    "    img_array = tf.expand_dims(img_array, 0)\n",
    "\n",
    "    # Przewidywanie klasy obrazu\n",
    "    predictions = model.predict(img_array)\n",
    "    score = tf.nn.softmax(predictions[0])\n",
    "\n",
    "    print(\n",
    "        \"|- {} -| najprawdopodobniej należy do klasy |- {} -| z prawdopodobieństwem {:.2f} procent.\"\n",
    "        .format(test_photo, class_names[np.argmax(score)], 100 * np.max(score))\n",
    "    )"
   ]
  }
 ],
 "metadata": {
  "kernelspec": {
   "display_name": "env",
   "language": "python",
   "name": "python3"
  },
  "language_info": {
   "codemirror_mode": {
    "name": "ipython",
    "version": 3
   },
   "file_extension": ".py",
   "mimetype": "text/x-python",
   "name": "python",
   "nbconvert_exporter": "python",
   "pygments_lexer": "ipython3",
   "version": "3.10.5"
  }
 },
 "nbformat": 4,
 "nbformat_minor": 2
}
